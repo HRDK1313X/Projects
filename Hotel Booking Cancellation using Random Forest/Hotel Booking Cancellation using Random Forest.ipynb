{
 "cells": [
  {
   "cell_type": "code",
   "execution_count": 115,
   "id": "c9558292",
   "metadata": {},
   "outputs": [],
   "source": [
    "import pandas as pd\n",
    "import numpy as np\n",
    "import seaborn as sns\n",
    "import matplotlib.pyplot as plt"
   ]
  },
  {
   "cell_type": "code",
   "execution_count": 75,
   "id": "7c5d96a5",
   "metadata": {},
   "outputs": [
    {
     "data": {
      "text/html": [
       "<div>\n",
       "<style scoped>\n",
       "    .dataframe tbody tr th:only-of-type {\n",
       "        vertical-align: middle;\n",
       "    }\n",
       "\n",
       "    .dataframe tbody tr th {\n",
       "        vertical-align: top;\n",
       "    }\n",
       "\n",
       "    .dataframe thead th {\n",
       "        text-align: right;\n",
       "    }\n",
       "</style>\n",
       "<table border=\"1\" class=\"dataframe\">\n",
       "  <thead>\n",
       "    <tr style=\"text-align: right;\">\n",
       "      <th></th>\n",
       "      <th>hotel</th>\n",
       "      <th>is_canceled</th>\n",
       "      <th>lead_time</th>\n",
       "      <th>arrival_date_year</th>\n",
       "      <th>arrival_date_month</th>\n",
       "      <th>arrival_date_week_number</th>\n",
       "      <th>arrival_date_day_of_month</th>\n",
       "      <th>stays_in_weekend_nights</th>\n",
       "      <th>stays_in_week_nights</th>\n",
       "      <th>adults</th>\n",
       "      <th>...</th>\n",
       "      <th>deposit_type</th>\n",
       "      <th>agent</th>\n",
       "      <th>company</th>\n",
       "      <th>days_in_waiting_list</th>\n",
       "      <th>customer_type</th>\n",
       "      <th>adr</th>\n",
       "      <th>required_car_parking_spaces</th>\n",
       "      <th>total_of_special_requests</th>\n",
       "      <th>reservation_status</th>\n",
       "      <th>reservation_status_date</th>\n",
       "    </tr>\n",
       "  </thead>\n",
       "  <tbody>\n",
       "    <tr>\n",
       "      <th>0</th>\n",
       "      <td>Resort Hotel</td>\n",
       "      <td>0</td>\n",
       "      <td>342</td>\n",
       "      <td>2015</td>\n",
       "      <td>July</td>\n",
       "      <td>27</td>\n",
       "      <td>1</td>\n",
       "      <td>0</td>\n",
       "      <td>0</td>\n",
       "      <td>2</td>\n",
       "      <td>...</td>\n",
       "      <td>No Deposit</td>\n",
       "      <td>NaN</td>\n",
       "      <td>NaN</td>\n",
       "      <td>0</td>\n",
       "      <td>Transient</td>\n",
       "      <td>0.0</td>\n",
       "      <td>0</td>\n",
       "      <td>0</td>\n",
       "      <td>Check-Out</td>\n",
       "      <td>01/07/2015</td>\n",
       "    </tr>\n",
       "    <tr>\n",
       "      <th>1</th>\n",
       "      <td>Resort Hotel</td>\n",
       "      <td>0</td>\n",
       "      <td>737</td>\n",
       "      <td>2015</td>\n",
       "      <td>July</td>\n",
       "      <td>27</td>\n",
       "      <td>1</td>\n",
       "      <td>0</td>\n",
       "      <td>0</td>\n",
       "      <td>2</td>\n",
       "      <td>...</td>\n",
       "      <td>No Deposit</td>\n",
       "      <td>NaN</td>\n",
       "      <td>NaN</td>\n",
       "      <td>0</td>\n",
       "      <td>Transient</td>\n",
       "      <td>0.0</td>\n",
       "      <td>0</td>\n",
       "      <td>0</td>\n",
       "      <td>Check-Out</td>\n",
       "      <td>01/07/2015</td>\n",
       "    </tr>\n",
       "    <tr>\n",
       "      <th>2</th>\n",
       "      <td>Resort Hotel</td>\n",
       "      <td>0</td>\n",
       "      <td>7</td>\n",
       "      <td>2015</td>\n",
       "      <td>July</td>\n",
       "      <td>27</td>\n",
       "      <td>1</td>\n",
       "      <td>0</td>\n",
       "      <td>1</td>\n",
       "      <td>1</td>\n",
       "      <td>...</td>\n",
       "      <td>No Deposit</td>\n",
       "      <td>NaN</td>\n",
       "      <td>NaN</td>\n",
       "      <td>0</td>\n",
       "      <td>Transient</td>\n",
       "      <td>75.0</td>\n",
       "      <td>0</td>\n",
       "      <td>0</td>\n",
       "      <td>Check-Out</td>\n",
       "      <td>02/07/2015</td>\n",
       "    </tr>\n",
       "    <tr>\n",
       "      <th>3</th>\n",
       "      <td>Resort Hotel</td>\n",
       "      <td>0</td>\n",
       "      <td>13</td>\n",
       "      <td>2015</td>\n",
       "      <td>July</td>\n",
       "      <td>27</td>\n",
       "      <td>1</td>\n",
       "      <td>0</td>\n",
       "      <td>1</td>\n",
       "      <td>1</td>\n",
       "      <td>...</td>\n",
       "      <td>No Deposit</td>\n",
       "      <td>304.0</td>\n",
       "      <td>NaN</td>\n",
       "      <td>0</td>\n",
       "      <td>Transient</td>\n",
       "      <td>75.0</td>\n",
       "      <td>0</td>\n",
       "      <td>0</td>\n",
       "      <td>Check-Out</td>\n",
       "      <td>02/07/2015</td>\n",
       "    </tr>\n",
       "    <tr>\n",
       "      <th>4</th>\n",
       "      <td>Resort Hotel</td>\n",
       "      <td>0</td>\n",
       "      <td>14</td>\n",
       "      <td>2015</td>\n",
       "      <td>July</td>\n",
       "      <td>27</td>\n",
       "      <td>1</td>\n",
       "      <td>0</td>\n",
       "      <td>2</td>\n",
       "      <td>2</td>\n",
       "      <td>...</td>\n",
       "      <td>No Deposit</td>\n",
       "      <td>240.0</td>\n",
       "      <td>NaN</td>\n",
       "      <td>0</td>\n",
       "      <td>Transient</td>\n",
       "      <td>98.0</td>\n",
       "      <td>0</td>\n",
       "      <td>1</td>\n",
       "      <td>Check-Out</td>\n",
       "      <td>03/07/2015</td>\n",
       "    </tr>\n",
       "  </tbody>\n",
       "</table>\n",
       "<p>5 rows × 32 columns</p>\n",
       "</div>"
      ],
      "text/plain": [
       "          hotel  is_canceled  lead_time  arrival_date_year arrival_date_month  \\\n",
       "0  Resort Hotel            0        342               2015               July   \n",
       "1  Resort Hotel            0        737               2015               July   \n",
       "2  Resort Hotel            0          7               2015               July   \n",
       "3  Resort Hotel            0         13               2015               July   \n",
       "4  Resort Hotel            0         14               2015               July   \n",
       "\n",
       "   arrival_date_week_number  arrival_date_day_of_month  \\\n",
       "0                        27                          1   \n",
       "1                        27                          1   \n",
       "2                        27                          1   \n",
       "3                        27                          1   \n",
       "4                        27                          1   \n",
       "\n",
       "   stays_in_weekend_nights  stays_in_week_nights  adults  ...  deposit_type  \\\n",
       "0                        0                     0       2  ...    No Deposit   \n",
       "1                        0                     0       2  ...    No Deposit   \n",
       "2                        0                     1       1  ...    No Deposit   \n",
       "3                        0                     1       1  ...    No Deposit   \n",
       "4                        0                     2       2  ...    No Deposit   \n",
       "\n",
       "   agent company days_in_waiting_list customer_type   adr  \\\n",
       "0    NaN     NaN                    0     Transient   0.0   \n",
       "1    NaN     NaN                    0     Transient   0.0   \n",
       "2    NaN     NaN                    0     Transient  75.0   \n",
       "3  304.0     NaN                    0     Transient  75.0   \n",
       "4  240.0     NaN                    0     Transient  98.0   \n",
       "\n",
       "   required_car_parking_spaces  total_of_special_requests  reservation_status  \\\n",
       "0                            0                          0           Check-Out   \n",
       "1                            0                          0           Check-Out   \n",
       "2                            0                          0           Check-Out   \n",
       "3                            0                          0           Check-Out   \n",
       "4                            0                          1           Check-Out   \n",
       "\n",
       "  reservation_status_date  \n",
       "0              01/07/2015  \n",
       "1              01/07/2015  \n",
       "2              02/07/2015  \n",
       "3              02/07/2015  \n",
       "4              03/07/2015  \n",
       "\n",
       "[5 rows x 32 columns]"
      ]
     },
     "execution_count": 75,
     "metadata": {},
     "output_type": "execute_result"
    }
   ],
   "source": [
    "df = pd.read_csv('Python_Project_9_Ran.csv')\n",
    "df.head()"
   ]
  },
  {
   "cell_type": "code",
   "execution_count": 76,
   "id": "cf45bf07",
   "metadata": {},
   "outputs": [
    {
     "data": {
      "text/plain": [
       "Index(['hotel', 'is_canceled', 'lead_time', 'arrival_date_year',\n",
       "       'arrival_date_month', 'arrival_date_week_number',\n",
       "       'arrival_date_day_of_month', 'stays_in_weekend_nights',\n",
       "       'stays_in_week_nights', 'adults', 'children', 'babies', 'meal',\n",
       "       'country', 'market_segment', 'distribution_channel',\n",
       "       'is_repeated_guest', 'previous_cancellations',\n",
       "       'previous_bookings_not_canceled', 'reserved_room_type',\n",
       "       'assigned_room_type', 'booking_changes', 'deposit_type', 'agent',\n",
       "       'company', 'days_in_waiting_list', 'customer_type', 'adr',\n",
       "       'required_car_parking_spaces', 'total_of_special_requests',\n",
       "       'reservation_status', 'reservation_status_date'],\n",
       "      dtype='object')"
      ]
     },
     "execution_count": 76,
     "metadata": {},
     "output_type": "execute_result"
    }
   ],
   "source": [
    "df.columns"
   ]
  },
  {
   "cell_type": "code",
   "execution_count": 77,
   "id": "26154bcc",
   "metadata": {},
   "outputs": [
    {
     "name": "stdout",
     "output_type": "stream",
     "text": [
      "<class 'pandas.core.frame.DataFrame'>\n",
      "RangeIndex: 119390 entries, 0 to 119389\n",
      "Data columns (total 32 columns):\n",
      " #   Column                          Non-Null Count   Dtype  \n",
      "---  ------                          --------------   -----  \n",
      " 0   hotel                           119390 non-null  object \n",
      " 1   is_canceled                     119390 non-null  int64  \n",
      " 2   lead_time                       119390 non-null  int64  \n",
      " 3   arrival_date_year               119390 non-null  int64  \n",
      " 4   arrival_date_month              119390 non-null  object \n",
      " 5   arrival_date_week_number        119390 non-null  int64  \n",
      " 6   arrival_date_day_of_month       119390 non-null  int64  \n",
      " 7   stays_in_weekend_nights         119390 non-null  int64  \n",
      " 8   stays_in_week_nights            119390 non-null  int64  \n",
      " 9   adults                          119390 non-null  int64  \n",
      " 10  children                        119386 non-null  float64\n",
      " 11  babies                          119390 non-null  int64  \n",
      " 12  meal                            119390 non-null  object \n",
      " 13  country                         118902 non-null  object \n",
      " 14  market_segment                  119390 non-null  object \n",
      " 15  distribution_channel            119390 non-null  object \n",
      " 16  is_repeated_guest               119390 non-null  int64  \n",
      " 17  previous_cancellations          119390 non-null  int64  \n",
      " 18  previous_bookings_not_canceled  119390 non-null  int64  \n",
      " 19  reserved_room_type              119390 non-null  object \n",
      " 20  assigned_room_type              119390 non-null  object \n",
      " 21  booking_changes                 119390 non-null  int64  \n",
      " 22  deposit_type                    119390 non-null  object \n",
      " 23  agent                           103050 non-null  float64\n",
      " 24  company                         6797 non-null    float64\n",
      " 25  days_in_waiting_list            119390 non-null  int64  \n",
      " 26  customer_type                   119390 non-null  object \n",
      " 27  adr                             119390 non-null  float64\n",
      " 28  required_car_parking_spaces     119390 non-null  int64  \n",
      " 29  total_of_special_requests       119390 non-null  int64  \n",
      " 30  reservation_status              119390 non-null  object \n",
      " 31  reservation_status_date         119390 non-null  object \n",
      "dtypes: float64(4), int64(16), object(12)\n",
      "memory usage: 29.1+ MB\n"
     ]
    }
   ],
   "source": [
    "df.info()"
   ]
  },
  {
   "cell_type": "code",
   "execution_count": 78,
   "id": "437aacdf",
   "metadata": {},
   "outputs": [
    {
     "name": "stdout",
     "output_type": "stream",
     "text": [
      "['Resort Hotel' 'City Hotel']\n",
      "['July' 'August' 'September' 'October' 'November' 'December' 'January'\n",
      " 'February' 'March' 'April' 'May' 'June']\n",
      "['BB' 'FB' 'HB' 'SC' 'Undefined']\n",
      "['PRT' 'GBR' 'USA' 'ESP' 'IRL' 'FRA' nan 'ROU' 'NOR' 'OMN' 'ARG' 'POL'\n",
      " 'DEU' 'BEL' 'CHE' 'CN' 'GRC' 'ITA' 'NLD' 'DNK' 'RUS' 'SWE' 'AUS' 'EST'\n",
      " 'CZE' 'BRA' 'FIN' 'MOZ' 'BWA' 'LUX' 'SVN' 'ALB' 'IND' 'CHN' 'MEX' 'MAR'\n",
      " 'UKR' 'SMR' 'LVA' 'PRI' 'SRB' 'CHL' 'AUT' 'BLR' 'LTU' 'TUR' 'ZAF' 'AGO'\n",
      " 'ISR' 'CYM' 'ZMB' 'CPV' 'ZWE' 'DZA' 'KOR' 'CRI' 'HUN' 'ARE' 'TUN' 'JAM'\n",
      " 'HRV' 'HKG' 'IRN' 'GEO' 'AND' 'GIB' 'URY' 'JEY' 'CAF' 'CYP' 'COL' 'GGY'\n",
      " 'KWT' 'NGA' 'MDV' 'VEN' 'SVK' 'FJI' 'KAZ' 'PAK' 'IDN' 'LBN' 'PHL' 'SEN'\n",
      " 'SYC' 'AZE' 'BHR' 'NZL' 'THA' 'DOM' 'MKD' 'MYS' 'ARM' 'JPN' 'LKA' 'CUB'\n",
      " 'CMR' 'BIH' 'MUS' 'COM' 'SUR' 'UGA' 'BGR' 'CIV' 'JOR' 'SYR' 'SGP' 'BDI'\n",
      " 'SAU' 'VNM' 'PLW' 'QAT' 'EGY' 'PER' 'MLT' 'MWI' 'ECU' 'MDG' 'ISL' 'UZB'\n",
      " 'NPL' 'BHS' 'MAC' 'TGO' 'TWN' 'DJI' 'STP' 'KNA' 'ETH' 'IRQ' 'HND' 'RWA'\n",
      " 'KHM' 'MCO' 'BGD' 'IMN' 'TJK' 'NIC' 'BEN' 'VGB' 'TZA' 'GAB' 'GHA' 'TMP'\n",
      " 'GLP' 'KEN' 'LIE' 'GNB' 'MNE' 'UMI' 'MYT' 'FRO' 'MMR' 'PAN' 'BFA' 'LBY'\n",
      " 'MLI' 'NAM' 'BOL' 'PRY' 'BRB' 'ABW' 'AIA' 'SLV' 'DMA' 'PYF' 'GUY' 'LCA'\n",
      " 'ATA' 'GTM' 'ASM' 'MRT' 'NCL' 'KIR' 'SDN' 'ATF' 'SLE' 'LAO']\n",
      "['Direct' 'Corporate' 'Online TA' 'Offline TA/TO' 'Complementary' 'Groups'\n",
      " 'Undefined' 'Aviation']\n",
      "['Direct' 'Corporate' 'TA/TO' 'Undefined' 'GDS']\n",
      "['C' 'A' 'D' 'E' 'G' 'F' 'H' 'L' 'P' 'B']\n",
      "['C' 'A' 'D' 'E' 'G' 'F' 'I' 'B' 'H' 'P' 'L' 'K']\n",
      "['No Deposit' 'Refundable' 'Non Refund']\n",
      "['Transient' 'Contract' 'Transient-Party' 'Group']\n",
      "['Check-Out' 'Canceled' 'No-Show']\n",
      "['01/07/2015' '02/07/2015' '03/07/2015' '06/05/2015' '22/04/2015'\n",
      " '23/06/2015' '05/07/2015' '06/07/2015' '07/07/2015' '08/07/2015'\n",
      " '11/05/2015' '15/07/2015' '16/07/2015' '29/05/2015' '19/05/2015'\n",
      " '19/06/2015' '23/05/2015' '18/05/2015' '09/07/2015' '02/06/2015'\n",
      " '13/07/2015' '04/07/2015' '29/06/2015' '16/06/2015' '18/06/2015'\n",
      " '12/06/2015' '09/06/2015' '26/05/2015' '11/07/2015' '12/07/2015'\n",
      " '17/07/2015' '15/04/2015' '13/05/2015' '10/07/2015' '20/05/2015'\n",
      " '12/05/2015' '14/07/2015' '17/06/2015' '01/05/2015' '30/03/2015'\n",
      " '19/07/2015' '03/06/2015' '26/06/2015' '14/05/2015' '20/07/2015'\n",
      " '07/05/2015' '28/05/2015' '13/04/2015' '25/03/2015' '21/07/2015'\n",
      " '27/06/2015' '18/07/2015' '23/07/2015' '08/06/2015' '22/06/2015'\n",
      " '24/06/2015' '05/03/2015' '01/06/2015' '24/04/2015' '22/07/2015'\n",
      " '27/05/2015' '06/04/2015' '11/04/2015' '25/07/2015' '28/07/2015'\n",
      " '29/07/2015' '25/06/2015' '24/07/2015' '05/06/2015' '30/06/2015'\n",
      " '13/06/2015' '11/06/2015' '30/07/2015' '27/07/2015' '29/04/2015'\n",
      " '04/06/2015' '26/07/2015' '01/08/2015' '02/08/2015' '15/06/2015'\n",
      " '23/04/2015' '31/07/2015' '25/05/2015' '03/08/2015' '17/04/2015'\n",
      " '04/08/2015' '06/08/2015' '15/05/2015' '09/05/2015' '17/03/2015'\n",
      " '22/05/2015' '07/08/2015' '04/04/2015' '05/08/2015' '08/08/2015'\n",
      " '10/08/2015' '04/05/2015' '06/06/2015' '09/08/2015' '15/08/2015'\n",
      " '11/08/2015' '28/03/2015' '14/08/2015' '12/08/2015' '16/08/2015'\n",
      " '16/05/2015' '21/08/2015' '13/08/2015' '17/08/2015' '20/04/2015'\n",
      " '18/08/2015' '23/08/2015' '22/08/2015' '19/08/2015' '20/08/2015'\n",
      " '29/08/2015' '31/03/2015' '30/05/2015' '25/08/2015' '14/04/2015'\n",
      " '24/08/2015' '24/03/2015' '21/05/2015' '28/08/2015' '26/08/2015'\n",
      " '27/08/2015' '30/08/2015' '31/08/2015' '06/09/2015' '03/09/2015'\n",
      " '04/09/2015' '02/09/2015' '01/09/2015' '05/09/2015' '20/06/2015'\n",
      " '07/09/2015' '10/09/2015' '11/09/2015' '08/09/2015' '09/09/2015'\n",
      " '13/09/2015' '15/09/2015' '10/04/2015' '02/01/2015' '18/11/2014'\n",
      " '12/09/2015' '17/09/2015' '14/09/2015' '07/04/2015' '19/09/2015'\n",
      " '16/09/2015' '20/09/2015' '18/01/2015' '23/10/2015' '22/01/2015'\n",
      " '01/01/2015' '22/09/2015' '24/09/2015' '18/09/2015' '21/09/2015'\n",
      " '30/09/2015' '25/09/2015' '27/09/2015' '28/09/2015' '12/10/2015'\n",
      " '29/09/2015' '23/09/2015' '01/10/2015' '26/09/2015' '18/04/2015'\n",
      " '02/10/2015' '04/10/2015' '08/10/2015' '03/10/2015' '07/10/2015'\n",
      " '09/10/2015' '11/10/2015' '05/10/2015' '06/10/2015' '10/10/2015'\n",
      " '14/10/2015' '15/10/2015' '18/10/2015' '13/10/2015' '20/10/2015'\n",
      " '19/10/2015' '31/10/2015' '16/10/2015' '21/10/2015' '22/10/2015'\n",
      " '17/10/2015' '24/10/2015' '25/10/2015' '28/10/2015' '27/10/2015'\n",
      " '26/10/2015' '30/10/2015' '05/11/2015' '29/10/2015' '03/11/2015'\n",
      " '07/11/2015' '04/11/2015' '01/11/2015' '02/11/2015' '17/11/2015'\n",
      " '06/11/2015' '10/11/2015' '08/11/2015' '09/11/2015' '15/11/2015'\n",
      " '16/11/2015' '11/11/2015' '12/11/2015' '14/11/2015' '13/11/2015'\n",
      " '18/11/2015' '22/11/2015' '19/11/2015' '21/11/2015' '20/11/2015'\n",
      " '24/11/2015' '25/11/2015' '23/11/2015' '28/11/2015' '26/11/2015'\n",
      " '27/11/2015' '29/11/2015' '04/12/2015' '01/12/2015' '06/12/2015'\n",
      " '08/12/2015' '02/12/2015' '03/12/2015' '31/12/2015' '05/12/2015'\n",
      " '10/12/2015' '17/12/2015' '30/11/2015' '12/12/2015' '07/12/2015'\n",
      " '05/01/2016' '11/12/2015' '13/12/2015' '15/12/2015' '16/12/2015'\n",
      " '19/12/2015' '18/12/2015' '26/12/2015' '27/12/2015' '22/12/2015'\n",
      " '23/12/2015' '24/12/2015' '29/12/2015' '28/12/2015' '20/12/2015'\n",
      " '30/12/2015' '02/01/2016' '01/01/2016' '25/12/2015' '03/01/2016'\n",
      " '04/01/2016' '11/01/2016' '07/01/2016' '21/12/2015' '09/01/2016'\n",
      " '10/01/2016' '08/01/2016' '06/01/2016' '12/01/2016' '13/01/2016'\n",
      " '23/01/2016' '09/02/2016' '15/01/2016' '16/01/2016' '17/01/2016'\n",
      " '19/01/2016' '18/01/2016' '21/01/2016' '24/01/2016' '22/01/2016'\n",
      " '29/01/2016' '27/01/2016' '25/01/2016' '08/03/2016' '26/01/2016'\n",
      " '20/01/2016' '30/01/2016' '01/02/2016' '02/02/2016' '08/02/2016'\n",
      " '07/02/2016' '28/01/2016' '05/02/2016' '03/02/2016' '13/02/2016'\n",
      " '10/02/2016' '04/02/2016' '12/02/2016' '11/02/2016' '16/02/2016'\n",
      " '14/02/2016' '15/02/2016' '20/02/2016' '06/02/2016' '14/01/2016'\n",
      " '17/02/2016' '21/02/2016' '24/02/2016' '25/02/2016' '19/02/2016'\n",
      " '18/02/2016' '26/02/2016' '23/02/2016' '05/03/2016' '22/02/2016'\n",
      " '27/02/2016' '03/03/2016' '24/03/2016' '04/03/2016' '29/02/2016'\n",
      " '01/03/2016' '02/03/2016' '30/03/2016' '07/03/2016' '14/03/2016'\n",
      " '21/03/2016' '09/03/2016' '12/03/2016' '22/03/2016' '10/03/2016'\n",
      " '11/03/2016' '20/03/2016' '15/03/2016' '17/03/2016' '16/03/2016'\n",
      " '19/03/2016' '27/03/2016' '18/03/2016' '26/03/2016' '31/03/2016'\n",
      " '28/03/2016' '29/03/2016' '01/04/2016' '23/03/2016' '02/04/2016'\n",
      " '25/03/2016' '13/03/2016' '04/04/2016' '03/04/2016' '05/04/2016'\n",
      " '08/04/2016' '06/04/2016' '09/04/2016' '12/04/2016' '16/04/2016'\n",
      " '17/04/2016' '27/04/2016' '14/04/2016' '18/04/2016' '21/04/2016'\n",
      " '19/04/2016' '20/04/2016' '10/04/2016' '13/04/2016' '11/04/2016'\n",
      " '07/04/2016' '15/04/2016' '22/04/2016' '23/04/2016' '26/04/2016'\n",
      " '28/04/2016' '24/04/2016' '25/04/2016' '29/04/2016' '30/04/2016'\n",
      " '01/05/2016' '10/05/2016' '02/05/2016' '07/05/2016' '08/05/2016'\n",
      " '12/05/2016' '04/05/2016' '06/05/2016' '03/05/2016' '09/05/2016'\n",
      " '05/05/2016' '13/05/2016' '14/05/2016' '18/05/2016' '19/05/2016'\n",
      " '15/05/2016' '16/05/2016' '11/05/2016' '21/05/2016' '22/05/2016'\n",
      " '20/05/2016' '24/05/2016' '25/05/2016' '26/05/2016' '23/05/2016'\n",
      " '27/05/2016' '17/05/2016' '29/05/2016' '28/05/2016' '30/05/2016'\n",
      " '31/05/2016' '01/06/2016' '03/06/2016' '08/06/2016' '02/06/2016'\n",
      " '05/06/2016' '06/06/2016' '13/06/2016' '07/06/2016' '10/06/2016'\n",
      " '11/06/2016' '16/06/2016' '12/06/2016' '14/06/2016' '17/06/2016'\n",
      " '04/06/2016' '18/06/2016' '21/06/2016' '09/06/2016' '24/06/2016'\n",
      " '20/06/2016' '25/06/2016' '22/06/2016' '26/06/2016' '23/06/2016'\n",
      " '01/07/2016' '15/06/2016' '28/06/2016' '02/07/2016' '19/06/2016'\n",
      " '27/06/2016' '04/07/2016' '30/06/2016' '05/07/2016' '08/07/2016'\n",
      " '09/07/2016' '07/07/2016' '12/07/2016' '29/06/2016' '10/07/2016'\n",
      " '15/07/2016' '03/07/2016' '16/07/2016' '14/07/2016' '18/07/2016'\n",
      " '13/07/2016' '06/07/2016' '20/07/2016' '21/07/2016' '23/07/2016'\n",
      " '19/07/2016' '11/07/2016' '28/07/2016' '17/07/2016' '25/07/2016'\n",
      " '22/07/2016' '29/07/2016' '03/08/2016' '02/08/2016' '04/08/2016'\n",
      " '08/08/2016' '10/08/2016' '01/08/2016' '06/08/2016' '06/03/2016'\n",
      " '05/08/2016' '26/07/2016' '07/08/2016' '30/07/2016' '24/07/2016'\n",
      " '12/08/2016' '27/07/2016' '13/08/2016' '18/08/2016' '16/08/2016'\n",
      " '15/08/2016' '17/08/2016' '11/08/2016' '31/07/2016' '19/08/2016'\n",
      " '01/09/2016' '23/08/2016' '26/08/2016' '20/08/2016' '21/08/2016'\n",
      " '04/09/2016' '22/08/2016' '27/08/2016' '25/08/2016' '09/08/2016'\n",
      " '05/09/2016' '24/08/2016' '10/09/2016' '29/08/2016' '09/09/2016'\n",
      " '30/08/2016' '13/09/2016' '31/08/2016' '14/09/2016' '12/09/2016'\n",
      " '15/09/2016' '14/08/2016' '02/09/2016' '08/09/2016' '19/09/2016'\n",
      " '16/09/2016' '07/09/2016' '21/09/2016' '06/09/2016' '22/09/2016'\n",
      " '17/09/2016' '20/09/2016' '03/09/2016' '26/09/2016' '23/09/2016'\n",
      " '18/09/2016' '29/09/2016' '02/10/2016' '01/10/2016' '27/09/2016'\n",
      " '25/09/2016' '05/10/2016' '11/09/2016' '30/09/2016' '09/10/2016'\n",
      " '03/10/2016' '06/10/2016' '11/10/2016' '24/09/2016' '13/10/2016'\n",
      " '28/09/2016' '08/10/2016' '07/10/2016' '16/10/2016' '28/08/2016'\n",
      " '17/10/2016' '18/10/2016' '10/10/2016' '04/10/2016' '15/10/2016'\n",
      " '19/10/2016' '21/10/2016' '12/10/2016' '24/10/2016' '26/10/2016'\n",
      " '23/10/2016' '20/10/2016' '25/10/2016' '27/10/2016' '28/10/2016'\n",
      " '30/10/2016' '29/10/2016' '01/11/2016' '04/11/2016' '14/10/2016'\n",
      " '07/11/2016' '03/11/2016' '10/11/2016' '14/11/2016' '02/11/2016'\n",
      " '31/10/2016' '11/11/2016' '08/11/2016' '05/11/2016' '25/11/2016'\n",
      " '09/11/2016' '20/11/2016' '21/11/2016' '22/10/2016' '22/11/2016'\n",
      " '16/11/2016' '23/11/2016' '17/11/2016' '06/11/2016' '15/11/2016'\n",
      " '13/11/2016' '12/11/2016' '27/11/2016' '19/11/2016' '30/11/2016'\n",
      " '18/11/2016' '02/12/2016' '04/12/2016' '29/11/2016' '07/12/2016'\n",
      " '28/11/2016' '03/12/2016' '06/12/2016' '24/11/2016' '08/12/2016'\n",
      " '05/12/2016' '10/12/2016' '13/12/2016' '14/12/2016' '16/12/2016'\n",
      " '15/12/2016' '17/12/2016' '19/12/2016' '21/12/2016' '20/12/2016'\n",
      " '22/12/2016' '23/12/2016' '24/12/2016' '01/12/2016' '27/12/2016'\n",
      " '29/12/2016' '30/12/2016' '12/12/2016' '02/01/2017' '11/12/2016'\n",
      " '03/01/2017' '04/01/2017' '01/01/2017' '26/12/2016' '06/01/2017'\n",
      " '28/12/2016' '18/12/2016' '10/01/2017' '11/01/2017' '07/01/2017'\n",
      " '12/01/2017' '16/01/2017' '14/01/2017' '13/01/2017' '05/01/2017'\n",
      " '17/01/2017' '20/01/2017' '09/12/2016' '26/01/2017' '31/12/2016'\n",
      " '23/01/2017' '27/01/2017' '28/01/2017' '19/01/2017' '25/01/2017'\n",
      " '24/01/2017' '29/01/2017' '18/01/2017' '25/12/2016' '15/01/2017'\n",
      " '21/01/2017' '01/02/2017' '02/02/2017' '31/01/2017' '03/02/2017'\n",
      " '04/02/2017' '06/02/2017' '07/02/2017' '08/02/2017' '30/01/2017'\n",
      " '09/02/2017' '09/01/2017' '11/02/2017' '10/02/2017' '12/02/2017'\n",
      " '13/02/2017' '14/02/2017' '16/02/2017' '17/02/2017' '18/02/2017'\n",
      " '19/02/2017' '20/02/2017' '15/02/2017' '21/02/2017' '22/02/2017'\n",
      " '26/02/2017' '23/02/2017' '24/02/2017' '25/02/2017' '28/02/2017'\n",
      " '05/03/2017' '27/02/2017' '03/03/2017' '06/03/2017' '02/03/2017'\n",
      " '08/03/2017' '09/03/2017' '10/03/2017' '07/03/2017' '12/03/2017'\n",
      " '13/03/2017' '14/03/2017' '01/03/2017' '18/03/2017' '17/03/2017'\n",
      " '24/03/2017' '22/03/2017' '26/03/2017' '27/03/2017' '11/03/2017'\n",
      " '28/03/2017' '29/03/2017' '30/03/2017' '31/03/2017' '19/03/2017'\n",
      " '22/01/2017' '02/04/2017' '20/03/2017' '03/04/2017' '08/01/2017'\n",
      " '23/03/2017' '05/04/2017' '05/02/2017' '04/04/2017' '15/03/2017'\n",
      " '07/04/2017' '25/03/2017' '08/04/2017' '06/04/2017' '21/03/2017'\n",
      " '10/04/2017' '01/04/2017' '11/04/2017' '13/04/2017' '15/04/2017'\n",
      " '12/04/2017' '04/03/2017' '19/04/2017' '22/04/2017' '20/04/2017'\n",
      " '02/05/2017' '09/04/2017' '23/04/2017' '24/04/2017' '16/04/2017'\n",
      " '28/04/2017' '18/04/2017' '26/04/2017' '25/04/2017' '17/04/2017'\n",
      " '21/04/2017' '03/05/2017' '04/05/2017' '16/03/2017' '05/05/2017'\n",
      " '29/04/2017' '14/04/2017' '08/05/2017' '27/04/2017' '11/05/2017'\n",
      " '01/05/2017' '10/05/2017' '13/05/2017' '06/05/2017' '14/05/2017'\n",
      " '16/05/2017' '30/04/2017' '15/05/2017' '07/05/2017' '09/05/2017'\n",
      " '17/05/2017' '21/05/2017' '12/05/2017' '22/05/2017' '24/05/2017'\n",
      " '23/05/2017' '25/05/2017' '26/05/2017' '28/05/2017' '27/05/2017'\n",
      " '29/05/2017' '19/05/2017' '31/05/2017' '20/05/2017' '01/06/2017'\n",
      " '30/05/2017' '02/06/2017' '26/11/2016' '04/06/2017' '05/06/2017'\n",
      " '06/06/2017' '07/06/2017' '18/05/2017' '09/06/2017' '10/06/2017'\n",
      " '11/06/2017' '12/06/2017' '14/06/2017' '08/06/2017' '16/06/2017'\n",
      " '13/06/2017' '03/06/2017' '24/06/2017' '20/06/2017' '19/06/2017'\n",
      " '21/06/2017' '26/06/2017' '27/06/2017' '22/06/2017' '28/06/2017'\n",
      " '15/06/2017' '29/06/2017' '30/06/2017' '18/06/2017' '04/07/2017'\n",
      " '08/07/2017' '05/07/2017' '03/07/2017' '07/07/2017' '01/07/2017'\n",
      " '06/07/2017' '11/07/2017' '12/07/2017' '23/06/2017' '13/07/2017'\n",
      " '02/07/2017' '10/07/2017' '14/07/2017' '15/07/2017' '16/07/2017'\n",
      " '18/07/2017' '17/07/2017' '19/07/2017' '20/07/2017' '21/07/2017'\n",
      " '25/06/2017' '17/06/2017' '24/07/2017' '26/07/2017' '09/07/2017'\n",
      " '27/07/2017' '28/07/2017' '31/07/2017' '29/07/2017' '22/07/2017'\n",
      " '02/08/2017' '01/08/2017' '03/08/2017' '04/08/2017' '25/07/2017'\n",
      " '23/07/2017' '09/08/2017' '10/08/2017' '30/07/2017' '07/08/2017'\n",
      " '13/08/2017' '05/08/2017' '14/08/2017' '08/08/2017' '16/08/2017'\n",
      " '17/08/2017' '15/08/2017' '18/08/2017' '20/08/2017' '22/08/2017'\n",
      " '06/08/2017' '25/08/2017' '26/08/2017' '23/08/2017' '11/08/2017'\n",
      " '27/08/2017' '21/08/2017' '29/08/2017' '31/08/2017' '12/08/2017'\n",
      " '19/08/2017' '31/01/2016' '01/09/2017' '28/08/2017' '03/04/2015'\n",
      " '21/01/2015' '28/01/2015' '29/01/2015' '30/01/2015' '02/02/2015'\n",
      " '05/02/2015' '06/02/2015' '09/02/2015' '10/02/2015' '11/02/2015'\n",
      " '12/02/2015' '19/02/2015' '20/02/2015' '23/02/2015' '24/02/2015'\n",
      " '25/02/2015' '26/02/2015' '27/02/2015' '03/03/2015' '04/03/2015'\n",
      " '06/03/2015' '09/03/2015' '11/03/2015' '12/03/2015' '18/03/2015'\n",
      " '02/04/2015' '14/06/2015' '08/04/2015' '16/04/2015' '25/04/2015'\n",
      " '28/04/2015' '08/05/2015' '06/09/2017' '28/02/2016' '09/12/2015'\n",
      " '14/12/2015' '09/09/2017' '02/09/2017' '24/08/2017' '30/08/2017'\n",
      " '03/09/2017' '04/09/2017' '05/09/2017' '07/09/2017' '08/09/2017'\n",
      " '10/09/2017' '12/09/2017' '14/09/2017' '30/04/2015' '21/04/2015'\n",
      " '05/04/2015' '13/03/2015' '05/05/2015' '29/03/2015' '10/06/2015'\n",
      " '27/04/2015' '17/10/2014' '20/01/2015' '17/02/2015' '10/03/2015'\n",
      " '23/03/2015']\n"
     ]
    }
   ],
   "source": [
    "l1 = list(df.columns)\n",
    "for i in l1:\n",
    "    if (df[i].dtype == 'object'):\n",
    "        print(df[i].unique())\n",
    "        "
   ]
  },
  {
   "cell_type": "code",
   "execution_count": 79,
   "id": "46d25ed3",
   "metadata": {},
   "outputs": [
    {
     "data": {
      "text/plain": [
       "hotel                                  0\n",
       "is_canceled                            0\n",
       "lead_time                              0\n",
       "arrival_date_year                      0\n",
       "arrival_date_month                     0\n",
       "arrival_date_week_number               0\n",
       "arrival_date_day_of_month              0\n",
       "stays_in_weekend_nights                0\n",
       "stays_in_week_nights                   0\n",
       "adults                                 0\n",
       "children                               4\n",
       "babies                                 0\n",
       "meal                                   0\n",
       "country                              488\n",
       "market_segment                         0\n",
       "distribution_channel                   0\n",
       "is_repeated_guest                      0\n",
       "previous_cancellations                 0\n",
       "previous_bookings_not_canceled         0\n",
       "reserved_room_type                     0\n",
       "assigned_room_type                     0\n",
       "booking_changes                        0\n",
       "deposit_type                           0\n",
       "agent                              16340\n",
       "company                           112593\n",
       "days_in_waiting_list                   0\n",
       "customer_type                          0\n",
       "adr                                    0\n",
       "required_car_parking_spaces            0\n",
       "total_of_special_requests              0\n",
       "reservation_status                     0\n",
       "reservation_status_date                0\n",
       "dtype: int64"
      ]
     },
     "execution_count": 79,
     "metadata": {},
     "output_type": "execute_result"
    }
   ],
   "source": [
    "df.isna().sum()"
   ]
  },
  {
   "cell_type": "code",
   "execution_count": 80,
   "id": "8e02c24c",
   "metadata": {
    "scrolled": false
   },
   "outputs": [
    {
     "data": {
      "text/html": [
       "<div>\n",
       "<style scoped>\n",
       "    .dataframe tbody tr th:only-of-type {\n",
       "        vertical-align: middle;\n",
       "    }\n",
       "\n",
       "    .dataframe tbody tr th {\n",
       "        vertical-align: top;\n",
       "    }\n",
       "\n",
       "    .dataframe thead th {\n",
       "        text-align: right;\n",
       "    }\n",
       "</style>\n",
       "<table border=\"1\" class=\"dataframe\">\n",
       "  <thead>\n",
       "    <tr style=\"text-align: right;\">\n",
       "      <th></th>\n",
       "      <th>hotel</th>\n",
       "      <th>is_canceled</th>\n",
       "      <th>lead_time</th>\n",
       "      <th>arrival_date_year</th>\n",
       "      <th>arrival_date_month</th>\n",
       "      <th>arrival_date_week_number</th>\n",
       "      <th>arrival_date_day_of_month</th>\n",
       "      <th>stays_in_weekend_nights</th>\n",
       "      <th>stays_in_week_nights</th>\n",
       "      <th>adults</th>\n",
       "      <th>...</th>\n",
       "      <th>deposit_type</th>\n",
       "      <th>agent</th>\n",
       "      <th>company</th>\n",
       "      <th>days_in_waiting_list</th>\n",
       "      <th>customer_type</th>\n",
       "      <th>adr</th>\n",
       "      <th>required_car_parking_spaces</th>\n",
       "      <th>total_of_special_requests</th>\n",
       "      <th>reservation_status</th>\n",
       "      <th>reservation_status_date</th>\n",
       "    </tr>\n",
       "  </thead>\n",
       "  <tbody>\n",
       "    <tr>\n",
       "      <th>0</th>\n",
       "      <td>Resort Hotel</td>\n",
       "      <td>0</td>\n",
       "      <td>342</td>\n",
       "      <td>2015</td>\n",
       "      <td>July</td>\n",
       "      <td>27</td>\n",
       "      <td>1</td>\n",
       "      <td>0</td>\n",
       "      <td>0</td>\n",
       "      <td>2</td>\n",
       "      <td>...</td>\n",
       "      <td>No Deposit</td>\n",
       "      <td>NaN</td>\n",
       "      <td>NaN</td>\n",
       "      <td>0</td>\n",
       "      <td>Transient</td>\n",
       "      <td>0.0</td>\n",
       "      <td>0</td>\n",
       "      <td>0</td>\n",
       "      <td>Check-Out</td>\n",
       "      <td>01/07/2015</td>\n",
       "    </tr>\n",
       "    <tr>\n",
       "      <th>1</th>\n",
       "      <td>Resort Hotel</td>\n",
       "      <td>0</td>\n",
       "      <td>737</td>\n",
       "      <td>2015</td>\n",
       "      <td>July</td>\n",
       "      <td>27</td>\n",
       "      <td>1</td>\n",
       "      <td>0</td>\n",
       "      <td>0</td>\n",
       "      <td>2</td>\n",
       "      <td>...</td>\n",
       "      <td>No Deposit</td>\n",
       "      <td>NaN</td>\n",
       "      <td>NaN</td>\n",
       "      <td>0</td>\n",
       "      <td>Transient</td>\n",
       "      <td>0.0</td>\n",
       "      <td>0</td>\n",
       "      <td>0</td>\n",
       "      <td>Check-Out</td>\n",
       "      <td>01/07/2015</td>\n",
       "    </tr>\n",
       "    <tr>\n",
       "      <th>2</th>\n",
       "      <td>Resort Hotel</td>\n",
       "      <td>0</td>\n",
       "      <td>7</td>\n",
       "      <td>2015</td>\n",
       "      <td>July</td>\n",
       "      <td>27</td>\n",
       "      <td>1</td>\n",
       "      <td>0</td>\n",
       "      <td>1</td>\n",
       "      <td>1</td>\n",
       "      <td>...</td>\n",
       "      <td>No Deposit</td>\n",
       "      <td>NaN</td>\n",
       "      <td>NaN</td>\n",
       "      <td>0</td>\n",
       "      <td>Transient</td>\n",
       "      <td>75.0</td>\n",
       "      <td>0</td>\n",
       "      <td>0</td>\n",
       "      <td>Check-Out</td>\n",
       "      <td>02/07/2015</td>\n",
       "    </tr>\n",
       "    <tr>\n",
       "      <th>3</th>\n",
       "      <td>Resort Hotel</td>\n",
       "      <td>0</td>\n",
       "      <td>13</td>\n",
       "      <td>2015</td>\n",
       "      <td>July</td>\n",
       "      <td>27</td>\n",
       "      <td>1</td>\n",
       "      <td>0</td>\n",
       "      <td>1</td>\n",
       "      <td>1</td>\n",
       "      <td>...</td>\n",
       "      <td>No Deposit</td>\n",
       "      <td>304.0</td>\n",
       "      <td>NaN</td>\n",
       "      <td>0</td>\n",
       "      <td>Transient</td>\n",
       "      <td>75.0</td>\n",
       "      <td>0</td>\n",
       "      <td>0</td>\n",
       "      <td>Check-Out</td>\n",
       "      <td>02/07/2015</td>\n",
       "    </tr>\n",
       "    <tr>\n",
       "      <th>4</th>\n",
       "      <td>Resort Hotel</td>\n",
       "      <td>0</td>\n",
       "      <td>14</td>\n",
       "      <td>2015</td>\n",
       "      <td>July</td>\n",
       "      <td>27</td>\n",
       "      <td>1</td>\n",
       "      <td>0</td>\n",
       "      <td>2</td>\n",
       "      <td>2</td>\n",
       "      <td>...</td>\n",
       "      <td>No Deposit</td>\n",
       "      <td>240.0</td>\n",
       "      <td>NaN</td>\n",
       "      <td>0</td>\n",
       "      <td>Transient</td>\n",
       "      <td>98.0</td>\n",
       "      <td>0</td>\n",
       "      <td>1</td>\n",
       "      <td>Check-Out</td>\n",
       "      <td>03/07/2015</td>\n",
       "    </tr>\n",
       "  </tbody>\n",
       "</table>\n",
       "<p>5 rows × 32 columns</p>\n",
       "</div>"
      ],
      "text/plain": [
       "          hotel  is_canceled  lead_time  arrival_date_year arrival_date_month  \\\n",
       "0  Resort Hotel            0        342               2015               July   \n",
       "1  Resort Hotel            0        737               2015               July   \n",
       "2  Resort Hotel            0          7               2015               July   \n",
       "3  Resort Hotel            0         13               2015               July   \n",
       "4  Resort Hotel            0         14               2015               July   \n",
       "\n",
       "   arrival_date_week_number  arrival_date_day_of_month  \\\n",
       "0                        27                          1   \n",
       "1                        27                          1   \n",
       "2                        27                          1   \n",
       "3                        27                          1   \n",
       "4                        27                          1   \n",
       "\n",
       "   stays_in_weekend_nights  stays_in_week_nights  adults  ...  deposit_type  \\\n",
       "0                        0                     0       2  ...    No Deposit   \n",
       "1                        0                     0       2  ...    No Deposit   \n",
       "2                        0                     1       1  ...    No Deposit   \n",
       "3                        0                     1       1  ...    No Deposit   \n",
       "4                        0                     2       2  ...    No Deposit   \n",
       "\n",
       "   agent company days_in_waiting_list customer_type   adr  \\\n",
       "0    NaN     NaN                    0     Transient   0.0   \n",
       "1    NaN     NaN                    0     Transient   0.0   \n",
       "2    NaN     NaN                    0     Transient  75.0   \n",
       "3  304.0     NaN                    0     Transient  75.0   \n",
       "4  240.0     NaN                    0     Transient  98.0   \n",
       "\n",
       "   required_car_parking_spaces  total_of_special_requests  reservation_status  \\\n",
       "0                            0                          0           Check-Out   \n",
       "1                            0                          0           Check-Out   \n",
       "2                            0                          0           Check-Out   \n",
       "3                            0                          0           Check-Out   \n",
       "4                            0                          1           Check-Out   \n",
       "\n",
       "  reservation_status_date  \n",
       "0              01/07/2015  \n",
       "1              01/07/2015  \n",
       "2              02/07/2015  \n",
       "3              02/07/2015  \n",
       "4              03/07/2015  \n",
       "\n",
       "[5 rows x 32 columns]"
      ]
     },
     "execution_count": 80,
     "metadata": {},
     "output_type": "execute_result"
    }
   ],
   "source": [
    "df.head()"
   ]
  },
  {
   "cell_type": "code",
   "execution_count": 81,
   "id": "da758fb8",
   "metadata": {},
   "outputs": [],
   "source": [
    "df['agent'] = df['agent'].fillna(df['agent'].mean())"
   ]
  },
  {
   "cell_type": "code",
   "execution_count": 82,
   "id": "5c3c43c0",
   "metadata": {},
   "outputs": [],
   "source": [
    "df.dropna(inplace=True)"
   ]
  },
  {
   "cell_type": "code",
   "execution_count": 83,
   "id": "5270f18d",
   "metadata": {
    "scrolled": true
   },
   "outputs": [
    {
     "data": {
      "text/plain": [
       "hotel                             0\n",
       "is_canceled                       0\n",
       "lead_time                         0\n",
       "arrival_date_year                 0\n",
       "arrival_date_month                0\n",
       "arrival_date_week_number          0\n",
       "arrival_date_day_of_month         0\n",
       "stays_in_weekend_nights           0\n",
       "stays_in_week_nights              0\n",
       "adults                            0\n",
       "children                          0\n",
       "babies                            0\n",
       "meal                              0\n",
       "country                           0\n",
       "market_segment                    0\n",
       "distribution_channel              0\n",
       "is_repeated_guest                 0\n",
       "previous_cancellations            0\n",
       "previous_bookings_not_canceled    0\n",
       "reserved_room_type                0\n",
       "assigned_room_type                0\n",
       "booking_changes                   0\n",
       "deposit_type                      0\n",
       "agent                             0\n",
       "company                           0\n",
       "days_in_waiting_list              0\n",
       "customer_type                     0\n",
       "adr                               0\n",
       "required_car_parking_spaces       0\n",
       "total_of_special_requests         0\n",
       "reservation_status                0\n",
       "reservation_status_date           0\n",
       "dtype: int64"
      ]
     },
     "execution_count": 83,
     "metadata": {},
     "output_type": "execute_result"
    }
   ],
   "source": [
    "df.isna().sum()"
   ]
  },
  {
   "cell_type": "code",
   "execution_count": 84,
   "id": "52d15c2e",
   "metadata": {},
   "outputs": [],
   "source": [
    "# Droping unnecessary columns\n",
    "df = df.drop(['meal', 'reservation_status_date','reservation_status', 'arrival_date_year',\n",
    "       'arrival_date_month', 'arrival_date_week_number',\n",
    "       'arrival_date_day_of_month', 'reserved_room_type'], axis=1)"
   ]
  },
  {
   "cell_type": "code",
   "execution_count": 85,
   "id": "8ec8a22a",
   "metadata": {},
   "outputs": [
    {
     "data": {
      "image/png": "[encoded data removed]",
      "text/plain": [
       "<Figure size 432x288 with 1 Axes>"
      ]
     },
     "metadata": {
      "needs_background": "light"
     },
     "output_type": "display_data"
    }
   ],
   "source": [
    "## count of adult and children with help of a bar plot\n",
    "\n",
    "sns.countplot(x='children', data=df);"
   ]
  },
  {
   "cell_type": "code",
   "execution_count": 86,
   "id": "ad82aebe",
   "metadata": {},
   "outputs": [
    {
     "data": {
      "image/png": "[encoded data removed]",
      "text/plain": [
       "<Figure size 432x288 with 1 Axes>"
      ]
     },
     "metadata": {
      "needs_background": "light"
     },
     "output_type": "display_data"
    }
   ],
   "source": [
    "sns.countplot(x='adults', data=df);"
   ]
  },
  {
   "cell_type": "code",
   "execution_count": 87,
   "id": "b099727e",
   "metadata": {},
   "outputs": [],
   "source": [
    "# One hot encoding\n",
    "df = pd.get_dummies(df, drop_first=True)"
   ]
  },
  {
   "cell_type": "code",
   "execution_count": 88,
   "id": "3d3d1f99",
   "metadata": {},
   "outputs": [
    {
     "data": {
      "text/html": [
       "<div>\n",
       "<style scoped>\n",
       "    .dataframe tbody tr th:only-of-type {\n",
       "        vertical-align: middle;\n",
       "    }\n",
       "\n",
       "    .dataframe tbody tr th {\n",
       "        vertical-align: top;\n",
       "    }\n",
       "\n",
       "    .dataframe thead th {\n",
       "        text-align: right;\n",
       "    }\n",
       "</style>\n",
       "<table border=\"1\" class=\"dataframe\">\n",
       "  <thead>\n",
       "    <tr style=\"text-align: right;\">\n",
       "      <th></th>\n",
       "      <th>is_canceled</th>\n",
       "      <th>lead_time</th>\n",
       "      <th>stays_in_weekend_nights</th>\n",
       "      <th>stays_in_week_nights</th>\n",
       "      <th>adults</th>\n",
       "      <th>children</th>\n",
       "      <th>babies</th>\n",
       "      <th>is_repeated_guest</th>\n",
       "      <th>previous_cancellations</th>\n",
       "      <th>previous_bookings_not_canceled</th>\n",
       "      <th>...</th>\n",
       "      <th>assigned_room_type_F</th>\n",
       "      <th>assigned_room_type_G</th>\n",
       "      <th>assigned_room_type_H</th>\n",
       "      <th>assigned_room_type_I</th>\n",
       "      <th>assigned_room_type_K</th>\n",
       "      <th>deposit_type_Non Refund</th>\n",
       "      <th>deposit_type_Refundable</th>\n",
       "      <th>customer_type_Group</th>\n",
       "      <th>customer_type_Transient</th>\n",
       "      <th>customer_type_Transient-Party</th>\n",
       "    </tr>\n",
       "  </thead>\n",
       "  <tbody>\n",
       "    <tr>\n",
       "      <th>18</th>\n",
       "      <td>0</td>\n",
       "      <td>0</td>\n",
       "      <td>0</td>\n",
       "      <td>1</td>\n",
       "      <td>2</td>\n",
       "      <td>0.0</td>\n",
       "      <td>0</td>\n",
       "      <td>0</td>\n",
       "      <td>0</td>\n",
       "      <td>0</td>\n",
       "      <td>...</td>\n",
       "      <td>0</td>\n",
       "      <td>1</td>\n",
       "      <td>0</td>\n",
       "      <td>0</td>\n",
       "      <td>0</td>\n",
       "      <td>0</td>\n",
       "      <td>0</td>\n",
       "      <td>0</td>\n",
       "      <td>1</td>\n",
       "      <td>0</td>\n",
       "    </tr>\n",
       "    <tr>\n",
       "      <th>218</th>\n",
       "      <td>1</td>\n",
       "      <td>1</td>\n",
       "      <td>0</td>\n",
       "      <td>1</td>\n",
       "      <td>2</td>\n",
       "      <td>0.0</td>\n",
       "      <td>0</td>\n",
       "      <td>0</td>\n",
       "      <td>0</td>\n",
       "      <td>0</td>\n",
       "      <td>...</td>\n",
       "      <td>0</td>\n",
       "      <td>0</td>\n",
       "      <td>0</td>\n",
       "      <td>0</td>\n",
       "      <td>0</td>\n",
       "      <td>0</td>\n",
       "      <td>0</td>\n",
       "      <td>0</td>\n",
       "      <td>1</td>\n",
       "      <td>0</td>\n",
       "    </tr>\n",
       "    <tr>\n",
       "      <th>219</th>\n",
       "      <td>1</td>\n",
       "      <td>1</td>\n",
       "      <td>0</td>\n",
       "      <td>1</td>\n",
       "      <td>2</td>\n",
       "      <td>0.0</td>\n",
       "      <td>0</td>\n",
       "      <td>0</td>\n",
       "      <td>0</td>\n",
       "      <td>0</td>\n",
       "      <td>...</td>\n",
       "      <td>0</td>\n",
       "      <td>0</td>\n",
       "      <td>0</td>\n",
       "      <td>0</td>\n",
       "      <td>0</td>\n",
       "      <td>0</td>\n",
       "      <td>0</td>\n",
       "      <td>0</td>\n",
       "      <td>1</td>\n",
       "      <td>0</td>\n",
       "    </tr>\n",
       "    <tr>\n",
       "      <th>220</th>\n",
       "      <td>0</td>\n",
       "      <td>1</td>\n",
       "      <td>0</td>\n",
       "      <td>2</td>\n",
       "      <td>2</td>\n",
       "      <td>0.0</td>\n",
       "      <td>0</td>\n",
       "      <td>0</td>\n",
       "      <td>0</td>\n",
       "      <td>0</td>\n",
       "      <td>...</td>\n",
       "      <td>1</td>\n",
       "      <td>0</td>\n",
       "      <td>0</td>\n",
       "      <td>0</td>\n",
       "      <td>0</td>\n",
       "      <td>0</td>\n",
       "      <td>0</td>\n",
       "      <td>0</td>\n",
       "      <td>1</td>\n",
       "      <td>0</td>\n",
       "    </tr>\n",
       "    <tr>\n",
       "      <th>295</th>\n",
       "      <td>0</td>\n",
       "      <td>84</td>\n",
       "      <td>1</td>\n",
       "      <td>1</td>\n",
       "      <td>2</td>\n",
       "      <td>0.0</td>\n",
       "      <td>0</td>\n",
       "      <td>0</td>\n",
       "      <td>0</td>\n",
       "      <td>0</td>\n",
       "      <td>...</td>\n",
       "      <td>0</td>\n",
       "      <td>0</td>\n",
       "      <td>0</td>\n",
       "      <td>0</td>\n",
       "      <td>0</td>\n",
       "      <td>0</td>\n",
       "      <td>0</td>\n",
       "      <td>0</td>\n",
       "      <td>1</td>\n",
       "      <td>0</td>\n",
       "    </tr>\n",
       "  </tbody>\n",
       "</table>\n",
       "<p>5 rows × 104 columns</p>\n",
       "</div>"
      ],
      "text/plain": [
       "     is_canceled  lead_time  stays_in_weekend_nights  stays_in_week_nights  \\\n",
       "18             0          0                        0                     1   \n",
       "218            1          1                        0                     1   \n",
       "219            1          1                        0                     1   \n",
       "220            0          1                        0                     2   \n",
       "295            0         84                        1                     1   \n",
       "\n",
       "     adults  children  babies  is_repeated_guest  previous_cancellations  \\\n",
       "18        2       0.0       0                  0                       0   \n",
       "218       2       0.0       0                  0                       0   \n",
       "219       2       0.0       0                  0                       0   \n",
       "220       2       0.0       0                  0                       0   \n",
       "295       2       0.0       0                  0                       0   \n",
       "\n",
       "     previous_bookings_not_canceled  ...  assigned_room_type_F  \\\n",
       "18                                0  ...                     0   \n",
       "218                               0  ...                     0   \n",
       "219                               0  ...                     0   \n",
       "220                               0  ...                     1   \n",
       "295                               0  ...                     0   \n",
       "\n",
       "     assigned_room_type_G  assigned_room_type_H  assigned_room_type_I  \\\n",
       "18                      1                     0                     0   \n",
       "218                     0                     0                     0   \n",
       "219                     0                     0                     0   \n",
       "220                     0                     0                     0   \n",
       "295                     0                     0                     0   \n",
       "\n",
       "     assigned_room_type_K  deposit_type_Non Refund  deposit_type_Refundable  \\\n",
       "18                      0                        0                        0   \n",
       "218                     0                        0                        0   \n",
       "219                     0                        0                        0   \n",
       "220                     0                        0                        0   \n",
       "295                     0                        0                        0   \n",
       "\n",
       "     customer_type_Group  customer_type_Transient  \\\n",
       "18                     0                        1   \n",
       "218                    0                        1   \n",
       "219                    0                        1   \n",
       "220                    0                        1   \n",
       "295                    0                        1   \n",
       "\n",
       "     customer_type_Transient-Party  \n",
       "18                               0  \n",
       "218                              0  \n",
       "219                              0  \n",
       "220                              0  \n",
       "295                              0  \n",
       "\n",
       "[5 rows x 104 columns]"
      ]
     },
     "execution_count": 88,
     "metadata": {},
     "output_type": "execute_result"
    }
   ],
   "source": [
    "df.head()"
   ]
  },
  {
   "cell_type": "code",
   "execution_count": 89,
   "id": "4857e3fc",
   "metadata": {},
   "outputs": [],
   "source": [
    "## Creating features and target\n",
    "X = df.drop(['is_canceled'], axis=1)"
   ]
  },
  {
   "cell_type": "code",
   "execution_count": 101,
   "id": "af8e2355",
   "metadata": {},
   "outputs": [
    {
     "data": {
      "text/plain": [
       "18        0\n",
       "218       1\n",
       "219       1\n",
       "220       0\n",
       "295       0\n",
       "         ..\n",
       "119119    0\n",
       "119122    0\n",
       "119123    0\n",
       "119124    0\n",
       "119248    0\n",
       "Name: is_canceled, Length: 6623, dtype: int64"
      ]
     },
     "execution_count": 101,
     "metadata": {},
     "output_type": "execute_result"
    }
   ],
   "source": [
    "y= df.is_canceled\n",
    "y"
   ]
  },
  {
   "cell_type": "code",
   "execution_count": 91,
   "id": "2a871019",
   "metadata": {},
   "outputs": [],
   "source": [
    "from sklearn.model_selection import train_test_split"
   ]
  },
  {
   "cell_type": "code",
   "execution_count": 92,
   "id": "a3a1a6ca",
   "metadata": {},
   "outputs": [],
   "source": [
    "X_train, X_test, y_train, y_test = train_test_split(X, y, test_size=0.2, random_state=42, stratify=y)"
   ]
  },
  {
   "cell_type": "code",
   "execution_count": 94,
   "id": "c99d8c71",
   "metadata": {},
   "outputs": [
    {
     "data": {
      "text/html": [
       "<style>#sk-container-id-1 {color: black;background-color: white;}#sk-container-id-1 pre{padding: 0;}#sk-container-id-1 div.sk-toggleable {background-color: white;}#sk-container-id-1 label.sk-toggleable__label {cursor: pointer;display: block;width: 100%;margin-bottom: 0;padding: 0.3em;box-sizing: border-box;text-align: center;}#sk-container-id-1 label.sk-toggleable__label-arrow:before {content: \"▸\";float: left;margin-right: 0.25em;color: #696969;}#sk-container-id-1 label.sk-toggleable__label-arrow:hover:before {color: black;}#sk-container-id-1 div.sk-estimator:hover label.sk-toggleable__label-arrow:before {color: black;}#sk-container-id-1 div.sk-toggleable__content {max-height: 0;max-width: 0;overflow: hidden;text-align: left;background-color: #f0f8ff;}#sk-container-id-1 div.sk-toggleable__content pre {margin: 0.2em;color: black;border-radius: 0.25em;background-color: #f0f8ff;}#sk-container-id-1 input.sk-toggleable__control:checked~div.sk-toggleable__content {max-height: 200px;max-width: 100%;overflow: auto;}#sk-container-id-1 input.sk-toggleable__control:checked~label.sk-toggleable__label-arrow:before {content: \"▾\";}#sk-container-id-1 div.sk-estimator input.sk-toggleable__control:checked~label.sk-toggleable__label {background-color: #d4ebff;}#sk-container-id-1 div.sk-label input.sk-toggleable__control:checked~label.sk-toggleable__label {background-color: #d4ebff;}#sk-container-id-1 input.sk-hidden--visually {border: 0;clip: rect(1px 1px 1px 1px);clip: rect(1px, 1px, 1px, 1px);height: 1px;margin: -1px;overflow: hidden;padding: 0;position: absolute;width: 1px;}#sk-container-id-1 div.sk-estimator {font-family: monospace;background-color: #f0f8ff;border: 1px dotted black;border-radius: 0.25em;box-sizing: border-box;margin-bottom: 0.5em;}#sk-container-id-1 div.sk-estimator:hover {background-color: #d4ebff;}#sk-container-id-1 div.sk-parallel-item::after {content: \"\";width: 100%;border-bottom: 1px solid gray;flex-grow: 1;}#sk-container-id-1 div.sk-label:hover label.sk-toggleable__label {background-color: #d4ebff;}#sk-container-id-1 div.sk-serial::before {content: \"\";position: absolute;border-left: 1px solid gray;box-sizing: border-box;top: 0;bottom: 0;left: 50%;z-index: 0;}#sk-container-id-1 div.sk-serial {display: flex;flex-direction: column;align-items: center;background-color: white;padding-right: 0.2em;padding-left: 0.2em;position: relative;}#sk-container-id-1 div.sk-item {position: relative;z-index: 1;}#sk-container-id-1 div.sk-parallel {display: flex;align-items: stretch;justify-content: center;background-color: white;position: relative;}#sk-container-id-1 div.sk-item::before, #sk-container-id-1 div.sk-parallel-item::before {content: \"\";position: absolute;border-left: 1px solid gray;box-sizing: border-box;top: 0;bottom: 0;left: 50%;z-index: -1;}#sk-container-id-1 div.sk-parallel-item {display: flex;flex-direction: column;z-index: 1;position: relative;background-color: white;}#sk-container-id-1 div.sk-parallel-item:first-child::after {align-self: flex-end;width: 50%;}#sk-container-id-1 div.sk-parallel-item:last-child::after {align-self: flex-start;width: 50%;}#sk-container-id-1 div.sk-parallel-item:only-child::after {width: 0;}#sk-container-id-1 div.sk-dashed-wrapped {border: 1px dashed gray;margin: 0 0.4em 0.5em 0.4em;box-sizing: border-box;padding-bottom: 0.4em;background-color: white;}#sk-container-id-1 div.sk-label label {font-family: monospace;font-weight: bold;display: inline-block;line-height: 1.2em;}#sk-container-id-1 div.sk-label-container {text-align: center;}#sk-container-id-1 div.sk-container {/* jupyter's `normalize.less` sets `[hidden] { display: none; }` but bootstrap.min.css set `[hidden] { display: none !important; }` so we also need the `!important` here to be able to override the default hidden behavior on the sphinx rendered scikit-learn.org. See: https://github.com/scikit-learn/scikit-learn/issues/21755 */display: inline-block !important;position: relative;}#sk-container-id-1 div.sk-text-repr-fallback {display: none;}</style><div id=\"sk-container-id-1\" class=\"sk-top-container\"><div class=\"sk-text-repr-fallback\"><pre>RandomForestClassifier()</pre><b>In a Jupyter environment, please rerun this cell to show the HTML representation or trust the notebook. <br />On GitHub, the HTML representation is unable to render, please try loading this page with nbviewer.org.</b></div><div class=\"sk-container\" hidden><div class=\"sk-item\"><div class=\"sk-estimator sk-toggleable\"><input class=\"sk-toggleable__control sk-hidden--visually\" id=\"sk-estimator-id-1\" type=\"checkbox\" checked><label for=\"sk-estimator-id-1\" class=\"sk-toggleable__label sk-toggleable__label-arrow\">RandomForestClassifier</label><div class=\"sk-toggleable__content\"><pre>RandomForestClassifier()</pre></div></div></div></div></div>"
      ],
      "text/plain": [
       "RandomForestClassifier()"
      ]
     },
     "execution_count": 94,
     "metadata": {},
     "output_type": "execute_result"
    }
   ],
   "source": [
    "from sklearn.ensemble import RandomForestClassifier\n",
    "model = RandomForestClassifier()\n",
    "model.fit(X_train, y_train)"
   ]
  },
  {
   "cell_type": "code",
   "execution_count": 96,
   "id": "bbf28fa8",
   "metadata": {},
   "outputs": [
    {
     "data": {
      "text/plain": [
       "0.9922612306530766"
      ]
     },
     "execution_count": 96,
     "metadata": {},
     "output_type": "execute_result"
    }
   ],
   "source": [
    "model.score(X_train, y_train)"
   ]
  },
  {
   "cell_type": "code",
   "execution_count": 95,
   "id": "b31cdbb3",
   "metadata": {
    "scrolled": true
   },
   "outputs": [
    {
     "data": {
      "text/plain": [
       "0.9433962264150944"
      ]
     },
     "execution_count": 95,
     "metadata": {},
     "output_type": "execute_result"
    }
   ],
   "source": [
    "model.score(X_test, y_test)"
   ]
  },
  {
   "cell_type": "code",
   "execution_count": 97,
   "id": "e59126dd",
   "metadata": {},
   "outputs": [],
   "source": [
    "y_pred = model.predict(X_test)"
   ]
  },
  {
   "cell_type": "code",
   "execution_count": 119,
   "id": "c9764811",
   "metadata": {},
   "outputs": [],
   "source": [
    "from sklearn.metrics import classification_report,accuracy_score,confusion_matrix,recall_score,precision_score"
   ]
  },
  {
   "cell_type": "code",
   "execution_count": 99,
   "id": "7f80a459",
   "metadata": {},
   "outputs": [
    {
     "name": "stdout",
     "output_type": "stream",
     "text": [
      "              precision    recall  f1-score   support\n",
      "\n",
      "           0       0.94      0.99      0.97      1091\n",
      "           1       0.93      0.73      0.82       234\n",
      "\n",
      "    accuracy                           0.94      1325\n",
      "   macro avg       0.94      0.86      0.89      1325\n",
      "weighted avg       0.94      0.94      0.94      1325\n",
      "\n"
     ]
    }
   ],
   "source": [
    "print(classification_report(y_test,y_pred))"
   ]
  },
  {
   "cell_type": "code",
   "execution_count": 102,
   "id": "90d5f153",
   "metadata": {},
   "outputs": [
    {
     "data": {
      "text/plain": [
       "0    5455\n",
       "1    1168\n",
       "Name: is_canceled, dtype: int64"
      ]
     },
     "execution_count": 102,
     "metadata": {},
     "output_type": "execute_result"
    }
   ],
   "source": [
    "y.value_counts()"
   ]
  },
  {
   "cell_type": "code",
   "execution_count": 103,
   "id": "c320d979",
   "metadata": {},
   "outputs": [],
   "source": [
    "## Balancing Dataset\n",
    "from imblearn.over_sampling import SMOTE"
   ]
  },
  {
   "cell_type": "code",
   "execution_count": 104,
   "id": "246215c1",
   "metadata": {},
   "outputs": [
    {
     "data": {
      "text/plain": [
       "0    5455\n",
       "1    5455\n",
       "Name: is_canceled, dtype: int64"
      ]
     },
     "execution_count": 104,
     "metadata": {},
     "output_type": "execute_result"
    }
   ],
   "source": [
    "\n",
    "smote = SMOTE(sampling_strategy='minority')\n",
    "X_sm, y_sm = smote.fit_resample(X, y)\n",
    "\n",
    "y_sm.value_counts()"
   ]
  },
  {
   "cell_type": "code",
   "execution_count": 105,
   "id": "7943c59c",
   "metadata": {},
   "outputs": [],
   "source": [
    "\n",
    "X_train, X_test, y_train, y_test = train_test_split(X_sm, y_sm, test_size=0.2, random_state=15, stratify=y_sm)"
   ]
  },
  {
   "cell_type": "code",
   "execution_count": 106,
   "id": "3a64aacc",
   "metadata": {},
   "outputs": [],
   "source": [
    "from sklearn.preprocessing import StandardScaler"
   ]
  },
  {
   "cell_type": "code",
   "execution_count": 107,
   "id": "b5168678",
   "metadata": {},
   "outputs": [],
   "source": [
    "sc = StandardScaler()"
   ]
  },
  {
   "cell_type": "code",
   "execution_count": 108,
   "id": "7addc748",
   "metadata": {},
   "outputs": [],
   "source": [
    "X_train_scaled = sc.fit_transform(X_train)"
   ]
  },
  {
   "cell_type": "code",
   "execution_count": 109,
   "id": "32c39e1b",
   "metadata": {},
   "outputs": [],
   "source": [
    "X_test_scaled = sc.transform(X_test)"
   ]
  },
  {
   "cell_type": "code",
   "execution_count": 110,
   "id": "28ef21b4",
   "metadata": {},
   "outputs": [
    {
     "data": {
      "text/html": [
       "<style>#sk-container-id-2 {color: black;background-color: white;}#sk-container-id-2 pre{padding: 0;}#sk-container-id-2 div.sk-toggleable {background-color: white;}#sk-container-id-2 label.sk-toggleable__label {cursor: pointer;display: block;width: 100%;margin-bottom: 0;padding: 0.3em;box-sizing: border-box;text-align: center;}#sk-container-id-2 label.sk-toggleable__label-arrow:before {content: \"▸\";float: left;margin-right: 0.25em;color: #696969;}#sk-container-id-2 label.sk-toggleable__label-arrow:hover:before {color: black;}#sk-container-id-2 div.sk-estimator:hover label.sk-toggleable__label-arrow:before {color: black;}#sk-container-id-2 div.sk-toggleable__content {max-height: 0;max-width: 0;overflow: hidden;text-align: left;background-color: #f0f8ff;}#sk-container-id-2 div.sk-toggleable__content pre {margin: 0.2em;color: black;border-radius: 0.25em;background-color: #f0f8ff;}#sk-container-id-2 input.sk-toggleable__control:checked~div.sk-toggleable__content {max-height: 200px;max-width: 100%;overflow: auto;}#sk-container-id-2 input.sk-toggleable__control:checked~label.sk-toggleable__label-arrow:before {content: \"▾\";}#sk-container-id-2 div.sk-estimator input.sk-toggleable__control:checked~label.sk-toggleable__label {background-color: #d4ebff;}#sk-container-id-2 div.sk-label input.sk-toggleable__control:checked~label.sk-toggleable__label {background-color: #d4ebff;}#sk-container-id-2 input.sk-hidden--visually {border: 0;clip: rect(1px 1px 1px 1px);clip: rect(1px, 1px, 1px, 1px);height: 1px;margin: -1px;overflow: hidden;padding: 0;position: absolute;width: 1px;}#sk-container-id-2 div.sk-estimator {font-family: monospace;background-color: #f0f8ff;border: 1px dotted black;border-radius: 0.25em;box-sizing: border-box;margin-bottom: 0.5em;}#sk-container-id-2 div.sk-estimator:hover {background-color: #d4ebff;}#sk-container-id-2 div.sk-parallel-item::after {content: \"\";width: 100%;border-bottom: 1px solid gray;flex-grow: 1;}#sk-container-id-2 div.sk-label:hover label.sk-toggleable__label {background-color: #d4ebff;}#sk-container-id-2 div.sk-serial::before {content: \"\";position: absolute;border-left: 1px solid gray;box-sizing: border-box;top: 0;bottom: 0;left: 50%;z-index: 0;}#sk-container-id-2 div.sk-serial {display: flex;flex-direction: column;align-items: center;background-color: white;padding-right: 0.2em;padding-left: 0.2em;position: relative;}#sk-container-id-2 div.sk-item {position: relative;z-index: 1;}#sk-container-id-2 div.sk-parallel {display: flex;align-items: stretch;justify-content: center;background-color: white;position: relative;}#sk-container-id-2 div.sk-item::before, #sk-container-id-2 div.sk-parallel-item::before {content: \"\";position: absolute;border-left: 1px solid gray;box-sizing: border-box;top: 0;bottom: 0;left: 50%;z-index: -1;}#sk-container-id-2 div.sk-parallel-item {display: flex;flex-direction: column;z-index: 1;position: relative;background-color: white;}#sk-container-id-2 div.sk-parallel-item:first-child::after {align-self: flex-end;width: 50%;}#sk-container-id-2 div.sk-parallel-item:last-child::after {align-self: flex-start;width: 50%;}#sk-container-id-2 div.sk-parallel-item:only-child::after {width: 0;}#sk-container-id-2 div.sk-dashed-wrapped {border: 1px dashed gray;margin: 0 0.4em 0.5em 0.4em;box-sizing: border-box;padding-bottom: 0.4em;background-color: white;}#sk-container-id-2 div.sk-label label {font-family: monospace;font-weight: bold;display: inline-block;line-height: 1.2em;}#sk-container-id-2 div.sk-label-container {text-align: center;}#sk-container-id-2 div.sk-container {/* jupyter's `normalize.less` sets `[hidden] { display: none; }` but bootstrap.min.css set `[hidden] { display: none !important; }` so we also need the `!important` here to be able to override the default hidden behavior on the sphinx rendered scikit-learn.org. See: https://github.com/scikit-learn/scikit-learn/issues/21755 */display: inline-block !important;position: relative;}#sk-container-id-2 div.sk-text-repr-fallback {display: none;}</style><div id=\"sk-container-id-2\" class=\"sk-top-container\"><div class=\"sk-text-repr-fallback\"><pre>RandomForestClassifier()</pre><b>In a Jupyter environment, please rerun this cell to show the HTML representation or trust the notebook. <br />On GitHub, the HTML representation is unable to render, please try loading this page with nbviewer.org.</b></div><div class=\"sk-container\" hidden><div class=\"sk-item\"><div class=\"sk-estimator sk-toggleable\"><input class=\"sk-toggleable__control sk-hidden--visually\" id=\"sk-estimator-id-2\" type=\"checkbox\" checked><label for=\"sk-estimator-id-2\" class=\"sk-toggleable__label sk-toggleable__label-arrow\">RandomForestClassifier</label><div class=\"sk-toggleable__content\"><pre>RandomForestClassifier()</pre></div></div></div></div></div>"
      ],
      "text/plain": [
       "RandomForestClassifier()"
      ]
     },
     "execution_count": 110,
     "metadata": {},
     "output_type": "execute_result"
    }
   ],
   "source": [
    "model.fit(X_train_scaled, y_train)"
   ]
  },
  {
   "cell_type": "code",
   "execution_count": 111,
   "id": "3d32e30c",
   "metadata": {},
   "outputs": [
    {
     "data": {
      "text/plain": [
       "0.9569202566452796"
      ]
     },
     "execution_count": 111,
     "metadata": {},
     "output_type": "execute_result"
    }
   ],
   "source": [
    "model.score(X_test_scaled, y_test)"
   ]
  },
  {
   "cell_type": "code",
   "execution_count": 112,
   "id": "72f99f70",
   "metadata": {},
   "outputs": [],
   "source": [
    "y_pred = model.predict(X_test_scaled)"
   ]
  },
  {
   "cell_type": "code",
   "execution_count": 118,
   "id": "5fcf26da",
   "metadata": {
    "scrolled": true
   },
   "outputs": [
    {
     "data": {
      "image/png": "[encoded data removed]",
      "text/plain": [
       "<Figure size 504x360 with 2 Axes>"
      ]
     },
     "metadata": {
      "needs_background": "light"
     },
     "output_type": "display_data"
    }
   ],
   "source": [
    "cm = confusion_matrix(y_test,y_pred)\n",
    "plt.figure(figsize = (7,5))\n",
    "sns.heatmap(cm, annot=True)\n",
    "plt.xlabel('Predicted')\n",
    "plt.ylabel('Truth')\n",
    "plt.show()"
   ]
  },
  {
   "cell_type": "markdown",
   "id": "1f697051",
   "metadata": {},
   "source": [
    "## Creating function which show Precision score, recall score, accuracy, classification report and confusion matrix."
   ]
  },
  {
   "cell_type": "code",
   "execution_count": 120,
   "id": "14c670a2",
   "metadata": {},
   "outputs": [],
   "source": [
    "def metrics(x,y):\n",
    "    print('presicion score: ', precision_score(x,y))\n",
    "    print('recall score: ', recall_score(x,y))\n",
    "    print('accuracy score: ', accuracy_score(x,y))\n",
    "    print(classification_report(x,y))\n",
    "    cm = confusion_matrix(x,y)\n",
    "    plt.figure(figsize = (7,5))\n",
    "    sns.heatmap(cm, annot=True)\n",
    "    plt.xlabel('Predicted')\n",
    "    plt.ylabel('Truth')\n",
    "    plt.show()\n"
   ]
  },
  {
   "cell_type": "code",
   "execution_count": 121,
   "id": "8c9b0e32",
   "metadata": {},
   "outputs": [
    {
     "name": "stdout",
     "output_type": "stream",
     "text": [
      "presicion score:  0.965452847805789\n",
      "recall score:  0.9477543538038496\n",
      "accuracy score:  0.9569202566452796\n",
      "              precision    recall  f1-score   support\n",
      "\n",
      "           0       0.95      0.97      0.96      1091\n",
      "           1       0.97      0.95      0.96      1091\n",
      "\n",
      "    accuracy                           0.96      2182\n",
      "   macro avg       0.96      0.96      0.96      2182\n",
      "weighted avg       0.96      0.96      0.96      2182\n",
      "\n"
     ]
    },
    {
     "data": {
      "image/png": "[encoded data removed]",
      "text/plain": [
       "<Figure size 504x360 with 2 Axes>"
      ]
     },
     "metadata": {
      "needs_background": "light"
     },
     "output_type": "display_data"
    }
   ],
   "source": [
    "metrics(y_test,y_pred)"
   ]
  },
  {
   "cell_type": "code",
   "execution_count": null,
   "id": "cbbb5c7a",
   "metadata": {},
   "outputs": [],
   "source": []
  }
 ],
 "metadata": {
  "kernelspec": {
   "display_name": "Python 3 (ipykernel)",
   "language": "python",
   "name": "python3"
  },
  "language_info": {
   "codemirror_mode": {
    "name": "ipython",
    "version": 3
   },
   "file_extension": ".py",
   "mimetype": "text/x-python",
   "name": "python",
   "nbconvert_exporter": "python",
   "pygments_lexer": "ipython3",
   "version": "3.9.7"
  }
 },
 "nbformat": 4,
 "nbformat_minor": 5
}
