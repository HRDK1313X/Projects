{
 "cells": [
  {
   "cell_type": "code",
   "execution_count": 1,
   "id": "5c880fcd",
   "metadata": {},
   "outputs": [],
   "source": [
    "import tensorflow_text"
   ]
  },
  {
   "cell_type": "code",
   "execution_count": 2,
   "id": "a256e040",
   "metadata": {},
   "outputs": [],
   "source": [
    "import tensorflow as tf"
   ]
  },
  {
   "cell_type": "code",
   "execution_count": 3,
   "id": "5c0256b2",
   "metadata": {},
   "outputs": [],
   "source": [
    "import tensorflow_hub as hub\n",
    "import tensorflow_text as text"
   ]
  },
  {
   "cell_type": "code",
   "execution_count": 4,
   "id": "9b58103b",
   "metadata": {},
   "outputs": [],
   "source": [
    "encoder_url = 'https://tfhub.dev/tensorflow/bert_en_uncased_L-12_H-768_A-12/4'\n",
    "preprocessor_url = 'https://tfhub.dev/tensorflow/bert_en_uncased_preprocess/3'"
   ]
  },
  {
   "cell_type": "code",
   "execution_count": null,
   "id": "b784f19b",
   "metadata": {
    "scrolled": false
   },
   "outputs": [],
   "source": [
    "bert_preprocess_model = hub.KerasLayer(preprocessor_url)"
   ]
  },
  {
   "cell_type": "code",
   "execution_count": null,
   "id": "87a6818a",
   "metadata": {},
   "outputs": [],
   "source": [
    "text_test = ['This came in on time and I am very happy with it',\n",
    "            \n",
    "            'Works as well as the factory tool']"
   ]
  },
  {
   "cell_type": "code",
   "execution_count": null,
   "id": "4855ade2",
   "metadata": {},
   "outputs": [],
   "source": [
    "text_preprocessed = bert_preprocess_model(text_test)"
   ]
  },
  {
   "cell_type": "code",
   "execution_count": null,
   "id": "3f987e38",
   "metadata": {},
   "outputs": [],
   "source": [
    "text_preprocessed.keys()"
   ]
  },
  {
   "cell_type": "code",
   "execution_count": null,
   "id": "13c98a83",
   "metadata": {},
   "outputs": [],
   "source": [
    "text_preprocessed['input_mask']"
   ]
  },
  {
   "cell_type": "code",
   "execution_count": null,
   "id": "0629a48e",
   "metadata": {},
   "outputs": [],
   "source": [
    "text_preprocessed['input_word_ids']"
   ]
  },
  {
   "cell_type": "code",
   "execution_count": null,
   "id": "c8e1cc50",
   "metadata": {},
   "outputs": [],
   "source": [
    "bert_model = hub.KerasLayer(encoder_url)"
   ]
  },
  {
   "cell_type": "code",
   "execution_count": null,
   "id": "f3ec6d0a",
   "metadata": {},
   "outputs": [],
   "source": [
    "bert_result = bert_model(text_preprocessed)"
   ]
  },
  {
   "cell_type": "code",
   "execution_count": null,
   "id": "104b2473",
   "metadata": {},
   "outputs": [],
   "source": [
    "bert_result.keys()"
   ]
  },
  {
   "cell_type": "code",
   "execution_count": null,
   "id": "5763f863",
   "metadata": {},
   "outputs": [],
   "source": [
    "bert_result['pooled_output']"
   ]
  },
  {
   "cell_type": "code",
   "execution_count": null,
   "id": "db4b0cd7",
   "metadata": {},
   "outputs": [],
   "source": [
    "bert_result['encoder_outputs']"
   ]
  },
  {
   "cell_type": "markdown",
   "id": "5c400e5a",
   "metadata": {},
   "source": [
    "## Text Classifier Spam or not"
   ]
  },
  {
   "cell_type": "code",
   "execution_count": null,
   "id": "f49b8201",
   "metadata": {},
   "outputs": [],
   "source": [
    "import pandas as pd \n",
    "\n",
    "df = pd.read_csv('spam.csv')\n",
    "df.head()"
   ]
  },
  {
   "cell_type": "code",
   "execution_count": null,
   "id": "18771d29",
   "metadata": {},
   "outputs": [],
   "source": [
    "df.Message[10]"
   ]
  },
  {
   "cell_type": "code",
   "execution_count": null,
   "id": "fede2735",
   "metadata": {},
   "outputs": [],
   "source": [
    "df.groupby('Category').describe()"
   ]
  },
  {
   "cell_type": "code",
   "execution_count": null,
   "id": "3f77707a",
   "metadata": {},
   "outputs": [],
   "source": [
    "df['spam'] = df['Category'].apply(lambda x :1 if x=='spam' else 0)\n",
    "df.head()"
   ]
  },
  {
   "cell_type": "code",
   "execution_count": null,
   "id": "1716ea1b",
   "metadata": {},
   "outputs": [],
   "source": [
    "from sklearn.model_selection import train_test_split\n",
    "\n",
    "X_train,X_test, y_train, y_test =  train_test_split(df['Message'], df['spam'], test_size=0.2, random_state=42, stratify=df['spam'])"
   ]
  },
  {
   "cell_type": "code",
   "execution_count": null,
   "id": "e79f9d98",
   "metadata": {},
   "outputs": [],
   "source": [
    "y_train.value_counts()"
   ]
  },
  {
   "cell_type": "code",
   "execution_count": null,
   "id": "e105dc1c",
   "metadata": {},
   "outputs": [],
   "source": [
    "y_test.value_counts()"
   ]
  },
  {
   "cell_type": "code",
   "execution_count": null,
   "id": "f69ee4ca",
   "metadata": {},
   "outputs": [],
   "source": [
    "def get_sentence_embedding(sentences):\n",
    "    preprocessed_text = bert_preprocess_model(sentences)\n",
    "    return bert_model(preprocessed_text)['pooled_output']"
   ]
  },
  {
   "cell_type": "markdown",
   "id": "429cb77f",
   "metadata": {},
   "source": [
    "### Let's try out our function"
   ]
  },
  {
   "cell_type": "code",
   "execution_count": null,
   "id": "472db866",
   "metadata": {},
   "outputs": [],
   "source": [
    "get_sentence_embedding([\n",
    "    \"I am gonna be home soon and i don't want to talk about this stuff anymore tonight\",\n",
    "    \"You have won a lottery. please click on link to claim\"\n",
    "])"
   ]
  },
  {
   "cell_type": "code",
   "execution_count": null,
   "id": "e822ecbf",
   "metadata": {},
   "outputs": [],
   "source": [
    "e = get_sentence_embedding([\n",
    "    \"banana\",\n",
    "    \"apple\",\n",
    "    \"mango\",\n",
    "    \"police\",\n",
    "    \"lawyer\",\n",
    "    \"dog\"\n",
    "])"
   ]
  },
  {
   "cell_type": "code",
   "execution_count": null,
   "id": "7b0eb70f",
   "metadata": {},
   "outputs": [],
   "source": [
    "e"
   ]
  },
  {
   "cell_type": "code",
   "execution_count": null,
   "id": "c9d8ad70",
   "metadata": {},
   "outputs": [],
   "source": [
    "from sklearn.metrics.pairwise import cosine_similarity"
   ]
  },
  {
   "cell_type": "markdown",
   "id": "d21b378d",
   "metadata": {},
   "source": [
    "comparing vector of banana and apple"
   ]
  },
  {
   "cell_type": "code",
   "execution_count": null,
   "id": "b1d6255d",
   "metadata": {
    "scrolled": true
   },
   "outputs": [],
   "source": [
    "cosine_similarity([e[0]], [e[1]])"
   ]
  },
  {
   "cell_type": "code",
   "execution_count": null,
   "id": "48bc66a1",
   "metadata": {},
   "outputs": [],
   "source": [
    "cosine_similarity([e[0]], [e[2]])"
   ]
  },
  {
   "cell_type": "markdown",
   "id": "956aefd1",
   "metadata": {},
   "source": [
    "## Building Model"
   ]
  },
  {
   "cell_type": "code",
   "execution_count": 1,
   "id": "75f3a7e0",
   "metadata": {},
   "outputs": [
    {
     "ename": "NameError",
     "evalue": "name 'tf' is not defined",
     "output_type": "error",
     "traceback": [
      "\u001b[1;31m---------------------------------------------------------------------------\u001b[0m",
      "\u001b[1;31mNameError\u001b[0m                                 Traceback (most recent call last)",
      "\u001b[1;32m~\\AppData\\Local\\Temp/ipykernel_2192/608070787.py\u001b[0m in \u001b[0;36m<module>\u001b[1;34m\u001b[0m\n\u001b[1;32m----> 1\u001b[1;33m \u001b[0mtext_input\u001b[0m \u001b[1;33m=\u001b[0m \u001b[0mtf\u001b[0m\u001b[1;33m.\u001b[0m\u001b[0mkeras\u001b[0m\u001b[1;33m.\u001b[0m\u001b[0mlayers\u001b[0m\u001b[1;33m.\u001b[0m\u001b[0mInput\u001b[0m\u001b[1;33m(\u001b[0m\u001b[0mshape\u001b[0m\u001b[1;33m=\u001b[0m\u001b[1;33m(\u001b[0m\u001b[1;33m)\u001b[0m\u001b[1;33m,\u001b[0m \u001b[0mdtype\u001b[0m\u001b[1;33m=\u001b[0m\u001b[0mtf\u001b[0m\u001b[1;33m.\u001b[0m\u001b[0mstring\u001b[0m\u001b[1;33m,\u001b[0m \u001b[0mname\u001b[0m\u001b[1;33m=\u001b[0m\u001b[1;34m'text'\u001b[0m\u001b[1;33m)\u001b[0m\u001b[1;33m\u001b[0m\u001b[1;33m\u001b[0m\u001b[0m\n\u001b[0m\u001b[0;32m      2\u001b[0m \u001b[1;33m\u001b[0m\u001b[0m\n\u001b[0;32m      3\u001b[0m \u001b[0mpreprocessed_text\u001b[0m \u001b[1;33m=\u001b[0m \u001b[0mbert_preprocess_model\u001b[0m\u001b[1;33m(\u001b[0m\u001b[0mtext_input\u001b[0m\u001b[1;33m)\u001b[0m\u001b[1;33m\u001b[0m\u001b[1;33m\u001b[0m\u001b[0m\n\u001b[0;32m      4\u001b[0m \u001b[0moutputs\u001b[0m \u001b[1;33m=\u001b[0m \u001b[0mbert_model\u001b[0m\u001b[1;33m(\u001b[0m\u001b[0mpreprocessed_text\u001b[0m\u001b[1;33m)\u001b[0m\u001b[1;33m\u001b[0m\u001b[1;33m\u001b[0m\u001b[0m\n\u001b[0;32m      5\u001b[0m \u001b[1;33m\u001b[0m\u001b[0m\n",
      "\u001b[1;31mNameError\u001b[0m: name 'tf' is not defined"
     ]
    }
   ],
   "source": [
    "text_input = tf.keras.layers.Input(shape=(), dtype=tf.string, name='text')\n",
    "\n",
    "preprocessed_text = bert_preprocess_model(text_input)\n",
    "outputs = bert_model(preprocessed_text)\n",
    "\n",
    "layer = tf.keras.layers.Dropout(0.1, name=\"dropout\")(outputs['pooled_output'])\n",
    "\n",
    "final_layer = tf.keras.layers.Dense(1, activation='sigmoid', name=\"final\")(layer)\n",
    "\n",
    "model = tf.keras.Model(inputs=[text_input], outputs=[final_layer])\n",
    "model.summary()"
   ]
  },
  {
   "cell_type": "code",
   "execution_count": 57,
   "id": "3b8fae59",
   "metadata": {},
   "outputs": [],
   "source": [
    "model.compile(optimizer='adam',\n",
    "             loss='binary_crossentropy',\n",
    "             metrics=['accuracy'])"
   ]
  },
  {
   "cell_type": "code",
   "execution_count": 58,
   "id": "bc490f14",
   "metadata": {},
   "outputs": [
    {
     "name": "stdout",
     "output_type": "stream",
     "text": [
      "Epoch 1/5\n",
      "140/140 [==============================] - 1297s 9s/step - loss: 0.3135 - accuracy: 0.8672\n",
      "Epoch 2/5\n",
      "140/140 [==============================] - 1224s 9s/step - loss: 0.2217 - accuracy: 0.9096\n",
      "Epoch 3/5\n",
      "140/140 [==============================] - 1231s 9s/step - loss: 0.1866 - accuracy: 0.9289\n",
      "Epoch 4/5\n",
      "140/140 [==============================] - 1225s 9s/step - loss: 0.1619 - accuracy: 0.9417\n",
      "Epoch 5/5\n",
      "140/140 [==============================] - 1432s 10s/step - loss: 0.1472 - accuracy: 0.9511\n"
     ]
    },
    {
     "data": {
      "text/plain": [
       "<keras.callbacks.History at 0x19757710af0>"
      ]
     },
     "execution_count": 58,
     "metadata": {},
     "output_type": "execute_result"
    }
   ],
   "source": [
    "model.fit(X_train,y_train,epochs=5)"
   ]
  },
  {
   "cell_type": "code",
   "execution_count": 59,
   "id": "6e9b4515",
   "metadata": {},
   "outputs": [
    {
     "name": "stdout",
     "output_type": "stream",
     "text": [
      "35/35 [==============================] - 482s 14s/step - loss: 0.1428 - accuracy: 0.9632\n"
     ]
    },
    {
     "data": {
      "text/plain": [
       "[0.1427883505821228, 0.963228702545166]"
      ]
     },
     "execution_count": 59,
     "metadata": {},
     "output_type": "execute_result"
    }
   ],
   "source": [
    "model.evaluate(X_test,y_test)"
   ]
  },
  {
   "cell_type": "code",
   "execution_count": 6,
   "id": "a65fcdf1",
   "metadata": {},
   "outputs": [],
   "source": [
    "sample = [\n",
    "    \"Reply to win $5000 weekly! Where will the 2006 FIFA World Cup be held? Send STOP to 87239 to end\",\n",
    "    \"You are awarded a SiPix Digital Camera! call 0906122061 from landline.Delivery within 28days\",\n",
    "    \"it to 80488. Your 500 free text message are valid until 31 December 2005\",\n",
    "    \"Hey Sam, Are you coming for a cricket game tomorrow\",\n",
    "    \"Why don't you wait until at least wednesday to see if you get your\"\n",
    "]\n",
    "\n"
   ]
  },
  {
   "cell_type": "code",
   "execution_count": 69,
   "id": "1e399cc8",
   "metadata": {},
   "outputs": [],
   "source": [
    "def Predict(text):\n",
    "    output = model.predict(text)\n",
    "    result = []\n",
    "    for i in output:\n",
    "        if i >0.5:\n",
    "            i = \"spam\"\n",
    "            result.append(i)\n",
    "        else:\n",
    "            i = \"not a spam\"\n",
    "            result.append(i)\n",
    "    return result"
   ]
  },
  {
   "cell_type": "code",
   "execution_count": 70,
   "id": "dc040722",
   "metadata": {},
   "outputs": [
    {
     "name": "stdout",
     "output_type": "stream",
     "text": [
      "1/1 [==============================] - 2s 2s/step\n"
     ]
    },
    {
     "data": {
      "text/plain": [
       "['spam', 'spam', 'not a spam', 'not a spam', 'not a spam']"
      ]
     },
     "execution_count": 70,
     "metadata": {},
     "output_type": "execute_result"
    }
   ],
   "source": [
    "Predict(sample)"
   ]
  },
  {
   "cell_type": "code",
   "execution_count": 78,
   "id": "07652087",
   "metadata": {},
   "outputs": [
    {
     "name": "stderr",
     "output_type": "stream",
     "text": [
      "WARNING:absl:Found untraced functions such as restored_function_body, restored_function_body, restored_function_body, restored_function_body, restored_function_body while saving (showing 5 of 366). These functions will not be directly callable after loading.\n"
     ]
    },
    {
     "name": "stdout",
     "output_type": "stream",
     "text": [
      "INFO:tensorflow:Assets written to: ./Spam_or_not_a_spam\\assets\n"
     ]
    },
    {
     "name": "stderr",
     "output_type": "stream",
     "text": [
      "INFO:tensorflow:Assets written to: ./Spam_or_not_a_spam\\assets\n"
     ]
    }
   ],
   "source": [
    "model.save(\"./Spam_or_not_a_spam\", include_optimizer=False)"
   ]
  },
  {
   "cell_type": "code",
   "execution_count": 4,
   "id": "970995b5",
   "metadata": {},
   "outputs": [],
   "source": [
    "import tensorflow as tf\n",
    "import tensorflow_text as text\n",
    "\n",
    "reloaded_model = tf.saved_model.load(\"./Spam_or_not_a_spam\")"
   ]
  },
  {
   "cell_type": "code",
   "execution_count": 8,
   "id": "ab768ad4",
   "metadata": {},
   "outputs": [
    {
     "data": {
      "text/plain": [
       "<tf.Tensor: shape=(5, 1), dtype=float32, numpy=\n",
       "array([[0.6556829 ],\n",
       "       [0.6451667 ],\n",
       "       [0.47689074],\n",
       "       [0.04374119],\n",
       "       [0.01255653]], dtype=float32)>"
      ]
     },
     "execution_count": 8,
     "metadata": {},
     "output_type": "execute_result"
    }
   ],
   "source": [
    "reloaded_model(sample)"
   ]
  },
  {
   "cell_type": "code",
   "execution_count": 7,
   "id": "682e8467",
   "metadata": {},
   "outputs": [],
   "source": [
    "def Prediction(text):\n",
    "    output = reloaded_model(text)\n",
    "    result = []\n",
    "    for i in output:\n",
    "        if i >0.5:\n",
    "            i = \"spam\"\n",
    "            result.append(i)\n",
    "        else:\n",
    "            i = \"not a spam\"\n",
    "            result.append(i)\n",
    "    return result"
   ]
  },
  {
   "cell_type": "code",
   "execution_count": 9,
   "id": "94dd9dbd",
   "metadata": {},
   "outputs": [
    {
     "data": {
      "text/plain": [
       "['spam', 'spam', 'not a spam', 'not a spam', 'not a spam']"
      ]
     },
     "execution_count": 9,
     "metadata": {},
     "output_type": "execute_result"
    }
   ],
   "source": [
    "Prediction(sample)"
   ]
  },
  {
   "cell_type": "code",
   "execution_count": null,
   "id": "bad8d4bc",
   "metadata": {},
   "outputs": [],
   "source": []
  }
 ],
 "metadata": {
  "kernelspec": {
   "display_name": "Python 3 (ipykernel)",
   "language": "python",
   "name": "python3"
  },
  "language_info": {
   "codemirror_mode": {
    "name": "ipython",
    "version": 3
   },
   "file_extension": ".py",
   "mimetype": "text/x-python",
   "name": "python",
   "nbconvert_exporter": "python",
   "pygments_lexer": "ipython3",
   "version": "3.9.7"
  }
 },
 "nbformat": 4,
 "nbformat_minor": 5
}
