{
 "cells": [
  {
   "cell_type": "code",
   "execution_count": 95,
   "id": "4b82d1e7",
   "metadata": {},
   "outputs": [],
   "source": [
    "import tensorflow as tf\n",
    "import json\n",
    "import pandas as pd\n",
    "import numpy as np\n",
    "from tensorflow.keras.preprocessing.text import Tokenizer\n",
    "from tensorflow.keras.preprocessing.sequence import pad_sequences"
   ]
  },
  {
   "cell_type": "code",
   "execution_count": 96,
   "id": "e2408611",
   "metadata": {},
   "outputs": [],
   "source": [
    "df = pd.read_json('Sarcasm_Headlines_Dataset_v2.json', lines=True)"
   ]
  },
  {
   "cell_type": "code",
   "execution_count": 97,
   "id": "2d6ff97e",
   "metadata": {},
   "outputs": [
    {
     "data": {
      "text/html": [
       "<div>\n",
       "<style scoped>\n",
       "    .dataframe tbody tr th:only-of-type {\n",
       "        vertical-align: middle;\n",
       "    }\n",
       "\n",
       "    .dataframe tbody tr th {\n",
       "        vertical-align: top;\n",
       "    }\n",
       "\n",
       "    .dataframe thead th {\n",
       "        text-align: right;\n",
       "    }\n",
       "</style>\n",
       "<table border=\"1\" class=\"dataframe\">\n",
       "  <thead>\n",
       "    <tr style=\"text-align: right;\">\n",
       "      <th></th>\n",
       "      <th>is_sarcastic</th>\n",
       "      <th>headline</th>\n",
       "      <th>article_link</th>\n",
       "    </tr>\n",
       "  </thead>\n",
       "  <tbody>\n",
       "    <tr>\n",
       "      <th>0</th>\n",
       "      <td>1</td>\n",
       "      <td>thirtysomething scientists unveil doomsday clo...</td>\n",
       "      <td>https://www.theonion.com/thirtysomething-scien...</td>\n",
       "    </tr>\n",
       "    <tr>\n",
       "      <th>1</th>\n",
       "      <td>0</td>\n",
       "      <td>dem rep. totally nails why congress is falling...</td>\n",
       "      <td>https://www.huffingtonpost.com/entry/donna-edw...</td>\n",
       "    </tr>\n",
       "    <tr>\n",
       "      <th>2</th>\n",
       "      <td>0</td>\n",
       "      <td>eat your veggies: 9 deliciously different recipes</td>\n",
       "      <td>https://www.huffingtonpost.com/entry/eat-your-...</td>\n",
       "    </tr>\n",
       "    <tr>\n",
       "      <th>3</th>\n",
       "      <td>1</td>\n",
       "      <td>inclement weather prevents liar from getting t...</td>\n",
       "      <td>https://local.theonion.com/inclement-weather-p...</td>\n",
       "    </tr>\n",
       "    <tr>\n",
       "      <th>4</th>\n",
       "      <td>1</td>\n",
       "      <td>mother comes pretty close to using word 'strea...</td>\n",
       "      <td>https://www.theonion.com/mother-comes-pretty-c...</td>\n",
       "    </tr>\n",
       "  </tbody>\n",
       "</table>\n",
       "</div>"
      ],
      "text/plain": [
       "   is_sarcastic                                           headline  \\\n",
       "0             1  thirtysomething scientists unveil doomsday clo...   \n",
       "1             0  dem rep. totally nails why congress is falling...   \n",
       "2             0  eat your veggies: 9 deliciously different recipes   \n",
       "3             1  inclement weather prevents liar from getting t...   \n",
       "4             1  mother comes pretty close to using word 'strea...   \n",
       "\n",
       "                                        article_link  \n",
       "0  https://www.theonion.com/thirtysomething-scien...  \n",
       "1  https://www.huffingtonpost.com/entry/donna-edw...  \n",
       "2  https://www.huffingtonpost.com/entry/eat-your-...  \n",
       "3  https://local.theonion.com/inclement-weather-p...  \n",
       "4  https://www.theonion.com/mother-comes-pretty-c...  "
      ]
     },
     "execution_count": 97,
     "metadata": {},
     "output_type": "execute_result"
    }
   ],
   "source": [
    "df.head()"
   ]
  },
  {
   "cell_type": "code",
   "execution_count": 98,
   "id": "73f9d73b",
   "metadata": {},
   "outputs": [],
   "source": [
    "sentences = df.headline.values"
   ]
  },
  {
   "cell_type": "code",
   "execution_count": 99,
   "id": "49188e38",
   "metadata": {},
   "outputs": [],
   "source": [
    "labels = df.is_sarcastic.values"
   ]
  },
  {
   "cell_type": "code",
   "execution_count": 100,
   "id": "622967d3",
   "metadata": {},
   "outputs": [],
   "source": [
    "# Splitting into train and test datasets\n",
    "training_sentences = sentences[0:20000]\n",
    "testing_sentences = sentences[20000:]\n",
    "\n",
    "training_labels = labels[0:20000]\n",
    "testing_labels = labels[20000:]\n"
   ]
  },
  {
   "cell_type": "markdown",
   "id": "40623a9b",
   "metadata": {},
   "source": [
    "## Tokenizing"
   ]
  },
  {
   "cell_type": "code",
   "execution_count": 101,
   "id": "a98e25ef",
   "metadata": {},
   "outputs": [],
   "source": [
    "tokenizer = Tokenizer(num_words=10000, oov_token=\"<OOV>\")\n",
    "tokenizer.fit_on_texts(training_sentences)\n",
    "\n",
    "word_index = tokenizer.word_index\n",
    "\n",
    "training_sentences = tokenizer.texts_to_sequences(training_sentences)\n",
    "training_padded = pad_sequences(training_sentences, padding='post', truncating='post', maxlen=100)\n",
    "\n",
    "\n",
    "\n",
    "testing_sentences = tokenizer.texts_to_sequences(testing_sentences)\n",
    "testing_padded = pad_sequences(testing_sentences, padding='post', truncating='post', maxlen=100)"
   ]
  },
  {
   "cell_type": "code",
   "execution_count": 102,
   "id": "2a354830",
   "metadata": {},
   "outputs": [],
   "source": [
    "# Covert into a array\n",
    "training_padded = np.array(training_padded)\n",
    "training_labels = np.array(training_labels)\n",
    "testing_padded = np.array(testing_padded)\n",
    "testing_labels = np.array(testing_labels)"
   ]
  },
  {
   "cell_type": "code",
   "execution_count": 103,
   "id": "61b4d09d",
   "metadata": {},
   "outputs": [],
   "source": [
    "vocab_size = 10000\n",
    "embeddinf_dim = 16"
   ]
  },
  {
   "cell_type": "code",
   "execution_count": 104,
   "id": "61fe09b4",
   "metadata": {},
   "outputs": [],
   "source": [
    "# Building Model\n",
    "model = tf.keras.Sequential([\n",
    "    tf.keras.layers.Embedding(vocab_size,embeddinf_dim,input_length=100),\n",
    "    tf.keras.layers.GlobalAveragePooling1D(),\n",
    "    tf.keras.layers.Dense(24, activation='relu'),\n",
    "   \n",
    "    tf.keras.layers.Dense(1, activation='sigmoid')\n",
    "])"
   ]
  },
  {
   "cell_type": "code",
   "execution_count": 105,
   "id": "7fda054d",
   "metadata": {},
   "outputs": [],
   "source": [
    "model.compile(loss= 'binary_crossentropy', optimizer='adam', metrics=['accuracy'])"
   ]
  },
  {
   "cell_type": "code",
   "execution_count": 106,
   "id": "4a284a06",
   "metadata": {},
   "outputs": [
    {
     "name": "stdout",
     "output_type": "stream",
     "text": [
      "Model: \"sequential_6\"\n",
      "_________________________________________________________________\n",
      " Layer (type)                Output Shape              Param #   \n",
      "=================================================================\n",
      " embedding_6 (Embedding)     (None, 100, 16)           160000    \n",
      "                                                                 \n",
      " global_average_pooling1d_6   (None, 16)               0         \n",
      " (GlobalAveragePooling1D)                                        \n",
      "                                                                 \n",
      " dense_12 (Dense)            (None, 24)                408       \n",
      "                                                                 \n",
      " dense_13 (Dense)            (None, 1)                 25        \n",
      "                                                                 \n",
      "=================================================================\n",
      "Total params: 160,433\n",
      "Trainable params: 160,433\n",
      "Non-trainable params: 0\n",
      "_________________________________________________________________\n"
     ]
    }
   ],
   "source": [
    "model.summary()"
   ]
  },
  {
   "cell_type": "code",
   "execution_count": 107,
   "id": "fabaffa4",
   "metadata": {},
   "outputs": [
    {
     "name": "stdout",
     "output_type": "stream",
     "text": [
      "Epoch 1/30\n",
      "625/625 - 3s - loss: 0.6589 - accuracy: 0.6330 - val_loss: 0.5408 - val_accuracy: 0.8120 - 3s/epoch - 5ms/step\n",
      "Epoch 2/30\n",
      "625/625 - 2s - loss: 0.4165 - accuracy: 0.8377 - val_loss: 0.3863 - val_accuracy: 0.8264 - 2s/epoch - 4ms/step\n",
      "Epoch 3/30\n",
      "625/625 - 2s - loss: 0.3113 - accuracy: 0.8774 - val_loss: 0.3409 - val_accuracy: 0.8540 - 2s/epoch - 3ms/step\n",
      "Epoch 4/30\n",
      "625/625 - 2s - loss: 0.2617 - accuracy: 0.8968 - val_loss: 0.3338 - val_accuracy: 0.8562 - 2s/epoch - 3ms/step\n",
      "Epoch 5/30\n",
      "625/625 - 2s - loss: 0.2267 - accuracy: 0.9145 - val_loss: 0.3361 - val_accuracy: 0.8557 - 2s/epoch - 3ms/step\n",
      "Epoch 6/30\n",
      "625/625 - 3s - loss: 0.2022 - accuracy: 0.9227 - val_loss: 0.3526 - val_accuracy: 0.8445 - 3s/epoch - 4ms/step\n",
      "Epoch 7/30\n",
      "625/625 - 3s - loss: 0.1798 - accuracy: 0.9347 - val_loss: 0.3490 - val_accuracy: 0.8528 - 3s/epoch - 4ms/step\n",
      "Epoch 8/30\n",
      "625/625 - 2s - loss: 0.1621 - accuracy: 0.9408 - val_loss: 0.3654 - val_accuracy: 0.8481 - 2s/epoch - 4ms/step\n",
      "Epoch 9/30\n",
      "625/625 - 2s - loss: 0.1460 - accuracy: 0.9477 - val_loss: 0.3777 - val_accuracy: 0.8485 - 2s/epoch - 4ms/step\n",
      "Epoch 10/30\n",
      "625/625 - 2s - loss: 0.1324 - accuracy: 0.9524 - val_loss: 0.4122 - val_accuracy: 0.8405 - 2s/epoch - 4ms/step\n",
      "Epoch 11/30\n",
      "625/625 - 2s - loss: 0.1221 - accuracy: 0.9570 - val_loss: 0.4193 - val_accuracy: 0.8415 - 2s/epoch - 4ms/step\n",
      "Epoch 12/30\n",
      "625/625 - 2s - loss: 0.1124 - accuracy: 0.9614 - val_loss: 0.4444 - val_accuracy: 0.8373 - 2s/epoch - 4ms/step\n",
      "Epoch 13/30\n",
      "625/625 - 3s - loss: 0.1023 - accuracy: 0.9653 - val_loss: 0.4655 - val_accuracy: 0.8352 - 3s/epoch - 4ms/step\n",
      "Epoch 14/30\n",
      "625/625 - 2s - loss: 0.0933 - accuracy: 0.9689 - val_loss: 0.5118 - val_accuracy: 0.8282 - 2s/epoch - 4ms/step\n",
      "Epoch 15/30\n",
      "625/625 - 3s - loss: 0.0872 - accuracy: 0.9714 - val_loss: 0.5615 - val_accuracy: 0.8252 - 3s/epoch - 4ms/step\n",
      "Epoch 16/30\n",
      "625/625 - 3s - loss: 0.0808 - accuracy: 0.9729 - val_loss: 0.5778 - val_accuracy: 0.8249 - 3s/epoch - 4ms/step\n",
      "Epoch 17/30\n",
      "625/625 - 2s - loss: 0.0739 - accuracy: 0.9765 - val_loss: 0.5813 - val_accuracy: 0.8270 - 2s/epoch - 4ms/step\n",
      "Epoch 18/30\n",
      "625/625 - 2s - loss: 0.0675 - accuracy: 0.9791 - val_loss: 0.6694 - val_accuracy: 0.8192 - 2s/epoch - 4ms/step\n",
      "Epoch 19/30\n",
      "625/625 - 2s - loss: 0.0637 - accuracy: 0.9797 - val_loss: 0.6502 - val_accuracy: 0.8220 - 2s/epoch - 4ms/step\n",
      "Epoch 20/30\n",
      "625/625 - 2s - loss: 0.0582 - accuracy: 0.9829 - val_loss: 0.7012 - val_accuracy: 0.8191 - 2s/epoch - 4ms/step\n",
      "Epoch 21/30\n",
      "625/625 - 2s - loss: 0.0532 - accuracy: 0.9839 - val_loss: 0.7399 - val_accuracy: 0.8181 - 2s/epoch - 4ms/step\n",
      "Epoch 22/30\n",
      "625/625 - 3s - loss: 0.0503 - accuracy: 0.9845 - val_loss: 0.7903 - val_accuracy: 0.8155 - 3s/epoch - 4ms/step\n",
      "Epoch 23/30\n",
      "625/625 - 2s - loss: 0.0475 - accuracy: 0.9869 - val_loss: 0.7962 - val_accuracy: 0.8168 - 2s/epoch - 4ms/step\n",
      "Epoch 24/30\n",
      "625/625 - 2s - loss: 0.0423 - accuracy: 0.9882 - val_loss: 0.8361 - val_accuracy: 0.8130 - 2s/epoch - 4ms/step\n",
      "Epoch 25/30\n",
      "625/625 - 3s - loss: 0.0400 - accuracy: 0.9886 - val_loss: 0.8881 - val_accuracy: 0.8126 - 3s/epoch - 4ms/step\n",
      "Epoch 26/30\n",
      "625/625 - 2s - loss: 0.0387 - accuracy: 0.9884 - val_loss: 0.9154 - val_accuracy: 0.8119 - 2s/epoch - 4ms/step\n",
      "Epoch 27/30\n",
      "625/625 - 3s - loss: 0.0344 - accuracy: 0.9909 - val_loss: 0.9569 - val_accuracy: 0.8110 - 3s/epoch - 5ms/step\n",
      "Epoch 28/30\n",
      "625/625 - 2s - loss: 0.0321 - accuracy: 0.9905 - val_loss: 0.9998 - val_accuracy: 0.8096 - 2s/epoch - 4ms/step\n",
      "Epoch 29/30\n",
      "625/625 - 2s - loss: 0.0299 - accuracy: 0.9918 - val_loss: 1.0515 - val_accuracy: 0.8043 - 2s/epoch - 4ms/step\n",
      "Epoch 30/30\n",
      "625/625 - 2s - loss: 0.0278 - accuracy: 0.9923 - val_loss: 1.0969 - val_accuracy: 0.8064 - 2s/epoch - 4ms/step\n"
     ]
    }
   ],
   "source": [
    "history = model.fit(training_padded, training_labels, epochs=30, validation_data=(testing_padded,testing_labels),\n",
    "                   verbose=2)"
   ]
  },
  {
   "cell_type": "code",
   "execution_count": 108,
   "id": "c66cb304",
   "metadata": {},
   "outputs": [],
   "source": [
    "import matplotlib.pyplot as plt\n",
    "\n",
    "def plot_graph(history, metric):\n",
    "    plt.plot(history.history[metric])\n",
    "    plt.plot(history.history['val_'+metric], \"\")\n",
    "    plt.xlabel(\"epochs\")\n",
    "    plt.ylabel(metric)\n",
    "    plt.legend([metric, 'val_'+metric])"
   ]
  },
  {
   "cell_type": "code",
   "execution_count": 109,
   "id": "89f4a5b3",
   "metadata": {},
   "outputs": [
    {
     "name": "stdout",
     "output_type": "stream",
     "text": [
      "270/270 [==============================] - 1s 2ms/step - loss: 1.0969 - accuracy: 0.8064\n",
      "test loss:  1.0969462394714355\n",
      "test acc:  0.8063580393791199\n"
     ]
    }
   ],
   "source": [
    "test_loss, test_acc = model.evaluate(testing_padded, testing_labels)\n",
    "\n",
    "print('test loss: ', test_loss)\n",
    "print('test acc: ', test_acc)"
   ]
  },
  {
   "cell_type": "code",
   "execution_count": 110,
   "id": "4bce3838",
   "metadata": {},
   "outputs": [
    {
     "data": {
      "text/plain": [
       "(0.0, 1.1504033980891109)"
      ]
     },
     "execution_count": 110,
     "metadata": {},
     "output_type": "execute_result"
    },
    {
     "data": {
      "image/png": "[encoded data removed]",
      "text/plain": [
       "<Figure size 1152x576 with 2 Axes>"
      ]
     },
     "metadata": {
      "needs_background": "light"
     },
     "output_type": "display_data"
    }
   ],
   "source": [
    "plt.figure(figsize=(16,8))\n",
    "plt.subplot(1,2,1)\n",
    "plot_graph(history, 'accuracy')\n",
    "plt.ylim(None,1)\n",
    "plt.subplot(1,2,2)\n",
    "plot_graph(history, 'loss')\n",
    "plt.ylim(0, None)"
   ]
  },
  {
   "cell_type": "code",
   "execution_count": 112,
   "id": "911a2268",
   "metadata": {},
   "outputs": [
    {
     "name": "stdout",
     "output_type": "stream",
     "text": [
      "[[6.9589663e-01]\n",
      " [1.6034418e-08]]\n"
     ]
    }
   ],
   "source": [
    "## Prediction \n",
    "sentence = [\"granny starting to fear spiders in the garden might be real\",\n",
    "          \"game of thrones season finale showing this sunday night\"]\n",
    "sequences = tokenizer.texts_to_sequences(sentence)\n",
    "padded = pad_sequences(sequences, maxlen = 100, padding='post', truncating ='post')\n",
    "print(model.predict(padded))"
   ]
  },
  {
   "cell_type": "code",
   "execution_count": null,
   "id": "bc89001b",
   "metadata": {},
   "outputs": [],
   "source": []
  }
 ],
 "metadata": {
  "kernelspec": {
   "display_name": "Python 3 (ipykernel)",
   "language": "python",
   "name": "python3"
  },
  "language_info": {
   "codemirror_mode": {
    "name": "ipython",
    "version": 3
   },
   "file_extension": ".py",
   "mimetype": "text/x-python",
   "name": "python",
   "nbconvert_exporter": "python",
   "pygments_lexer": "ipython3",
   "version": "3.9.7"
  }
 },
 "nbformat": 4,
 "nbformat_minor": 5
}
