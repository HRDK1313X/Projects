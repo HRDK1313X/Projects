{
 "cells": [
  {
   "cell_type": "code",
   "execution_count": 1,
   "id": "e09a3cfc",
   "metadata": {},
   "outputs": [],
   "source": [
    "import os\n",
    "import numpy as np\n",
    "import tensorflow as tf\n",
    "import tensorflow_datasets as tfds\n",
    "import tensorflow_hub as hub\n"
   ]
  },
  {
   "cell_type": "code",
   "execution_count": 2,
   "id": "7896173b",
   "metadata": {},
   "outputs": [],
   "source": [
    "train_d, val_ds, test_ds = tfds.load('imdb_reviews', split=('train[:60%]','train[60%:]', 'test'),\n",
    "                         as_supervised=True)\n"
   ]
  },
  {
   "cell_type": "code",
   "execution_count": 3,
   "id": "3ea2d44d",
   "metadata": {
    "scrolled": true
   },
   "outputs": [
    {
     "data": {
      "text/plain": [
       "<tf.Tensor: shape=(10,), dtype=string, numpy=\n",
       "array([b\"This was an absolutely terrible movie. Don't be lured in by Christopher Walken or Michael Ironside. Both are great actors, but this must simply be their worst role in history. Even their great acting could not redeem this movie's ridiculous storyline. This movie is an early nineties US propaganda piece. The most pathetic scenes were those when the Columbian rebels were making their cases for revolutions. Maria Conchita Alonso appeared phony, and her pseudo-love affair with Walken was nothing but a pathetic emotional plug in a movie that was devoid of any real meaning. I am disappointed that there are movies like this, ruining actor's like Christopher Walken's good name. I could barely sit through it.\",\n",
       "       b'I have been known to fall asleep during films, but this is usually due to a combination of things including, really tired, being warm and comfortable on the sette and having just eaten a lot. However on this occasion I fell asleep because the film was rubbish. The plot development was constant. Constantly slow and boring. Things seemed to happen, but with no explanation of what was causing them or why. I admit, I may have missed part of the film, but i watched the majority of it and everything just seemed to happen of its own accord without any real concern for anything else. I cant recommend this film at all.',\n",
       "       b'Mann photographs the Alberta Rocky Mountains in a superb fashion, and Jimmy Stewart and Walter Brennan give enjoyable performances as they always seem to do. <br /><br />But come on Hollywood - a Mountie telling the people of Dawson City, Yukon to elect themselves a marshal (yes a marshal!) and to enforce the law themselves, then gunfighters battling it out on the streets for control of the town? <br /><br />Nothing even remotely resembling that happened on the Canadian side of the border during the Klondike gold rush. Mr. Mann and company appear to have mistaken Dawson City for Deadwood, the Canadian North for the American Wild West.<br /><br />Canadian viewers be prepared for a Reefer Madness type of enjoyable howl with this ludicrous plot, or, to shake your head in disgust.',\n",
       "       b'This is the kind of film for a snowy Sunday afternoon when the rest of the world can go ahead with its own business as you descend into a big arm-chair and mellow for a couple of hours. Wonderful performances from Cher and Nicolas Cage (as always) gently row the plot along. There are no rapids to cross, no dangerous waters, just a warm and witty paddle through New York life at its best. A family film in every sense and one that deserves the praise it received.',\n",
       "       b'As others have mentioned, all the women that go nude in this film are mostly absolutely gorgeous. The plot very ably shows the hypocrisy of the female libido. When men are around they want to be pursued, but when no \"men\" are around, they become the pursuers of a 14 year old boy. And the boy becomes a man really fast (we should all be so lucky at this age!). He then gets up the courage to pursue his true love.',\n",
       "       b\"This is a film which should be seen by anybody interested in, effected by, or suffering from an eating disorder. It is an amazingly accurate and sensitive portrayal of bulimia in a teenage girl, its causes and its symptoms. The girl is played by one of the most brilliant young actresses working in cinema today, Alison Lohman, who was later so spectacular in 'Where the Truth Lies'. I would recommend that this film be shown in all schools, as you will never see a better on this subject. Alison Lohman is absolutely outstanding, and one marvels at her ability to convey the anguish of a girl suffering from this compulsive disorder. If barometers tell us the air pressure, Alison Lohman tells us the emotional pressure with the same degree of accuracy. Her emotional range is so precise, each scene could be measured microscopically for its gradations of trauma, on a scale of rising hysteria and desperation which reaches unbearable intensity. Mare Winningham is the perfect choice to play her mother, and does so with immense sympathy and a range of emotions just as finely tuned as Lohman's. Together, they make a pair of sensitive emotional oscillators vibrating in resonance with one another. This film is really an astonishing achievement, and director Katt Shea should be proud of it. The only reason for not seeing it is if you are not interested in people. But even if you like nature films best, this is after all animal behaviour at the sharp edge. Bulimia is an extreme version of how a tormented soul can destroy her own body in a frenzy of despair. And if we don't sympathise with people suffering from the depths of despair, then we are dead inside.\",\n",
       "       b'Okay, you have:<br /><br />Penelope Keith as Miss Herringbone-Tweed, B.B.E. (Backbone of England.) She\\'s killed off in the first scene - that\\'s right, folks; this show has no backbone!<br /><br />Peter O\\'Toole as Ol\\' Colonel Cricket from The First War and now the emblazered Lord of the Manor.<br /><br />Joanna Lumley as the ensweatered Lady of the Manor, 20 years younger than the colonel and 20 years past her own prime but still glamourous (Brit spelling, not mine) enough to have a toy-boy on the side. It\\'s alright, they have Col. Cricket\\'s full knowledge and consent (they guy even comes \\'round for Christmas!) Still, she\\'s considerate of the colonel enough to have said toy-boy her own age (what a gal!)<br /><br />David McCallum as said toy-boy, equally as pointlessly glamourous as his squeeze. Pilcher couldn\\'t come up with any cover for him within the story, so she gave him a hush-hush job at the Circus.<br /><br />and finally:<br /><br />Susan Hampshire as Miss Polonia Teacups, Venerable Headmistress of the Venerable Girls\\' Boarding-School, serving tea in her office with a dash of deep, poignant advice for life in the outside world just before graduation. Her best bit of advice: \"I\\'ve only been to Nancherrow (the local Stately Home of England) once. I thought it was very beautiful but, somehow, not part of the real world.\" Well, we can\\'t say they didn\\'t warn us.<br /><br />Ah, Susan - time was, your character would have been running the whole show. They don\\'t write \\'em like that any more. Our loss, not yours.<br /><br />So - with a cast and setting like this, you have the re-makings of \"Brideshead Revisited,\" right?<br /><br />Wrong! They took these 1-dimensional supporting roles because they paid so well. After all, acting is one of the oldest temp-jobs there is (YOU name another!)<br /><br />First warning sign: lots and lots of backlighting. They get around it by shooting outdoors - \"hey, it\\'s just the sunlight!\"<br /><br />Second warning sign: Leading Lady cries a lot. When not crying, her eyes are moist. That\\'s the law of romance novels: Leading Lady is \"dewy-eyed.\"<br /><br />Henceforth, Leading Lady shall be known as L.L.<br /><br />Third warning sign: L.L. actually has stars in her eyes when she\\'s in love. Still, I\\'ll give Emily Mortimer an award just for having to act with that spotlight in her eyes (I wonder . did they use contacts?)<br /><br />And lastly, fourth warning sign: no on-screen female character is \"Mrs.\" She\\'s either \"Miss\" or \"Lady.\"<br /><br />When all was said and done, I still couldn\\'t tell you who was pursuing whom and why. I couldn\\'t even tell you what was said and done.<br /><br />To sum up: they all live through World War II without anything happening to them at all.<br /><br />OK, at the end, L.L. finds she\\'s lost her parents to the Japanese prison camps and baby sis comes home catatonic. Meanwhile (there\\'s always a \"meanwhile,\") some young guy L.L. had a crush on (when, I don\\'t know) comes home from some wartime tough spot and is found living on the street by Lady of the Manor (must be some street if SHE\\'s going to find him there.) Both war casualties are whisked away to recover at Nancherrow (SOMEBODY has to be \"whisked away\" SOMEWHERE in these romance stories!)<br /><br />Great drama.',\n",
       "       b'The film is based on a genuine 1950s novel.<br /><br />Journalist Colin McInnes wrote a set of three \"London novels\": \"Absolute Beginners\", \"City of Spades\" and \"Mr Love and Justice\". I have read all three. The first two are excellent. The last, perhaps an experiment that did not come off. But McInnes\\'s work is highly acclaimed; and rightly so. This musical is the novelist\\'s ultimate nightmare - to see the fruits of one\\'s mind being turned into a glitzy, badly-acted, soporific one-dimensional apology of a film that says it captures the spirit of 1950s London, and does nothing of the sort.<br /><br />Thank goodness Colin McInnes wasn\\'t alive to witness it.',\n",
       "       b'I really love the sexy action and sci-fi films of the sixties and its because of the actress\\'s that appeared in them. They found the sexiest women to be in these films and it didn\\'t matter if they could act (Remember \"Candy\"?). The reason I was disappointed by this film was because it wasn\\'t nostalgic enough. The story here has a European sci-fi film called \"Dragonfly\" being made and the director is fired. So the producers decide to let a young aspiring filmmaker (Jeremy Davies) to complete the picture. They\\'re is one real beautiful woman in the film who plays Dragonfly but she\\'s barely in it. Film is written and directed by Roman Coppola who uses some of his fathers exploits from his early days and puts it into the script. I wish the film could have been an homage to those early films. They could have lots of cameos by actors who appeared in them. There is one actor in this film who was popular from the sixties and its John Phillip Law (Barbarella). Gerard Depardieu, Giancarlo Giannini and Dean Stockwell appear as well. I guess I\\'m going to have to continue waiting for a director to make a good homage to the films of the sixties. If any are reading this, \"Make it as sexy as you can\"! I\\'ll be waiting!',\n",
       "       b'Sure, this one isn\\'t really a blockbuster, nor does it target such a position. \"Dieter\" is the first name of a quite popular German musician, who is either loved or hated for his kind of acting and thats exactly what this movie is about. It is based on the autobiography \"Dieter Bohlen\" wrote a few years ago but isn\\'t meant to be accurate on that. The movie is filled with some sexual offensive content (at least for American standard) which is either amusing (not for the other \"actors\" of course) or dumb - it depends on your individual kind of humor or on you being a \"Bohlen\"-Fan or not. Technically speaking there isn\\'t much to criticize. Speaking of me I find this movie to be an OK-movie.'],\n",
       "      dtype=object)>"
      ]
     },
     "execution_count": 3,
     "metadata": {},
     "output_type": "execute_result"
    }
   ],
   "source": [
    "train_example_batch, train_label_batch = next(iter(train_d.batch(10)))\n",
    "train_example_batch"
   ]
  },
  {
   "cell_type": "code",
   "execution_count": 4,
   "id": "40609822",
   "metadata": {},
   "outputs": [
    {
     "data": {
      "text/plain": [
       "<tf.Tensor: shape=(10,), dtype=int64, numpy=array([0, 0, 0, 1, 1, 1, 0, 0, 0, 0], dtype=int64)>"
      ]
     },
     "execution_count": 4,
     "metadata": {},
     "output_type": "execute_result"
    }
   ],
   "source": [
    "train_label_batch"
   ]
  },
  {
   "cell_type": "markdown",
   "id": "00aae39e",
   "metadata": {},
   "source": [
    "## Taking layer for embedding that use pretrained model embedding"
   ]
  },
  {
   "cell_type": "code",
   "execution_count": 14,
   "id": "e82c616d",
   "metadata": {
    "scrolled": true
   },
   "outputs": [
    {
     "data": {
      "text/plain": [
       "<tf.Tensor: shape=(3, 128), dtype=float32, numpy=\n",
       "array([[ 9.01966274e-01, -4.83913347e-03,  1.17907055e-01,\n",
       "         3.81319046e-01,  6.57222793e-02, -3.01581532e-01,\n",
       "         8.90584365e-02, -2.69034863e-01, -8.51345584e-02,\n",
       "         1.08877886e-02, -6.66372627e-02, -3.73063087e-01,\n",
       "        -2.76447266e-01, -1.87254980e-01,  5.67507632e-02,\n",
       "         9.09779966e-02, -6.24961555e-02, -3.28687276e-03,\n",
       "        -3.08512092e-01,  3.78482223e-01,  7.62880966e-02,\n",
       "         1.43733576e-01, -1.12897493e-01,  9.59761534e-03,\n",
       "        -2.38938913e-01,  2.93743908e-02,  7.28663057e-02,\n",
       "        -2.48727947e-02, -8.16893280e-02,  6.68320432e-02,\n",
       "        -5.62225394e-02,  2.47078985e-01,  1.17681175e-01,\n",
       "         3.17581035e-02,  2.65932620e-01, -1.37706831e-01,\n",
       "        -1.50708258e-01, -1.63614675e-01, -1.51269153e-01,\n",
       "         2.34616160e-01, -9.12236273e-02, -4.22684886e-02,\n",
       "        -1.01224177e-01, -2.12229744e-01,  6.74503446e-02,\n",
       "         1.85163647e-01,  3.62982228e-02, -3.50210071e-01,\n",
       "        -5.92576079e-02, -9.54059511e-02, -9.65666175e-02,\n",
       "         3.79339904e-02, -2.36725271e-01,  2.67956525e-01,\n",
       "        -2.22367734e-01, -1.80506572e-01, -1.13724798e-01,\n",
       "         4.91059460e-02, -1.19525626e-01, -2.27335095e-03,\n",
       "        -1.81468800e-01, -4.74342071e-02,  9.61481929e-02,\n",
       "         4.93341237e-02,  2.69693173e-02,  2.66610924e-02,\n",
       "        -8.21918398e-02, -2.03230649e-01,  2.25084737e-01,\n",
       "         7.74206817e-02, -1.10149167e-01,  1.33730099e-01,\n",
       "         1.08389042e-01, -2.49691661e-02,  3.02257799e-02,\n",
       "         2.03551911e-02, -1.39646962e-01, -1.77291587e-01,\n",
       "        -1.31853789e-01,  1.65671393e-01, -4.72507323e-04,\n",
       "        -9.78293121e-02, -1.64517537e-01,  6.93127662e-02,\n",
       "        -7.20646083e-02, -1.01133175e-02, -4.18493431e-03,\n",
       "         2.48376504e-01,  7.00922966e-01,  6.45013988e-01,\n",
       "        -2.46314004e-01,  2.48779714e-01,  5.55042960e-02,\n",
       "        -1.72061652e-01,  5.44746453e-03,  2.16645315e-01,\n",
       "         1.24983951e-01, -1.32985115e-02, -9.09600873e-03,\n",
       "         8.74783769e-02, -2.72958595e-02,  5.59117980e-02,\n",
       "         2.11243659e-01,  2.08114520e-01,  1.86446942e-02,\n",
       "        -2.44881704e-01, -2.11568519e-01,  6.63717464e-02,\n",
       "        -1.52921677e-01,  9.16463733e-02, -1.56010687e-01,\n",
       "         4.47210558e-02, -1.58450484e-01, -1.72194898e-01,\n",
       "        -5.40404953e-02, -2.69618005e-01,  1.23170123e-01,\n",
       "         2.13364601e-01, -6.43658787e-02,  3.61668468e-02,\n",
       "         2.14489356e-01, -1.19912423e-01, -4.83419979e-04,\n",
       "         2.64609545e-01,  5.51236942e-02, -3.29729654e-02,\n",
       "         3.31326015e-02,  2.97882948e-02],\n",
       "       [ 1.16170359e+00, -7.05558211e-02,  1.60849199e-01,\n",
       "         3.51089686e-01,  1.02360711e-01, -1.50161996e-01,\n",
       "         5.18622026e-02, -2.03599006e-01,  6.68436140e-02,\n",
       "         1.42898023e-01,  1.48364618e-01, -2.91968614e-01,\n",
       "        -2.71577537e-01, -1.68576062e-01, -1.36256337e-01,\n",
       "         1.11695267e-01, -3.98711339e-02, -1.28138252e-02,\n",
       "        -3.04618925e-01,  5.42941988e-01,  2.79047489e-01,\n",
       "         1.59953356e-01, -3.32696103e-02, -2.49510771e-03,\n",
       "         2.85213925e-02, -6.92468956e-02,  1.93658113e-01,\n",
       "         1.93804561e-03, -1.92921445e-01,  6.70231208e-02,\n",
       "        -6.65799081e-02,  1.09033152e-01,  1.58422500e-01,\n",
       "         8.64866525e-02,  1.43579140e-01,  1.03380650e-01,\n",
       "        -4.73922193e-02, -4.26952273e-01, -6.54661702e-03,\n",
       "         1.97512910e-01, -3.22361104e-02, -2.14782055e-03,\n",
       "        -4.52199429e-02, -1.74372524e-01,  4.96806242e-02,\n",
       "         2.45766431e-01,  7.25580603e-02, -2.50667706e-02,\n",
       "        -3.02816182e-01,  1.43102169e-01,  6.67183176e-02,\n",
       "         1.50330588e-01, -1.28028333e-01,  1.26082793e-01,\n",
       "        -2.56188482e-01, -1.63196176e-01, -1.47142131e-02,\n",
       "        -1.44210309e-02,  2.35588059e-01,  2.94179227e-02,\n",
       "        -7.58787766e-02,  1.56788360e-02,  2.24473611e-01,\n",
       "        -1.53830796e-01, -1.23326421e-01, -1.18660610e-02,\n",
       "         1.57802682e-02, -1.79677367e-01,  1.23224139e-01,\n",
       "        -1.33039325e-01, -2.85176724e-01,  1.21948622e-01,\n",
       "         1.12625323e-01, -9.61901918e-02,  9.55129508e-03,\n",
       "         1.06275082e-01, -3.13692056e-02, -3.32366943e-01,\n",
       "         2.51673460e-02,  1.29422277e-01,  1.86496243e-01,\n",
       "         9.06253606e-03,  4.64373603e-02,  8.57261270e-02,\n",
       "         7.07606375e-02, -1.34054944e-01, -3.60419393e-01,\n",
       "         1.96367204e-01,  9.43037808e-01,  2.89180458e-01,\n",
       "        -1.13498874e-01,  1.06576920e-01,  1.35154268e-02,\n",
       "        -1.61476016e-01,  9.91938114e-02,  2.41570454e-02,\n",
       "         1.25472501e-01, -5.03857136e-02, -3.40599120e-02,\n",
       "         1.61820367e-01, -5.16199619e-02,  1.06337145e-01,\n",
       "         3.06430757e-01,  1.87173590e-01,  3.57286893e-02,\n",
       "        -1.35669515e-01, -2.43754730e-01,  3.51791047e-02,\n",
       "        -2.83647835e-01,  7.77992904e-02, -5.69541574e-01,\n",
       "         3.40250097e-02, -3.03014874e-01, -9.90547165e-02,\n",
       "        -7.81514961e-03, -3.85634869e-01, -1.29726410e-01,\n",
       "         4.75285724e-02, -3.18061970e-02, -2.62782443e-02,\n",
       "         1.93936780e-01, -1.66382834e-01,  1.32129624e-01,\n",
       "         1.14584014e-01, -3.33895721e-02, -8.43404531e-02,\n",
       "        -5.93071952e-02,  6.59306049e-02],\n",
       "       [ 7.89935350e-01, -1.92666233e-01,  8.59462842e-02,\n",
       "         1.53726608e-01,  1.95093232e-03,  1.50660705e-02,\n",
       "        -5.82072325e-02,  5.00802286e-02, -6.66294098e-02,\n",
       "         3.98210175e-02, -2.09152922e-02, -1.82045296e-01,\n",
       "        -1.15411662e-01, -2.62630641e-01, -1.56492770e-01,\n",
       "        -5.35144471e-02, -1.41639099e-01,  1.93874463e-02,\n",
       "        -1.37122169e-01,  9.09082413e-01, -2.52462868e-02,\n",
       "         3.22987527e-01,  4.61238585e-02,  1.72868013e-01,\n",
       "        -4.42900993e-02, -6.57747984e-02, -6.79853037e-02,\n",
       "        -9.84842926e-02, -3.51922177e-02, -1.10344328e-02,\n",
       "         1.16057135e-01, -8.15129206e-02,  2.02651680e-01,\n",
       "         6.64596865e-03,  7.05530941e-02, -9.66157578e-03,\n",
       "         3.51603627e-02, -1.96129397e-01, -1.82812903e-02,\n",
       "         1.84423357e-01,  6.92232624e-02, -3.77804078e-02,\n",
       "        -1.62355155e-01,  1.30570680e-01,  1.34224311e-01,\n",
       "        -1.50277736e-02,  9.65407714e-02, -1.26141369e-01,\n",
       "        -4.05008420e-02, -1.15344815e-01,  3.93504947e-02,\n",
       "         1.91737935e-01,  5.99980913e-02,  2.99692899e-01,\n",
       "         5.49813323e-02, -2.27710709e-01, -1.06945246e-01,\n",
       "         1.74803928e-01,  2.32869118e-01, -7.55720735e-02,\n",
       "        -2.10200951e-01,  8.46374631e-02, -1.70005560e-01,\n",
       "         1.72499210e-01, -5.05370423e-02, -9.07554403e-02,\n",
       "         8.56346451e-03,  2.29058042e-02,  2.60947347e-01,\n",
       "        -4.24651392e-02, -8.06366801e-02, -1.52203590e-01,\n",
       "        -1.09100053e-02,  7.10022300e-02,  7.09610358e-02,\n",
       "         1.98364004e-01,  1.60713434e-01, -2.05790639e-01,\n",
       "         2.07749978e-02,  2.44555138e-02,  8.46600309e-02,\n",
       "         4.19601165e-02, -2.38341112e-02,  5.08614331e-02,\n",
       "        -4.37806658e-02, -9.67954174e-02, -1.28794938e-01,\n",
       "         1.45295113e-01,  3.34722281e-01, -2.49092355e-02,\n",
       "        -7.21996874e-02,  7.60333985e-02,  1.09788142e-01,\n",
       "        -5.91083243e-02,  1.77998230e-01,  1.05147131e-01,\n",
       "         2.73706466e-01,  1.63680017e-01,  2.92986393e-01,\n",
       "         1.62288636e-01,  1.92936987e-01, -7.25108087e-02,\n",
       "         1.48647577e-01,  1.20697133e-01,  1.75806686e-01,\n",
       "        -8.22802186e-02,  3.19161601e-02,  9.75683853e-02,\n",
       "        -2.27390900e-01, -1.89130962e-01, -7.75573701e-02,\n",
       "         7.51652941e-02, -9.91581455e-02,  9.62962583e-03,\n",
       "         6.42622411e-02, -1.50064066e-01,  1.14945382e-01,\n",
       "         5.34672337e-03,  1.96428418e-01, -2.10412573e-02,\n",
       "         5.44419959e-02, -3.22782189e-01,  5.69203123e-03,\n",
       "        -1.00528084e-01, -7.29111880e-02, -1.84138656e-01,\n",
       "        -1.51076904e-02, -6.30587935e-02]], dtype=float32)>"
      ]
     },
     "execution_count": 14,
     "metadata": {},
     "output_type": "execute_result"
    }
   ],
   "source": [
    "embedding = 'https://tfhub.dev/google/nnlm-en-dim128/2'\n",
    "hub_layer = hub.KerasLayer(embedding, input_shape = [],\n",
    "                          dtype=tf.string, trainable=True)\n",
    "hub_layer(train_example_batch[:3])"
   ]
  },
  {
   "cell_type": "code",
   "execution_count": 15,
   "id": "cc8cbf07",
   "metadata": {},
   "outputs": [
    {
     "name": "stdout",
     "output_type": "stream",
     "text": [
      "Model: \"sequential_1\"\n",
      "_________________________________________________________________\n",
      " Layer (type)                Output Shape              Param #   \n",
      "=================================================================\n",
      " keras_layer_1 (KerasLayer)  (None, 128)               124642688 \n",
      "                                                                 \n",
      " dense_2 (Dense)             (None, 16)                2064      \n",
      "                                                                 \n",
      " dense_3 (Dense)             (None, 1)                 17        \n",
      "                                                                 \n",
      "=================================================================\n",
      "Total params: 124,644,769\n",
      "Trainable params: 124,644,769\n",
      "Non-trainable params: 0\n",
      "_________________________________________________________________\n"
     ]
    }
   ],
   "source": [
    "# Building Model\n",
    "model = tf.keras.Sequential([\n",
    "    hub_layer,\n",
    "    tf.keras.layers.Dense(16,activation='relu'),\n",
    "    tf.keras.layers.Dense(1)\n",
    "])\n",
    "\n",
    "model.summary()"
   ]
  },
  {
   "cell_type": "code",
   "execution_count": 16,
   "id": "e5e54fc7",
   "metadata": {},
   "outputs": [],
   "source": [
    "model.compile(optimizer='adam',\n",
    "             loss= tf.keras.losses.BinaryCrossentropy(from_logits=True),\n",
    "             metrics=['accuracy'])"
   ]
  },
  {
   "cell_type": "code",
   "execution_count": 17,
   "id": "c2aa66fe",
   "metadata": {},
   "outputs": [],
   "source": [
    "callbacks = [\n",
    "    tf.keras.callbacks.EarlyStopping(\n",
    "        # Stop training when `val_loss` is no longer improving\n",
    "        monitor=\"val_loss\",\n",
    "        # \"no longer improving\" being defined as \"no better than 1e-2 less\"\n",
    "        min_delta=1e-2,\n",
    "        # \"no longer improving\" being further defined as \"for at least 2 epochs\"\n",
    "        patience=2,\n",
    "        verbose=1,\n",
    "    )\n",
    "]"
   ]
  },
  {
   "cell_type": "code",
   "execution_count": 18,
   "id": "8350c3e8",
   "metadata": {},
   "outputs": [
    {
     "name": "stdout",
     "output_type": "stream",
     "text": [
      "Epoch 1/10\n",
      "30/30 [==============================] - 110s 4s/step - loss: 0.6164 - accuracy: 0.5838 - val_loss: 0.5288 - val_accuracy: 0.7126\n",
      "Epoch 2/10\n",
      "30/30 [==============================] - 112s 4s/step - loss: 0.4253 - accuracy: 0.8068 - val_loss: 0.3881 - val_accuracy: 0.8324\n",
      "Epoch 3/10\n",
      "30/30 [==============================] - 118s 4s/step - loss: 0.2777 - accuracy: 0.8933 - val_loss: 0.3251 - val_accuracy: 0.8624\n",
      "Epoch 4/10\n",
      "30/30 [==============================] - 120s 4s/step - loss: 0.1846 - accuracy: 0.9387 - val_loss: 0.3014 - val_accuracy: 0.8687\n",
      "Epoch 5/10\n",
      "30/30 [==============================] - 128s 4s/step - loss: 0.1224 - accuracy: 0.9648 - val_loss: 0.2977 - val_accuracy: 0.8734\n",
      "Epoch 6/10\n",
      "30/30 [==============================] - 117s 4s/step - loss: 0.0789 - accuracy: 0.9823 - val_loss: 0.3079 - val_accuracy: 0.8778\n",
      "Epoch 6: early stopping\n"
     ]
    }
   ],
   "source": [
    "history = model.fit(train_d.shuffle(10000).batch(512),\n",
    "                   epochs=10,\n",
    "                   validation_data=val_ds.batch(512),\n",
    "                   verbose=1,\n",
    "                   callbacks=callbacks)"
   ]
  },
  {
   "cell_type": "code",
   "execution_count": 19,
   "id": "0de1d35b",
   "metadata": {},
   "outputs": [
    {
     "name": "stdout",
     "output_type": "stream",
     "text": [
      "49/49 - 16s - loss: 0.3251 - accuracy: 0.8624 - 16s/epoch - 326ms/step\n",
      "test loss:  0.32505813241004944\n",
      "test acc:  0.8623999953269958\n"
     ]
    }
   ],
   "source": [
    "#Evaluate\n",
    "test_loss, test_acc = model.evaluate(test_ds.batch(512), verbose=2)\n",
    "\n",
    "print('test loss: ', test_loss)\n",
    "print('test acc: ', test_acc)"
   ]
  },
  {
   "cell_type": "code",
   "execution_count": 20,
   "id": "32a82a94",
   "metadata": {},
   "outputs": [],
   "source": [
    "# Importing matplotlib and creating helper func to plot graphs\n",
    "import matplotlib.pyplot as plt\n",
    "\n",
    "def plot_graph(history, metric):\n",
    "    plt.plot(history.history[metric])\n",
    "    plt.plot(history.history['val_'+metric], \"\")\n",
    "    plt.xlabel(\"epochs\")\n",
    "    plt.ylabel(metric)\n",
    "    plt.legend([metric, 'val_'+metric])"
   ]
  },
  {
   "cell_type": "code",
   "execution_count": 21,
   "id": "a33c9824",
   "metadata": {},
   "outputs": [
    {
     "data": {
      "text/plain": [
       "(0.0, 0.643316687643528)"
      ]
     },
     "execution_count": 21,
     "metadata": {},
     "output_type": "execute_result"
    },
    {
     "data": {
      "image/png": "[encoded data removed]",
      "text/plain": [
       "<Figure size 1152x576 with 2 Axes>"
      ]
     },
     "metadata": {
      "needs_background": "light"
     },
     "output_type": "display_data"
    }
   ],
   "source": [
    "plt.figure(figsize=(16,8))\n",
    "plt.subplot(1,2,1)\n",
    "plot_graph(history, 'accuracy')\n",
    "plt.ylim(None,1)\n",
    "plt.subplot(1,2,2)\n",
    "plot_graph(history, 'loss')\n",
    "plt.ylim(0, None)"
   ]
  },
  {
   "cell_type": "code",
   "execution_count": 22,
   "id": "de6fc7df",
   "metadata": {},
   "outputs": [
    {
     "name": "stdout",
     "output_type": "stream",
     "text": [
      "1/1 [==============================] - 1s 1s/step\n"
     ]
    }
   ],
   "source": [
    "## Prediction\n",
    "sample_text = ('This movie was cool. The animation and graphics were out of this world. I would recommend this movie')\n",
    "prediction = model.predict(np.array([sample_text]))"
   ]
  },
  {
   "cell_type": "code",
   "execution_count": 23,
   "id": "9de27a1f",
   "metadata": {},
   "outputs": [
    {
     "name": "stdout",
     "output_type": "stream",
     "text": [
      "[[1.1868596]]\n"
     ]
    }
   ],
   "source": [
    "print(prediction)"
   ]
  },
  {
   "cell_type": "code",
   "execution_count": 24,
   "id": "3a8636c6",
   "metadata": {},
   "outputs": [
    {
     "name": "stdout",
     "output_type": "stream",
     "text": [
      "1/1 [==============================] - 0s 305ms/step\n",
      "[[-2.0169902]]\n"
     ]
    }
   ],
   "source": [
    "\n",
    "sample_text = ('This movie was boring. The animation and graphics were disappointing. I would not recommend this movie')\n",
    "prediction = model.predict(np.array([sample_text]))\n",
    "print(prediction)"
   ]
  },
  {
   "cell_type": "code",
   "execution_count": 26,
   "id": "8784a335",
   "metadata": {},
   "outputs": [
    {
     "name": "stdout",
     "output_type": "stream",
     "text": [
      "1/1 [==============================] - 0s 291ms/step\n",
      "[[-5.6592226]]\n"
     ]
    }
   ],
   "source": [
    "\n",
    "sample_text = ('waste of money')\n",
    "prediction = model.predict(np.array([sample_text]))\n",
    "print(prediction)"
   ]
  },
  {
   "cell_type": "code",
   "execution_count": null,
   "id": "43a0a936",
   "metadata": {},
   "outputs": [],
   "source": []
  }
 ],
 "metadata": {
  "kernelspec": {
   "display_name": "Python 3 (ipykernel)",
   "language": "python",
   "name": "python3"
  },
  "language_info": {
   "codemirror_mode": {
    "name": "ipython",
    "version": 3
   },
   "file_extension": ".py",
   "mimetype": "text/x-python",
   "name": "python",
   "nbconvert_exporter": "python",
   "pygments_lexer": "ipython3",
   "version": "3.9.7"
  }
 },
 "nbformat": 4,
 "nbformat_minor": 5
}
