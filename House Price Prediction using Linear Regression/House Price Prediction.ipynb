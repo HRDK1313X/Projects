{
 "cells": [
  {
   "cell_type": "code",
   "execution_count": 1,
   "id": "abc6464d",
   "metadata": {},
   "outputs": [],
   "source": [
    "import pandas as pd\n",
    "import matplotlib.pyplot as plt\n",
    "import seaborn as sns\n",
    "import numpy as np"
   ]
  },
  {
   "cell_type": "code",
   "execution_count": 2,
   "id": "2f89de6f",
   "metadata": {},
   "outputs": [
    {
     "data": {
      "text/html": [
       "<div>\n",
       "<style scoped>\n",
       "    .dataframe tbody tr th:only-of-type {\n",
       "        vertical-align: middle;\n",
       "    }\n",
       "\n",
       "    .dataframe tbody tr th {\n",
       "        vertical-align: top;\n",
       "    }\n",
       "\n",
       "    .dataframe thead th {\n",
       "        text-align: right;\n",
       "    }\n",
       "</style>\n",
       "<table border=\"1\" class=\"dataframe\">\n",
       "  <thead>\n",
       "    <tr style=\"text-align: right;\">\n",
       "      <th></th>\n",
       "      <th>Suburb</th>\n",
       "      <th>Address</th>\n",
       "      <th>Rooms</th>\n",
       "      <th>Type</th>\n",
       "      <th>Price</th>\n",
       "      <th>Method</th>\n",
       "      <th>SellerG</th>\n",
       "      <th>Date</th>\n",
       "      <th>Distance</th>\n",
       "      <th>Postcode</th>\n",
       "      <th>...</th>\n",
       "      <th>Bathroom</th>\n",
       "      <th>Car</th>\n",
       "      <th>Landsize</th>\n",
       "      <th>BuildingArea</th>\n",
       "      <th>YearBuilt</th>\n",
       "      <th>CouncilArea</th>\n",
       "      <th>Lattitude</th>\n",
       "      <th>Longtitude</th>\n",
       "      <th>Regionname</th>\n",
       "      <th>Propertycount</th>\n",
       "    </tr>\n",
       "  </thead>\n",
       "  <tbody>\n",
       "    <tr>\n",
       "      <th>0</th>\n",
       "      <td>Abbotsford</td>\n",
       "      <td>68 Studley St</td>\n",
       "      <td>2</td>\n",
       "      <td>h</td>\n",
       "      <td>NaN</td>\n",
       "      <td>SS</td>\n",
       "      <td>Jellis</td>\n",
       "      <td>03/09/2016</td>\n",
       "      <td>2.5</td>\n",
       "      <td>3067.0</td>\n",
       "      <td>...</td>\n",
       "      <td>1.0</td>\n",
       "      <td>1.0</td>\n",
       "      <td>126.0</td>\n",
       "      <td>NaN</td>\n",
       "      <td>NaN</td>\n",
       "      <td>Yarra City Council</td>\n",
       "      <td>-37.8014</td>\n",
       "      <td>144.9958</td>\n",
       "      <td>Northern Metropolitan</td>\n",
       "      <td>4019.0</td>\n",
       "    </tr>\n",
       "    <tr>\n",
       "      <th>1</th>\n",
       "      <td>Abbotsford</td>\n",
       "      <td>85 Turner St</td>\n",
       "      <td>2</td>\n",
       "      <td>h</td>\n",
       "      <td>1480000.0</td>\n",
       "      <td>S</td>\n",
       "      <td>Biggin</td>\n",
       "      <td>03/12/2016</td>\n",
       "      <td>2.5</td>\n",
       "      <td>3067.0</td>\n",
       "      <td>...</td>\n",
       "      <td>1.0</td>\n",
       "      <td>1.0</td>\n",
       "      <td>202.0</td>\n",
       "      <td>NaN</td>\n",
       "      <td>NaN</td>\n",
       "      <td>Yarra City Council</td>\n",
       "      <td>-37.7996</td>\n",
       "      <td>144.9984</td>\n",
       "      <td>Northern Metropolitan</td>\n",
       "      <td>4019.0</td>\n",
       "    </tr>\n",
       "    <tr>\n",
       "      <th>2</th>\n",
       "      <td>Abbotsford</td>\n",
       "      <td>25 Bloomburg St</td>\n",
       "      <td>2</td>\n",
       "      <td>h</td>\n",
       "      <td>1035000.0</td>\n",
       "      <td>S</td>\n",
       "      <td>Biggin</td>\n",
       "      <td>04/02/2016</td>\n",
       "      <td>2.5</td>\n",
       "      <td>3067.0</td>\n",
       "      <td>...</td>\n",
       "      <td>1.0</td>\n",
       "      <td>0.0</td>\n",
       "      <td>156.0</td>\n",
       "      <td>79.0</td>\n",
       "      <td>1900.0</td>\n",
       "      <td>Yarra City Council</td>\n",
       "      <td>-37.8079</td>\n",
       "      <td>144.9934</td>\n",
       "      <td>Northern Metropolitan</td>\n",
       "      <td>4019.0</td>\n",
       "    </tr>\n",
       "    <tr>\n",
       "      <th>3</th>\n",
       "      <td>Abbotsford</td>\n",
       "      <td>18/659 Victoria St</td>\n",
       "      <td>3</td>\n",
       "      <td>u</td>\n",
       "      <td>NaN</td>\n",
       "      <td>VB</td>\n",
       "      <td>Rounds</td>\n",
       "      <td>04/02/2016</td>\n",
       "      <td>2.5</td>\n",
       "      <td>3067.0</td>\n",
       "      <td>...</td>\n",
       "      <td>2.0</td>\n",
       "      <td>1.0</td>\n",
       "      <td>0.0</td>\n",
       "      <td>NaN</td>\n",
       "      <td>NaN</td>\n",
       "      <td>Yarra City Council</td>\n",
       "      <td>-37.8114</td>\n",
       "      <td>145.0116</td>\n",
       "      <td>Northern Metropolitan</td>\n",
       "      <td>4019.0</td>\n",
       "    </tr>\n",
       "    <tr>\n",
       "      <th>4</th>\n",
       "      <td>Abbotsford</td>\n",
       "      <td>5 Charles St</td>\n",
       "      <td>3</td>\n",
       "      <td>h</td>\n",
       "      <td>1465000.0</td>\n",
       "      <td>SP</td>\n",
       "      <td>Biggin</td>\n",
       "      <td>04/03/2017</td>\n",
       "      <td>2.5</td>\n",
       "      <td>3067.0</td>\n",
       "      <td>...</td>\n",
       "      <td>2.0</td>\n",
       "      <td>0.0</td>\n",
       "      <td>134.0</td>\n",
       "      <td>150.0</td>\n",
       "      <td>1900.0</td>\n",
       "      <td>Yarra City Council</td>\n",
       "      <td>-37.8093</td>\n",
       "      <td>144.9944</td>\n",
       "      <td>Northern Metropolitan</td>\n",
       "      <td>4019.0</td>\n",
       "    </tr>\n",
       "  </tbody>\n",
       "</table>\n",
       "<p>5 rows × 21 columns</p>\n",
       "</div>"
      ],
      "text/plain": [
       "       Suburb             Address  Rooms Type      Price Method SellerG  \\\n",
       "0  Abbotsford       68 Studley St      2    h        NaN     SS  Jellis   \n",
       "1  Abbotsford        85 Turner St      2    h  1480000.0      S  Biggin   \n",
       "2  Abbotsford     25 Bloomburg St      2    h  1035000.0      S  Biggin   \n",
       "3  Abbotsford  18/659 Victoria St      3    u        NaN     VB  Rounds   \n",
       "4  Abbotsford        5 Charles St      3    h  1465000.0     SP  Biggin   \n",
       "\n",
       "         Date  Distance  Postcode  ...  Bathroom  Car  Landsize  BuildingArea  \\\n",
       "0  03/09/2016       2.5    3067.0  ...       1.0  1.0     126.0           NaN   \n",
       "1  03/12/2016       2.5    3067.0  ...       1.0  1.0     202.0           NaN   \n",
       "2  04/02/2016       2.5    3067.0  ...       1.0  0.0     156.0          79.0   \n",
       "3  04/02/2016       2.5    3067.0  ...       2.0  1.0       0.0           NaN   \n",
       "4  04/03/2017       2.5    3067.0  ...       2.0  0.0     134.0         150.0   \n",
       "\n",
       "   YearBuilt         CouncilArea Lattitude  Longtitude             Regionname  \\\n",
       "0        NaN  Yarra City Council  -37.8014    144.9958  Northern Metropolitan   \n",
       "1        NaN  Yarra City Council  -37.7996    144.9984  Northern Metropolitan   \n",
       "2     1900.0  Yarra City Council  -37.8079    144.9934  Northern Metropolitan   \n",
       "3        NaN  Yarra City Council  -37.8114    145.0116  Northern Metropolitan   \n",
       "4     1900.0  Yarra City Council  -37.8093    144.9944  Northern Metropolitan   \n",
       "\n",
       "  Propertycount  \n",
       "0        4019.0  \n",
       "1        4019.0  \n",
       "2        4019.0  \n",
       "3        4019.0  \n",
       "4        4019.0  \n",
       "\n",
       "[5 rows x 21 columns]"
      ]
     },
     "execution_count": 2,
     "metadata": {},
     "output_type": "execute_result"
    }
   ],
   "source": [
    "df = pd.read_csv(\"Python_Linear_Regres (1).csv\")\n",
    "df.head()"
   ]
  },
  {
   "cell_type": "code",
   "execution_count": 3,
   "id": "8e745ef7",
   "metadata": {},
   "outputs": [
    {
     "data": {
      "text/plain": [
       "(34857, 21)"
      ]
     },
     "execution_count": 3,
     "metadata": {},
     "output_type": "execute_result"
    }
   ],
   "source": [
    "df.shape"
   ]
  },
  {
   "cell_type": "code",
   "execution_count": 4,
   "id": "28ac047d",
   "metadata": {},
   "outputs": [
    {
     "data": {
      "text/plain": [
       "Index(['Suburb', 'Address', 'Rooms', 'Type', 'Price', 'Method', 'SellerG',\n",
       "       'Date', 'Distance', 'Postcode', 'Bedroom2', 'Bathroom', 'Car',\n",
       "       'Landsize', 'BuildingArea', 'YearBuilt', 'CouncilArea', 'Lattitude',\n",
       "       'Longtitude', 'Regionname', 'Propertycount'],\n",
       "      dtype='object')"
      ]
     },
     "execution_count": 4,
     "metadata": {},
     "output_type": "execute_result"
    }
   ],
   "source": [
    "df.columns"
   ]
  },
  {
   "cell_type": "code",
   "execution_count": 5,
   "id": "b94d091c",
   "metadata": {},
   "outputs": [
    {
     "data": {
      "text/html": [
       "<div>\n",
       "<style scoped>\n",
       "    .dataframe tbody tr th:only-of-type {\n",
       "        vertical-align: middle;\n",
       "    }\n",
       "\n",
       "    .dataframe tbody tr th {\n",
       "        vertical-align: top;\n",
       "    }\n",
       "\n",
       "    .dataframe thead th {\n",
       "        text-align: right;\n",
       "    }\n",
       "</style>\n",
       "<table border=\"1\" class=\"dataframe\">\n",
       "  <thead>\n",
       "    <tr style=\"text-align: right;\">\n",
       "      <th></th>\n",
       "      <th>Rooms</th>\n",
       "      <th>Price</th>\n",
       "      <th>Distance</th>\n",
       "      <th>Postcode</th>\n",
       "      <th>Bedroom2</th>\n",
       "      <th>Bathroom</th>\n",
       "      <th>Car</th>\n",
       "      <th>Landsize</th>\n",
       "      <th>BuildingArea</th>\n",
       "      <th>YearBuilt</th>\n",
       "      <th>Lattitude</th>\n",
       "      <th>Longtitude</th>\n",
       "      <th>Propertycount</th>\n",
       "    </tr>\n",
       "  </thead>\n",
       "  <tbody>\n",
       "    <tr>\n",
       "      <th>count</th>\n",
       "      <td>34857.000000</td>\n",
       "      <td>2.724700e+04</td>\n",
       "      <td>34856.000000</td>\n",
       "      <td>34856.000000</td>\n",
       "      <td>26640.000000</td>\n",
       "      <td>26631.000000</td>\n",
       "      <td>26129.000000</td>\n",
       "      <td>23047.000000</td>\n",
       "      <td>13742.00000</td>\n",
       "      <td>15551.000000</td>\n",
       "      <td>26881.000000</td>\n",
       "      <td>26881.000000</td>\n",
       "      <td>34854.000000</td>\n",
       "    </tr>\n",
       "    <tr>\n",
       "      <th>mean</th>\n",
       "      <td>3.031012</td>\n",
       "      <td>1.050173e+06</td>\n",
       "      <td>11.184929</td>\n",
       "      <td>3116.062859</td>\n",
       "      <td>3.084647</td>\n",
       "      <td>1.624798</td>\n",
       "      <td>1.728845</td>\n",
       "      <td>593.598993</td>\n",
       "      <td>160.25640</td>\n",
       "      <td>1965.289885</td>\n",
       "      <td>-37.810634</td>\n",
       "      <td>145.001851</td>\n",
       "      <td>7572.888306</td>\n",
       "    </tr>\n",
       "    <tr>\n",
       "      <th>std</th>\n",
       "      <td>0.969933</td>\n",
       "      <td>6.414671e+05</td>\n",
       "      <td>6.788892</td>\n",
       "      <td>109.023903</td>\n",
       "      <td>0.980690</td>\n",
       "      <td>0.724212</td>\n",
       "      <td>1.010771</td>\n",
       "      <td>3398.841946</td>\n",
       "      <td>401.26706</td>\n",
       "      <td>37.328178</td>\n",
       "      <td>0.090279</td>\n",
       "      <td>0.120169</td>\n",
       "      <td>4428.090313</td>\n",
       "    </tr>\n",
       "    <tr>\n",
       "      <th>min</th>\n",
       "      <td>1.000000</td>\n",
       "      <td>8.500000e+04</td>\n",
       "      <td>0.000000</td>\n",
       "      <td>3000.000000</td>\n",
       "      <td>0.000000</td>\n",
       "      <td>0.000000</td>\n",
       "      <td>0.000000</td>\n",
       "      <td>0.000000</td>\n",
       "      <td>0.00000</td>\n",
       "      <td>1196.000000</td>\n",
       "      <td>-38.190430</td>\n",
       "      <td>144.423790</td>\n",
       "      <td>83.000000</td>\n",
       "    </tr>\n",
       "    <tr>\n",
       "      <th>25%</th>\n",
       "      <td>2.000000</td>\n",
       "      <td>6.350000e+05</td>\n",
       "      <td>6.400000</td>\n",
       "      <td>3051.000000</td>\n",
       "      <td>2.000000</td>\n",
       "      <td>1.000000</td>\n",
       "      <td>1.000000</td>\n",
       "      <td>224.000000</td>\n",
       "      <td>102.00000</td>\n",
       "      <td>1940.000000</td>\n",
       "      <td>-37.862950</td>\n",
       "      <td>144.933500</td>\n",
       "      <td>4385.000000</td>\n",
       "    </tr>\n",
       "    <tr>\n",
       "      <th>50%</th>\n",
       "      <td>3.000000</td>\n",
       "      <td>8.700000e+05</td>\n",
       "      <td>10.300000</td>\n",
       "      <td>3103.000000</td>\n",
       "      <td>3.000000</td>\n",
       "      <td>2.000000</td>\n",
       "      <td>2.000000</td>\n",
       "      <td>521.000000</td>\n",
       "      <td>136.00000</td>\n",
       "      <td>1970.000000</td>\n",
       "      <td>-37.807600</td>\n",
       "      <td>145.007800</td>\n",
       "      <td>6763.000000</td>\n",
       "    </tr>\n",
       "    <tr>\n",
       "      <th>75%</th>\n",
       "      <td>4.000000</td>\n",
       "      <td>1.295000e+06</td>\n",
       "      <td>14.000000</td>\n",
       "      <td>3156.000000</td>\n",
       "      <td>4.000000</td>\n",
       "      <td>2.000000</td>\n",
       "      <td>2.000000</td>\n",
       "      <td>670.000000</td>\n",
       "      <td>188.00000</td>\n",
       "      <td>2000.000000</td>\n",
       "      <td>-37.754100</td>\n",
       "      <td>145.071900</td>\n",
       "      <td>10412.000000</td>\n",
       "    </tr>\n",
       "    <tr>\n",
       "      <th>max</th>\n",
       "      <td>16.000000</td>\n",
       "      <td>1.120000e+07</td>\n",
       "      <td>48.100000</td>\n",
       "      <td>3978.000000</td>\n",
       "      <td>30.000000</td>\n",
       "      <td>12.000000</td>\n",
       "      <td>26.000000</td>\n",
       "      <td>433014.000000</td>\n",
       "      <td>44515.00000</td>\n",
       "      <td>2106.000000</td>\n",
       "      <td>-37.390200</td>\n",
       "      <td>145.526350</td>\n",
       "      <td>21650.000000</td>\n",
       "    </tr>\n",
       "  </tbody>\n",
       "</table>\n",
       "</div>"
      ],
      "text/plain": [
       "              Rooms         Price      Distance      Postcode      Bedroom2  \\\n",
       "count  34857.000000  2.724700e+04  34856.000000  34856.000000  26640.000000   \n",
       "mean       3.031012  1.050173e+06     11.184929   3116.062859      3.084647   \n",
       "std        0.969933  6.414671e+05      6.788892    109.023903      0.980690   \n",
       "min        1.000000  8.500000e+04      0.000000   3000.000000      0.000000   \n",
       "25%        2.000000  6.350000e+05      6.400000   3051.000000      2.000000   \n",
       "50%        3.000000  8.700000e+05     10.300000   3103.000000      3.000000   \n",
       "75%        4.000000  1.295000e+06     14.000000   3156.000000      4.000000   \n",
       "max       16.000000  1.120000e+07     48.100000   3978.000000     30.000000   \n",
       "\n",
       "           Bathroom           Car       Landsize  BuildingArea     YearBuilt  \\\n",
       "count  26631.000000  26129.000000   23047.000000   13742.00000  15551.000000   \n",
       "mean       1.624798      1.728845     593.598993     160.25640   1965.289885   \n",
       "std        0.724212      1.010771    3398.841946     401.26706     37.328178   \n",
       "min        0.000000      0.000000       0.000000       0.00000   1196.000000   \n",
       "25%        1.000000      1.000000     224.000000     102.00000   1940.000000   \n",
       "50%        2.000000      2.000000     521.000000     136.00000   1970.000000   \n",
       "75%        2.000000      2.000000     670.000000     188.00000   2000.000000   \n",
       "max       12.000000     26.000000  433014.000000   44515.00000   2106.000000   \n",
       "\n",
       "          Lattitude    Longtitude  Propertycount  \n",
       "count  26881.000000  26881.000000   34854.000000  \n",
       "mean     -37.810634    145.001851    7572.888306  \n",
       "std        0.090279      0.120169    4428.090313  \n",
       "min      -38.190430    144.423790      83.000000  \n",
       "25%      -37.862950    144.933500    4385.000000  \n",
       "50%      -37.807600    145.007800    6763.000000  \n",
       "75%      -37.754100    145.071900   10412.000000  \n",
       "max      -37.390200    145.526350   21650.000000  "
      ]
     },
     "execution_count": 5,
     "metadata": {},
     "output_type": "execute_result"
    }
   ],
   "source": [
    "df.describe()"
   ]
  },
  {
   "cell_type": "code",
   "execution_count": 6,
   "id": "ef2231e8",
   "metadata": {},
   "outputs": [],
   "source": [
    "df.drop([\"Address\", \"Date\", \"Postcode\", \"YearBuilt\", \"Lattitude\", \"Longtitude\"], axis=1, inplace=True)"
   ]
  },
  {
   "cell_type": "code",
   "execution_count": 7,
   "id": "d7865449",
   "metadata": {},
   "outputs": [
    {
     "data": {
      "text/plain": [
       "Index(['Suburb', 'Rooms', 'Type', 'Price', 'Method', 'SellerG', 'Distance',\n",
       "       'Bedroom2', 'Bathroom', 'Car', 'Landsize', 'BuildingArea',\n",
       "       'CouncilArea', 'Regionname', 'Propertycount'],\n",
       "      dtype='object')"
      ]
     },
     "execution_count": 7,
     "metadata": {},
     "output_type": "execute_result"
    }
   ],
   "source": [
    "df.columns"
   ]
  },
  {
   "cell_type": "code",
   "execution_count": 8,
   "id": "9c1b84d1",
   "metadata": {},
   "outputs": [
    {
     "data": {
      "text/plain": [
       "Suburb               0\n",
       "Rooms                0\n",
       "Type                 0\n",
       "Price             7610\n",
       "Method               0\n",
       "SellerG              0\n",
       "Distance             1\n",
       "Bedroom2          8217\n",
       "Bathroom          8226\n",
       "Car               8728\n",
       "Landsize         11810\n",
       "BuildingArea     21115\n",
       "CouncilArea          3\n",
       "Regionname           3\n",
       "Propertycount        3\n",
       "dtype: int64"
      ]
     },
     "execution_count": 8,
     "metadata": {},
     "output_type": "execute_result"
    }
   ],
   "source": [
    "df.isna().sum()"
   ]
  },
  {
   "cell_type": "code",
   "execution_count": 9,
   "id": "c6657219",
   "metadata": {},
   "outputs": [],
   "source": [
    "df[['Propertycount', 'Distance', 'Bedroom2', 'Bathroom', 'Car']] = df[['Propertycount', 'Distance', 'Bedroom2', 'Bathroom', 'Car']].fillna(0)"
   ]
  },
  {
   "cell_type": "markdown",
   "id": "9686833a",
   "metadata": {},
   "source": [
    "Replaced car,bedroom, bathroom, propertycount with 0"
   ]
  },
  {
   "cell_type": "code",
   "execution_count": 10,
   "id": "ef1a8ef9",
   "metadata": {},
   "outputs": [
    {
     "data": {
      "text/plain": [
       "Suburb               0\n",
       "Rooms                0\n",
       "Type                 0\n",
       "Price             7610\n",
       "Method               0\n",
       "SellerG              0\n",
       "Distance             0\n",
       "Bedroom2             0\n",
       "Bathroom             0\n",
       "Car                  0\n",
       "Landsize         11810\n",
       "BuildingArea     21115\n",
       "CouncilArea          3\n",
       "Regionname           3\n",
       "Propertycount        0\n",
       "dtype: int64"
      ]
     },
     "execution_count": 10,
     "metadata": {},
     "output_type": "execute_result"
    }
   ],
   "source": [
    "df.isna().sum()"
   ]
  },
  {
   "cell_type": "markdown",
   "id": "8dcfc0b6",
   "metadata": {},
   "source": [
    "filling landsize and building area with mean value"
   ]
  },
  {
   "cell_type": "code",
   "execution_count": 11,
   "id": "fb3fc92f",
   "metadata": {},
   "outputs": [],
   "source": [
    "df['Landsize'] = df['Landsize'].fillna(df.Landsize.mean())\n",
    "df['BuildingArea'] = df['BuildingArea'].fillna(df.BuildingArea.mean())\n"
   ]
  },
  {
   "cell_type": "code",
   "execution_count": 12,
   "id": "ae06d8a7",
   "metadata": {},
   "outputs": [
    {
     "data": {
      "text/plain": [
       "array(['SS', 'S', 'VB', 'SP', 'PI', 'SN', 'W', 'PN', 'SA'], dtype=object)"
      ]
     },
     "execution_count": 12,
     "metadata": {},
     "output_type": "execute_result"
    }
   ],
   "source": [
    "# Unique value in method\n",
    "df.Method.unique()"
   ]
  },
  {
   "cell_type": "markdown",
   "id": "763dedab",
   "metadata": {},
   "source": [
    " Creating a dummy data for categorical data "
   ]
  },
  {
   "cell_type": "code",
   "execution_count": 13,
   "id": "aa65e0af",
   "metadata": {},
   "outputs": [
    {
     "name": "stdout",
     "output_type": "stream",
     "text": [
      "<class 'pandas.core.frame.DataFrame'>\n",
      "RangeIndex: 34857 entries, 0 to 34856\n",
      "Data columns (total 15 columns):\n",
      " #   Column         Non-Null Count  Dtype  \n",
      "---  ------         --------------  -----  \n",
      " 0   Suburb         34857 non-null  object \n",
      " 1   Rooms          34857 non-null  int64  \n",
      " 2   Type           34857 non-null  object \n",
      " 3   Price          27247 non-null  float64\n",
      " 4   Method         34857 non-null  object \n",
      " 5   SellerG        34857 non-null  object \n",
      " 6   Distance       34857 non-null  float64\n",
      " 7   Bedroom2       34857 non-null  float64\n",
      " 8   Bathroom       34857 non-null  float64\n",
      " 9   Car            34857 non-null  float64\n",
      " 10  Landsize       34857 non-null  float64\n",
      " 11  BuildingArea   34857 non-null  float64\n",
      " 12  CouncilArea    34854 non-null  object \n",
      " 13  Regionname     34854 non-null  object \n",
      " 14  Propertycount  34857 non-null  float64\n",
      "dtypes: float64(8), int64(1), object(6)\n",
      "memory usage: 4.0+ MB\n"
     ]
    }
   ],
   "source": [
    "df.info()"
   ]
  },
  {
   "cell_type": "code",
   "execution_count": 14,
   "id": "47f95ddc",
   "metadata": {},
   "outputs": [],
   "source": [
    "df = pd.get_dummies(df, drop_first=True)"
   ]
  },
  {
   "cell_type": "code",
   "execution_count": 15,
   "id": "00f55252",
   "metadata": {},
   "outputs": [
    {
     "data": {
      "text/html": [
       "<div>\n",
       "<style scoped>\n",
       "    .dataframe tbody tr th:only-of-type {\n",
       "        vertical-align: middle;\n",
       "    }\n",
       "\n",
       "    .dataframe tbody tr th {\n",
       "        vertical-align: top;\n",
       "    }\n",
       "\n",
       "    .dataframe thead th {\n",
       "        text-align: right;\n",
       "    }\n",
       "</style>\n",
       "<table border=\"1\" class=\"dataframe\">\n",
       "  <thead>\n",
       "    <tr style=\"text-align: right;\">\n",
       "      <th></th>\n",
       "      <th>Rooms</th>\n",
       "      <th>Price</th>\n",
       "      <th>Distance</th>\n",
       "      <th>Bedroom2</th>\n",
       "      <th>Bathroom</th>\n",
       "      <th>Car</th>\n",
       "      <th>Landsize</th>\n",
       "      <th>BuildingArea</th>\n",
       "      <th>Propertycount</th>\n",
       "      <th>Suburb_Aberfeldie</th>\n",
       "      <th>...</th>\n",
       "      <th>CouncilArea_Wyndham City Council</th>\n",
       "      <th>CouncilArea_Yarra City Council</th>\n",
       "      <th>CouncilArea_Yarra Ranges Shire Council</th>\n",
       "      <th>Regionname_Eastern Victoria</th>\n",
       "      <th>Regionname_Northern Metropolitan</th>\n",
       "      <th>Regionname_Northern Victoria</th>\n",
       "      <th>Regionname_South-Eastern Metropolitan</th>\n",
       "      <th>Regionname_Southern Metropolitan</th>\n",
       "      <th>Regionname_Western Metropolitan</th>\n",
       "      <th>Regionname_Western Victoria</th>\n",
       "    </tr>\n",
       "  </thead>\n",
       "  <tbody>\n",
       "    <tr>\n",
       "      <th>0</th>\n",
       "      <td>2</td>\n",
       "      <td>NaN</td>\n",
       "      <td>2.5</td>\n",
       "      <td>2.0</td>\n",
       "      <td>1.0</td>\n",
       "      <td>1.0</td>\n",
       "      <td>126.000000</td>\n",
       "      <td>160.2564</td>\n",
       "      <td>4019.0</td>\n",
       "      <td>0</td>\n",
       "      <td>...</td>\n",
       "      <td>0</td>\n",
       "      <td>1</td>\n",
       "      <td>0</td>\n",
       "      <td>0</td>\n",
       "      <td>1</td>\n",
       "      <td>0</td>\n",
       "      <td>0</td>\n",
       "      <td>0</td>\n",
       "      <td>0</td>\n",
       "      <td>0</td>\n",
       "    </tr>\n",
       "    <tr>\n",
       "      <th>1</th>\n",
       "      <td>2</td>\n",
       "      <td>1480000.0</td>\n",
       "      <td>2.5</td>\n",
       "      <td>2.0</td>\n",
       "      <td>1.0</td>\n",
       "      <td>1.0</td>\n",
       "      <td>202.000000</td>\n",
       "      <td>160.2564</td>\n",
       "      <td>4019.0</td>\n",
       "      <td>0</td>\n",
       "      <td>...</td>\n",
       "      <td>0</td>\n",
       "      <td>1</td>\n",
       "      <td>0</td>\n",
       "      <td>0</td>\n",
       "      <td>1</td>\n",
       "      <td>0</td>\n",
       "      <td>0</td>\n",
       "      <td>0</td>\n",
       "      <td>0</td>\n",
       "      <td>0</td>\n",
       "    </tr>\n",
       "    <tr>\n",
       "      <th>2</th>\n",
       "      <td>2</td>\n",
       "      <td>1035000.0</td>\n",
       "      <td>2.5</td>\n",
       "      <td>2.0</td>\n",
       "      <td>1.0</td>\n",
       "      <td>0.0</td>\n",
       "      <td>156.000000</td>\n",
       "      <td>79.0000</td>\n",
       "      <td>4019.0</td>\n",
       "      <td>0</td>\n",
       "      <td>...</td>\n",
       "      <td>0</td>\n",
       "      <td>1</td>\n",
       "      <td>0</td>\n",
       "      <td>0</td>\n",
       "      <td>1</td>\n",
       "      <td>0</td>\n",
       "      <td>0</td>\n",
       "      <td>0</td>\n",
       "      <td>0</td>\n",
       "      <td>0</td>\n",
       "    </tr>\n",
       "    <tr>\n",
       "      <th>3</th>\n",
       "      <td>3</td>\n",
       "      <td>NaN</td>\n",
       "      <td>2.5</td>\n",
       "      <td>3.0</td>\n",
       "      <td>2.0</td>\n",
       "      <td>1.0</td>\n",
       "      <td>0.000000</td>\n",
       "      <td>160.2564</td>\n",
       "      <td>4019.0</td>\n",
       "      <td>0</td>\n",
       "      <td>...</td>\n",
       "      <td>0</td>\n",
       "      <td>1</td>\n",
       "      <td>0</td>\n",
       "      <td>0</td>\n",
       "      <td>1</td>\n",
       "      <td>0</td>\n",
       "      <td>0</td>\n",
       "      <td>0</td>\n",
       "      <td>0</td>\n",
       "      <td>0</td>\n",
       "    </tr>\n",
       "    <tr>\n",
       "      <th>4</th>\n",
       "      <td>3</td>\n",
       "      <td>1465000.0</td>\n",
       "      <td>2.5</td>\n",
       "      <td>3.0</td>\n",
       "      <td>2.0</td>\n",
       "      <td>0.0</td>\n",
       "      <td>134.000000</td>\n",
       "      <td>150.0000</td>\n",
       "      <td>4019.0</td>\n",
       "      <td>0</td>\n",
       "      <td>...</td>\n",
       "      <td>0</td>\n",
       "      <td>1</td>\n",
       "      <td>0</td>\n",
       "      <td>0</td>\n",
       "      <td>1</td>\n",
       "      <td>0</td>\n",
       "      <td>0</td>\n",
       "      <td>0</td>\n",
       "      <td>0</td>\n",
       "      <td>0</td>\n",
       "    </tr>\n",
       "    <tr>\n",
       "      <th>...</th>\n",
       "      <td>...</td>\n",
       "      <td>...</td>\n",
       "      <td>...</td>\n",
       "      <td>...</td>\n",
       "      <td>...</td>\n",
       "      <td>...</td>\n",
       "      <td>...</td>\n",
       "      <td>...</td>\n",
       "      <td>...</td>\n",
       "      <td>...</td>\n",
       "      <td>...</td>\n",
       "      <td>...</td>\n",
       "      <td>...</td>\n",
       "      <td>...</td>\n",
       "      <td>...</td>\n",
       "      <td>...</td>\n",
       "      <td>...</td>\n",
       "      <td>...</td>\n",
       "      <td>...</td>\n",
       "      <td>...</td>\n",
       "      <td>...</td>\n",
       "    </tr>\n",
       "    <tr>\n",
       "      <th>34852</th>\n",
       "      <td>4</td>\n",
       "      <td>1480000.0</td>\n",
       "      <td>6.3</td>\n",
       "      <td>4.0</td>\n",
       "      <td>1.0</td>\n",
       "      <td>3.0</td>\n",
       "      <td>593.000000</td>\n",
       "      <td>160.2564</td>\n",
       "      <td>6543.0</td>\n",
       "      <td>0</td>\n",
       "      <td>...</td>\n",
       "      <td>0</td>\n",
       "      <td>0</td>\n",
       "      <td>0</td>\n",
       "      <td>0</td>\n",
       "      <td>0</td>\n",
       "      <td>0</td>\n",
       "      <td>0</td>\n",
       "      <td>0</td>\n",
       "      <td>1</td>\n",
       "      <td>0</td>\n",
       "    </tr>\n",
       "    <tr>\n",
       "      <th>34853</th>\n",
       "      <td>2</td>\n",
       "      <td>888000.0</td>\n",
       "      <td>6.3</td>\n",
       "      <td>2.0</td>\n",
       "      <td>2.0</td>\n",
       "      <td>1.0</td>\n",
       "      <td>98.000000</td>\n",
       "      <td>104.0000</td>\n",
       "      <td>6543.0</td>\n",
       "      <td>0</td>\n",
       "      <td>...</td>\n",
       "      <td>0</td>\n",
       "      <td>0</td>\n",
       "      <td>0</td>\n",
       "      <td>0</td>\n",
       "      <td>0</td>\n",
       "      <td>0</td>\n",
       "      <td>0</td>\n",
       "      <td>0</td>\n",
       "      <td>1</td>\n",
       "      <td>0</td>\n",
       "    </tr>\n",
       "    <tr>\n",
       "      <th>34854</th>\n",
       "      <td>2</td>\n",
       "      <td>705000.0</td>\n",
       "      <td>6.3</td>\n",
       "      <td>2.0</td>\n",
       "      <td>1.0</td>\n",
       "      <td>2.0</td>\n",
       "      <td>220.000000</td>\n",
       "      <td>120.0000</td>\n",
       "      <td>6543.0</td>\n",
       "      <td>0</td>\n",
       "      <td>...</td>\n",
       "      <td>0</td>\n",
       "      <td>0</td>\n",
       "      <td>0</td>\n",
       "      <td>0</td>\n",
       "      <td>0</td>\n",
       "      <td>0</td>\n",
       "      <td>0</td>\n",
       "      <td>0</td>\n",
       "      <td>1</td>\n",
       "      <td>0</td>\n",
       "    </tr>\n",
       "    <tr>\n",
       "      <th>34855</th>\n",
       "      <td>3</td>\n",
       "      <td>1140000.0</td>\n",
       "      <td>6.3</td>\n",
       "      <td>0.0</td>\n",
       "      <td>0.0</td>\n",
       "      <td>0.0</td>\n",
       "      <td>593.598993</td>\n",
       "      <td>160.2564</td>\n",
       "      <td>6543.0</td>\n",
       "      <td>0</td>\n",
       "      <td>...</td>\n",
       "      <td>0</td>\n",
       "      <td>0</td>\n",
       "      <td>0</td>\n",
       "      <td>0</td>\n",
       "      <td>0</td>\n",
       "      <td>0</td>\n",
       "      <td>0</td>\n",
       "      <td>0</td>\n",
       "      <td>1</td>\n",
       "      <td>0</td>\n",
       "    </tr>\n",
       "    <tr>\n",
       "      <th>34856</th>\n",
       "      <td>2</td>\n",
       "      <td>1020000.0</td>\n",
       "      <td>6.3</td>\n",
       "      <td>2.0</td>\n",
       "      <td>1.0</td>\n",
       "      <td>0.0</td>\n",
       "      <td>250.000000</td>\n",
       "      <td>103.0000</td>\n",
       "      <td>6543.0</td>\n",
       "      <td>0</td>\n",
       "      <td>...</td>\n",
       "      <td>0</td>\n",
       "      <td>0</td>\n",
       "      <td>0</td>\n",
       "      <td>0</td>\n",
       "      <td>0</td>\n",
       "      <td>0</td>\n",
       "      <td>0</td>\n",
       "      <td>0</td>\n",
       "      <td>1</td>\n",
       "      <td>0</td>\n",
       "    </tr>\n",
       "  </tbody>\n",
       "</table>\n",
       "<p>34857 rows × 795 columns</p>\n",
       "</div>"
      ],
      "text/plain": [
       "       Rooms      Price  Distance  Bedroom2  Bathroom  Car    Landsize  \\\n",
       "0          2        NaN       2.5       2.0       1.0  1.0  126.000000   \n",
       "1          2  1480000.0       2.5       2.0       1.0  1.0  202.000000   \n",
       "2          2  1035000.0       2.5       2.0       1.0  0.0  156.000000   \n",
       "3          3        NaN       2.5       3.0       2.0  1.0    0.000000   \n",
       "4          3  1465000.0       2.5       3.0       2.0  0.0  134.000000   \n",
       "...      ...        ...       ...       ...       ...  ...         ...   \n",
       "34852      4  1480000.0       6.3       4.0       1.0  3.0  593.000000   \n",
       "34853      2   888000.0       6.3       2.0       2.0  1.0   98.000000   \n",
       "34854      2   705000.0       6.3       2.0       1.0  2.0  220.000000   \n",
       "34855      3  1140000.0       6.3       0.0       0.0  0.0  593.598993   \n",
       "34856      2  1020000.0       6.3       2.0       1.0  0.0  250.000000   \n",
       "\n",
       "       BuildingArea  Propertycount  Suburb_Aberfeldie  ...  \\\n",
       "0          160.2564         4019.0                  0  ...   \n",
       "1          160.2564         4019.0                  0  ...   \n",
       "2           79.0000         4019.0                  0  ...   \n",
       "3          160.2564         4019.0                  0  ...   \n",
       "4          150.0000         4019.0                  0  ...   \n",
       "...             ...            ...                ...  ...   \n",
       "34852      160.2564         6543.0                  0  ...   \n",
       "34853      104.0000         6543.0                  0  ...   \n",
       "34854      120.0000         6543.0                  0  ...   \n",
       "34855      160.2564         6543.0                  0  ...   \n",
       "34856      103.0000         6543.0                  0  ...   \n",
       "\n",
       "       CouncilArea_Wyndham City Council  CouncilArea_Yarra City Council  \\\n",
       "0                                     0                               1   \n",
       "1                                     0                               1   \n",
       "2                                     0                               1   \n",
       "3                                     0                               1   \n",
       "4                                     0                               1   \n",
       "...                                 ...                             ...   \n",
       "34852                                 0                               0   \n",
       "34853                                 0                               0   \n",
       "34854                                 0                               0   \n",
       "34855                                 0                               0   \n",
       "34856                                 0                               0   \n",
       "\n",
       "       CouncilArea_Yarra Ranges Shire Council  Regionname_Eastern Victoria  \\\n",
       "0                                           0                            0   \n",
       "1                                           0                            0   \n",
       "2                                           0                            0   \n",
       "3                                           0                            0   \n",
       "4                                           0                            0   \n",
       "...                                       ...                          ...   \n",
       "34852                                       0                            0   \n",
       "34853                                       0                            0   \n",
       "34854                                       0                            0   \n",
       "34855                                       0                            0   \n",
       "34856                                       0                            0   \n",
       "\n",
       "       Regionname_Northern Metropolitan  Regionname_Northern Victoria  \\\n",
       "0                                     1                             0   \n",
       "1                                     1                             0   \n",
       "2                                     1                             0   \n",
       "3                                     1                             0   \n",
       "4                                     1                             0   \n",
       "...                                 ...                           ...   \n",
       "34852                                 0                             0   \n",
       "34853                                 0                             0   \n",
       "34854                                 0                             0   \n",
       "34855                                 0                             0   \n",
       "34856                                 0                             0   \n",
       "\n",
       "       Regionname_South-Eastern Metropolitan  \\\n",
       "0                                          0   \n",
       "1                                          0   \n",
       "2                                          0   \n",
       "3                                          0   \n",
       "4                                          0   \n",
       "...                                      ...   \n",
       "34852                                      0   \n",
       "34853                                      0   \n",
       "34854                                      0   \n",
       "34855                                      0   \n",
       "34856                                      0   \n",
       "\n",
       "       Regionname_Southern Metropolitan  Regionname_Western Metropolitan  \\\n",
       "0                                     0                                0   \n",
       "1                                     0                                0   \n",
       "2                                     0                                0   \n",
       "3                                     0                                0   \n",
       "4                                     0                                0   \n",
       "...                                 ...                              ...   \n",
       "34852                                 0                                1   \n",
       "34853                                 0                                1   \n",
       "34854                                 0                                1   \n",
       "34855                                 0                                1   \n",
       "34856                                 0                                1   \n",
       "\n",
       "       Regionname_Western Victoria  \n",
       "0                                0  \n",
       "1                                0  \n",
       "2                                0  \n",
       "3                                0  \n",
       "4                                0  \n",
       "...                            ...  \n",
       "34852                            0  \n",
       "34853                            0  \n",
       "34854                            0  \n",
       "34855                            0  \n",
       "34856                            0  \n",
       "\n",
       "[34857 rows x 795 columns]"
      ]
     },
     "execution_count": 15,
     "metadata": {},
     "output_type": "execute_result"
    }
   ],
   "source": [
    "df"
   ]
  },
  {
   "cell_type": "code",
   "execution_count": 16,
   "id": "48de46d0",
   "metadata": {},
   "outputs": [],
   "source": [
    "df.dropna(inplace=True)"
   ]
  },
  {
   "cell_type": "markdown",
   "id": "de40662e",
   "metadata": {},
   "source": [
    "### Seperating features from target"
   ]
  },
  {
   "cell_type": "code",
   "execution_count": 17,
   "id": "9cb85301",
   "metadata": {},
   "outputs": [],
   "source": [
    "X = df.drop('Price', axis=1)\n",
    "y = df['Price']"
   ]
  },
  {
   "cell_type": "markdown",
   "id": "600a17ac",
   "metadata": {},
   "source": [
    "## Creating model"
   ]
  },
  {
   "cell_type": "code",
   "execution_count": 18,
   "id": "4086e5d4",
   "metadata": {},
   "outputs": [],
   "source": [
    "from sklearn.linear_model import LinearRegression\n",
    "model = LinearRegression()"
   ]
  },
  {
   "cell_type": "code",
   "execution_count": 19,
   "id": "4abbcbba",
   "metadata": {},
   "outputs": [],
   "source": [
    "from sklearn.model_selection import train_test_split"
   ]
  },
  {
   "cell_type": "code",
   "execution_count": 20,
   "id": "a722f727",
   "metadata": {},
   "outputs": [],
   "source": [
    "X_train, X_test, y_train, y_test = train_test_split(X,y,test_size=0.3,random_state=10)\n"
   ]
  },
  {
   "cell_type": "code",
   "execution_count": 21,
   "id": "40efd602",
   "metadata": {},
   "outputs": [
    {
     "data": {
      "text/html": [
       "<style>#sk-container-id-1 {color: black;background-color: white;}#sk-container-id-1 pre{padding: 0;}#sk-container-id-1 div.sk-toggleable {background-color: white;}#sk-container-id-1 label.sk-toggleable__label {cursor: pointer;display: block;width: 100%;margin-bottom: 0;padding: 0.3em;box-sizing: border-box;text-align: center;}#sk-container-id-1 label.sk-toggleable__label-arrow:before {content: \"▸\";float: left;margin-right: 0.25em;color: #696969;}#sk-container-id-1 label.sk-toggleable__label-arrow:hover:before {color: black;}#sk-container-id-1 div.sk-estimator:hover label.sk-toggleable__label-arrow:before {color: black;}#sk-container-id-1 div.sk-toggleable__content {max-height: 0;max-width: 0;overflow: hidden;text-align: left;background-color: #f0f8ff;}#sk-container-id-1 div.sk-toggleable__content pre {margin: 0.2em;color: black;border-radius: 0.25em;background-color: #f0f8ff;}#sk-container-id-1 input.sk-toggleable__control:checked~div.sk-toggleable__content {max-height: 200px;max-width: 100%;overflow: auto;}#sk-container-id-1 input.sk-toggleable__control:checked~label.sk-toggleable__label-arrow:before {content: \"▾\";}#sk-container-id-1 div.sk-estimator input.sk-toggleable__control:checked~label.sk-toggleable__label {background-color: #d4ebff;}#sk-container-id-1 div.sk-label input.sk-toggleable__control:checked~label.sk-toggleable__label {background-color: #d4ebff;}#sk-container-id-1 input.sk-hidden--visually {border: 0;clip: rect(1px 1px 1px 1px);clip: rect(1px, 1px, 1px, 1px);height: 1px;margin: -1px;overflow: hidden;padding: 0;position: absolute;width: 1px;}#sk-container-id-1 div.sk-estimator {font-family: monospace;background-color: #f0f8ff;border: 1px dotted black;border-radius: 0.25em;box-sizing: border-box;margin-bottom: 0.5em;}#sk-container-id-1 div.sk-estimator:hover {background-color: #d4ebff;}#sk-container-id-1 div.sk-parallel-item::after {content: \"\";width: 100%;border-bottom: 1px solid gray;flex-grow: 1;}#sk-container-id-1 div.sk-label:hover label.sk-toggleable__label {background-color: #d4ebff;}#sk-container-id-1 div.sk-serial::before {content: \"\";position: absolute;border-left: 1px solid gray;box-sizing: border-box;top: 0;bottom: 0;left: 50%;z-index: 0;}#sk-container-id-1 div.sk-serial {display: flex;flex-direction: column;align-items: center;background-color: white;padding-right: 0.2em;padding-left: 0.2em;position: relative;}#sk-container-id-1 div.sk-item {position: relative;z-index: 1;}#sk-container-id-1 div.sk-parallel {display: flex;align-items: stretch;justify-content: center;background-color: white;position: relative;}#sk-container-id-1 div.sk-item::before, #sk-container-id-1 div.sk-parallel-item::before {content: \"\";position: absolute;border-left: 1px solid gray;box-sizing: border-box;top: 0;bottom: 0;left: 50%;z-index: -1;}#sk-container-id-1 div.sk-parallel-item {display: flex;flex-direction: column;z-index: 1;position: relative;background-color: white;}#sk-container-id-1 div.sk-parallel-item:first-child::after {align-self: flex-end;width: 50%;}#sk-container-id-1 div.sk-parallel-item:last-child::after {align-self: flex-start;width: 50%;}#sk-container-id-1 div.sk-parallel-item:only-child::after {width: 0;}#sk-container-id-1 div.sk-dashed-wrapped {border: 1px dashed gray;margin: 0 0.4em 0.5em 0.4em;box-sizing: border-box;padding-bottom: 0.4em;background-color: white;}#sk-container-id-1 div.sk-label label {font-family: monospace;font-weight: bold;display: inline-block;line-height: 1.2em;}#sk-container-id-1 div.sk-label-container {text-align: center;}#sk-container-id-1 div.sk-container {/* jupyter's `normalize.less` sets `[hidden] { display: none; }` but bootstrap.min.css set `[hidden] { display: none !important; }` so we also need the `!important` here to be able to override the default hidden behavior on the sphinx rendered scikit-learn.org. See: https://github.com/scikit-learn/scikit-learn/issues/21755 */display: inline-block !important;position: relative;}#sk-container-id-1 div.sk-text-repr-fallback {display: none;}</style><div id=\"sk-container-id-1\" class=\"sk-top-container\"><div class=\"sk-text-repr-fallback\"><pre>LinearRegression()</pre><b>In a Jupyter environment, please rerun this cell to show the HTML representation or trust the notebook. <br />On GitHub, the HTML representation is unable to render, please try loading this page with nbviewer.org.</b></div><div class=\"sk-container\" hidden><div class=\"sk-item\"><div class=\"sk-estimator sk-toggleable\"><input class=\"sk-toggleable__control sk-hidden--visually\" id=\"sk-estimator-id-1\" type=\"checkbox\" checked><label for=\"sk-estimator-id-1\" class=\"sk-toggleable__label sk-toggleable__label-arrow\">LinearRegression</label><div class=\"sk-toggleable__content\"><pre>LinearRegression()</pre></div></div></div></div></div>"
      ],
      "text/plain": [
       "LinearRegression()"
      ]
     },
     "execution_count": 21,
     "metadata": {},
     "output_type": "execute_result"
    }
   ],
   "source": [
    "model.fit(X_train,y_train)"
   ]
  },
  {
   "cell_type": "markdown",
   "id": "8e2627ea",
   "metadata": {},
   "source": [
    "## checking for overfitting"
   ]
  },
  {
   "cell_type": "code",
   "execution_count": 22,
   "id": "adb279d1",
   "metadata": {},
   "outputs": [
    {
     "data": {
      "text/plain": [
       "0.6827738237067436"
      ]
     },
     "execution_count": 22,
     "metadata": {},
     "output_type": "execute_result"
    }
   ],
   "source": [
    "model.score(X_train,y_train)"
   ]
  },
  {
   "cell_type": "code",
   "execution_count": 23,
   "id": "967cf3e8",
   "metadata": {},
   "outputs": [
    {
     "data": {
      "text/plain": [
       "0.6647066324836313"
      ]
     },
     "execution_count": 23,
     "metadata": {},
     "output_type": "execute_result"
    }
   ],
   "source": [
    "model.score(X_test,y_test)"
   ]
  },
  {
   "cell_type": "markdown",
   "id": "a31a007d",
   "metadata": {},
   "source": [
    "    Here both test and train score it seems close not any case of overfitting"
   ]
  },
  {
   "cell_type": "code",
   "execution_count": 35,
   "id": "6c12e892",
   "metadata": {},
   "outputs": [
    {
     "data": {
      "text/html": [
       "<style>#sk-container-id-3 {color: black;background-color: white;}#sk-container-id-3 pre{padding: 0;}#sk-container-id-3 div.sk-toggleable {background-color: white;}#sk-container-id-3 label.sk-toggleable__label {cursor: pointer;display: block;width: 100%;margin-bottom: 0;padding: 0.3em;box-sizing: border-box;text-align: center;}#sk-container-id-3 label.sk-toggleable__label-arrow:before {content: \"▸\";float: left;margin-right: 0.25em;color: #696969;}#sk-container-id-3 label.sk-toggleable__label-arrow:hover:before {color: black;}#sk-container-id-3 div.sk-estimator:hover label.sk-toggleable__label-arrow:before {color: black;}#sk-container-id-3 div.sk-toggleable__content {max-height: 0;max-width: 0;overflow: hidden;text-align: left;background-color: #f0f8ff;}#sk-container-id-3 div.sk-toggleable__content pre {margin: 0.2em;color: black;border-radius: 0.25em;background-color: #f0f8ff;}#sk-container-id-3 input.sk-toggleable__control:checked~div.sk-toggleable__content {max-height: 200px;max-width: 100%;overflow: auto;}#sk-container-id-3 input.sk-toggleable__control:checked~label.sk-toggleable__label-arrow:before {content: \"▾\";}#sk-container-id-3 div.sk-estimator input.sk-toggleable__control:checked~label.sk-toggleable__label {background-color: #d4ebff;}#sk-container-id-3 div.sk-label input.sk-toggleable__control:checked~label.sk-toggleable__label {background-color: #d4ebff;}#sk-container-id-3 input.sk-hidden--visually {border: 0;clip: rect(1px 1px 1px 1px);clip: rect(1px, 1px, 1px, 1px);height: 1px;margin: -1px;overflow: hidden;padding: 0;position: absolute;width: 1px;}#sk-container-id-3 div.sk-estimator {font-family: monospace;background-color: #f0f8ff;border: 1px dotted black;border-radius: 0.25em;box-sizing: border-box;margin-bottom: 0.5em;}#sk-container-id-3 div.sk-estimator:hover {background-color: #d4ebff;}#sk-container-id-3 div.sk-parallel-item::after {content: \"\";width: 100%;border-bottom: 1px solid gray;flex-grow: 1;}#sk-container-id-3 div.sk-label:hover label.sk-toggleable__label {background-color: #d4ebff;}#sk-container-id-3 div.sk-serial::before {content: \"\";position: absolute;border-left: 1px solid gray;box-sizing: border-box;top: 0;bottom: 0;left: 50%;z-index: 0;}#sk-container-id-3 div.sk-serial {display: flex;flex-direction: column;align-items: center;background-color: white;padding-right: 0.2em;padding-left: 0.2em;position: relative;}#sk-container-id-3 div.sk-item {position: relative;z-index: 1;}#sk-container-id-3 div.sk-parallel {display: flex;align-items: stretch;justify-content: center;background-color: white;position: relative;}#sk-container-id-3 div.sk-item::before, #sk-container-id-3 div.sk-parallel-item::before {content: \"\";position: absolute;border-left: 1px solid gray;box-sizing: border-box;top: 0;bottom: 0;left: 50%;z-index: -1;}#sk-container-id-3 div.sk-parallel-item {display: flex;flex-direction: column;z-index: 1;position: relative;background-color: white;}#sk-container-id-3 div.sk-parallel-item:first-child::after {align-self: flex-end;width: 50%;}#sk-container-id-3 div.sk-parallel-item:last-child::after {align-self: flex-start;width: 50%;}#sk-container-id-3 div.sk-parallel-item:only-child::after {width: 0;}#sk-container-id-3 div.sk-dashed-wrapped {border: 1px dashed gray;margin: 0 0.4em 0.5em 0.4em;box-sizing: border-box;padding-bottom: 0.4em;background-color: white;}#sk-container-id-3 div.sk-label label {font-family: monospace;font-weight: bold;display: inline-block;line-height: 1.2em;}#sk-container-id-3 div.sk-label-container {text-align: center;}#sk-container-id-3 div.sk-container {/* jupyter's `normalize.less` sets `[hidden] { display: none; }` but bootstrap.min.css set `[hidden] { display: none !important; }` so we also need the `!important` here to be able to override the default hidden behavior on the sphinx rendered scikit-learn.org. See: https://github.com/scikit-learn/scikit-learn/issues/21755 */display: inline-block !important;position: relative;}#sk-container-id-3 div.sk-text-repr-fallback {display: none;}</style><div id=\"sk-container-id-3\" class=\"sk-top-container\"><div class=\"sk-text-repr-fallback\"><pre>Ridge(alpha=10, max_iter=100, tol=0.1)</pre><b>In a Jupyter environment, please rerun this cell to show the HTML representation or trust the notebook. <br />On GitHub, the HTML representation is unable to render, please try loading this page with nbviewer.org.</b></div><div class=\"sk-container\" hidden><div class=\"sk-item\"><div class=\"sk-estimator sk-toggleable\"><input class=\"sk-toggleable__control sk-hidden--visually\" id=\"sk-estimator-id-3\" type=\"checkbox\" checked><label for=\"sk-estimator-id-3\" class=\"sk-toggleable__label sk-toggleable__label-arrow\">Ridge</label><div class=\"sk-toggleable__content\"><pre>Ridge(alpha=10, max_iter=100, tol=0.1)</pre></div></div></div></div></div>"
      ],
      "text/plain": [
       "Ridge(alpha=10, max_iter=100, tol=0.1)"
      ]
     },
     "execution_count": 35,
     "metadata": {},
     "output_type": "execute_result"
    }
   ],
   "source": [
    "from sklearn.linear_model import Ridge\n",
    "ridge_reg= Ridge(alpha=10, max_iter=100, tol=0.1)\n",
    "ridge_reg.fit(X_train, y_train)"
   ]
  },
  {
   "cell_type": "code",
   "execution_count": 37,
   "id": "da7ff28e",
   "metadata": {},
   "outputs": [
    {
     "data": {
      "text/plain": [
       "0.6652060843429646"
      ]
     },
     "execution_count": 37,
     "metadata": {},
     "output_type": "execute_result"
    }
   ],
   "source": [
    "ridge_reg.score(X_test, y_test)"
   ]
  },
  {
   "cell_type": "code",
   "execution_count": 26,
   "id": "7241756d",
   "metadata": {},
   "outputs": [
    {
     "data": {
      "text/plain": [
       "array([ 2.70509592e+05, -3.93424574e+04, -9.13710940e+04,  1.30685240e+05,\n",
       "        4.10051703e+04,  2.58751482e+00,  3.35231850e+01,  1.34100765e+00,\n",
       "        2.06171170e+05, -8.64454931e+04, -1.05194359e+04,  2.94697672e+05,\n",
       "        1.31145041e+05,  2.25263428e+05,  1.50741118e+05, -1.30556573e+05,\n",
       "       -1.34687944e+05, -4.25860616e+04,  1.05735287e+05, -8.44228716e+04,\n",
       "       -7.60664681e+04,  8.47982971e+03, -5.14211323e+03, -1.67128555e+05,\n",
       "       -1.27002637e+05, -2.30780192e+05,  0.00000000e+00,  8.59841045e+04,\n",
       "       -1.09761426e+05,  1.21981530e+05,  1.16510667e+03,  3.40388158e+04,\n",
       "        2.59205642e+04, -5.22297443e+04,  4.40348218e+04,  1.49048217e+05,\n",
       "        0.00000000e+00, -2.54994660e+05,  6.33227706e+04, -7.29466786e+04,\n",
       "        1.00926838e+05,  2.50762511e+05,  1.34330628e+05, -1.08622202e+05,\n",
       "       -7.80145416e+04,  1.20522317e+05,  1.23110100e+05,  0.00000000e+00,\n",
       "        2.36692825e+05, -1.29120132e+05,  6.14398304e+04,  3.84428570e+05,\n",
       "       -8.93286796e+04, -3.54453911e+04, -1.42079900e+02,  9.21136989e+04,\n",
       "        5.38511566e+04,  4.63390831e+04,  2.34028789e+03,  1.00584075e+05,\n",
       "       -1.68867806e+05,  1.12561207e+05, -1.61957987e+05,  7.36544913e+02,\n",
       "       -1.51651809e+05, -1.66434525e+05, -6.82535435e+04, -2.50303691e+04,\n",
       "       -9.80062691e+04,  7.08575843e+04, -8.38610589e+04,  5.31747397e+05,\n",
       "        8.96084413e+04,  2.68000978e+05, -2.64339569e+04, -1.30567855e+05,\n",
       "        2.63649447e+05, -1.21694195e+05, -1.72335436e+05,  1.93363753e+05,\n",
       "        2.56360942e+04,  1.94269379e+04, -1.07574727e+05,  2.89932550e+05,\n",
       "       -5.62167768e+04, -2.28575993e+05, -7.25109899e+04, -3.06205114e+05,\n",
       "       -1.94892636e+04, -1.20002004e+05,  5.00055394e+04,  0.00000000e+00,\n",
       "       -9.52814779e+04, -2.30458382e+05,  0.00000000e+00,  6.27240721e+03,\n",
       "       -6.19450793e+04, -4.15803321e+04,  1.75390437e+04,  1.20762939e+04,\n",
       "       -5.48490176e+04,  1.29227059e+04, -2.49054345e+04,  5.36866326e+04,\n",
       "       -1.24202950e+05, -1.16157806e+04,  6.43025512e+04, -2.52044793e+05,\n",
       "        5.61573255e+04, -1.04184815e+05, -1.00302951e+04,  3.86436762e+05,\n",
       "       -5.13721059e+04, -1.21234650e+04, -1.54670890e+05, -1.11530706e+05,\n",
       "        2.64747371e+05, -1.55356243e+05, -2.43110427e+05,  1.52340565e+04,\n",
       "        9.18042120e+03,  1.34840132e+05, -2.79937845e+05, -1.76271225e+04,\n",
       "        3.79476442e+05,  3.48908352e+05,  2.53995715e+05,  1.02643502e+05,\n",
       "       -4.50759539e+04, -2.63907958e+05,  1.12678674e+04,  1.87605183e+05,\n",
       "       -1.21262464e+05, -2.09816545e+04,  1.37115417e+05,  7.17531610e+04,\n",
       "       -7.41741876e+03, -1.18328778e+05,  4.74618576e+04,  1.06290820e+05,\n",
       "       -3.41046343e+04, -4.78944587e+05,  1.68723453e+05,  1.61033837e+04,\n",
       "        1.27778928e+05,  2.77270908e+05, -9.31745194e+04, -1.32610829e+04,\n",
       "       -8.85503872e+04,  1.64861398e+05, -4.00171850e+04,  2.65953797e+05,\n",
       "       -2.39392079e+05,  1.26221937e+05,  1.14143036e+05, -2.06247088e+05,\n",
       "       -2.89033389e+04, -1.05227851e+05,  3.11122319e+05, -7.88918078e+04,\n",
       "       -2.39559534e+05, -1.27839075e+04, -1.56301676e+02,  0.00000000e+00,\n",
       "       -1.67495129e+05,  1.69277656e+05,  1.76452511e+05, -2.38996101e+05,\n",
       "       -3.81591899e+04, -2.83727711e+05, -1.60620788e+05,  1.97317109e+05,\n",
       "       -8.25194104e+04,  5.79001138e+04, -1.00083187e+05, -3.15605334e+05,\n",
       "       -4.14741503e+05, -1.38358345e+05, -5.35124659e+04,  0.00000000e+00,\n",
       "       -2.01864463e+04,  3.77644498e+04, -1.62378497e+05, -2.91549250e+04,\n",
       "        4.08210573e+04,  4.97174586e+05, -1.01102858e+05,  1.06696407e+05,\n",
       "       -1.58054321e+05,  5.31587187e+04, -3.75142516e+04,  6.32848588e+04,\n",
       "        9.48969457e+04, -4.12805464e+04, -9.04434881e+04, -3.69119912e+04,\n",
       "       -1.65154699e+05,  3.36661960e+04, -3.50126793e+03, -9.37024220e+04,\n",
       "       -1.03201131e+05,  7.02248879e+04, -3.11544911e+04, -5.34516103e+04,\n",
       "       -4.04529702e+04, -8.00077344e+04,  6.36930462e+04, -1.06232285e+05,\n",
       "       -1.18347837e+05,  5.26921052e+04,  5.67650403e+04,  5.42461349e+04,\n",
       "        1.45935438e+04, -6.54775869e+04,  3.80525490e+05, -2.96275639e+04,\n",
       "       -2.06032280e+04,  2.01565301e+05, -4.98159165e+04,  3.17646311e+04,\n",
       "       -3.12546962e+04,  4.97374011e+04, -1.06413151e+05,  1.24115867e+05,\n",
       "        0.00000000e+00,  7.83236620e+04, -1.46755368e+04,  4.62686815e+05,\n",
       "       -7.06028186e+04,  8.20734705e+04,  5.35882243e+03,  5.63924943e+04,\n",
       "       -6.68954483e+04, -1.33440160e+05,  7.39228183e+04, -9.88555405e+04,\n",
       "       -1.47369762e+05,  1.58803042e+05, -7.53647006e+04,  2.05920852e+05,\n",
       "       -1.68308267e+04, -1.51656685e+04,  5.90452855e+04, -1.97788104e+05,\n",
       "       -2.97429618e+04,  6.48894706e+04,  1.61846194e+04, -1.99836116e+04,\n",
       "        1.37107824e+05,  1.96417479e+05,  7.04502491e+04,  5.87835938e+03,\n",
       "        6.71484344e+04, -2.68123079e+04, -7.39680048e+04, -2.79432185e+05,\n",
       "       -2.23412277e+04,  0.00000000e+00,  8.24939056e+04,  1.07347448e+05,\n",
       "        2.10442262e+05,  2.37936536e+05, -1.53656506e+04,  8.70041622e+04,\n",
       "        2.69988002e+05,  1.79618644e+05, -1.84212975e+05, -5.96278366e+04,\n",
       "       -2.78953827e+05, -6.51676304e+04,  2.99213329e+05,  4.48867941e+04,\n",
       "       -1.00378391e+05,  2.15451411e+04,  1.83041404e+05,  5.87623106e+04,\n",
       "        9.29461179e+04, -1.06786800e+05, -1.46320168e+05,  2.48846796e+05,\n",
       "       -1.58044587e+05, -1.19605797e+05, -8.38308407e+04, -1.25204736e+05,\n",
       "        1.20158472e+05,  6.81318217e+04, -1.70000367e+05,  1.29395847e+05,\n",
       "        3.26165967e+04,  6.15768478e+04,  1.71846453e+05, -9.78139768e+04,\n",
       "       -3.22446587e+04, -1.60860111e+05, -8.36797005e+04, -8.56093197e+04,\n",
       "       -3.80625126e+05, -3.89756464e+04, -5.79963970e+04, -7.67607183e+03,\n",
       "        6.49973138e+04, -2.10126474e+05, -1.16383007e+05,  6.37427096e+04,\n",
       "       -1.58001750e+05,  3.82383650e+05,  8.53932451e+04, -1.96954066e+04,\n",
       "       -1.03960591e+05,  8.24356960e+03,  9.05828532e+04, -3.84791069e+04,\n",
       "       -6.08042252e+04, -4.13662152e+04,  0.00000000e+00,  1.20953270e+05,\n",
       "       -1.41134155e+05,  1.32800262e+05, -9.16062721e+03,  7.62121517e+04,\n",
       "        1.85116665e+05, -7.94811234e+03, -1.11230826e+04,  4.02677948e+04,\n",
       "        8.33455943e+04,  3.39039083e+03, -4.38022833e+04, -3.04313583e+05,\n",
       "        8.18001284e+04,  7.99289395e+04, -2.27907560e+05, -1.84398938e+05,\n",
       "        2.21904067e+05, -1.39484059e+05, -1.19291677e+05,  2.69386474e+04,\n",
       "       -1.14132761e+05, -1.24608994e+05, -1.31662289e+05, -2.71468537e+04,\n",
       "       -6.49204181e+04,  6.97169042e+04, -2.25524339e+04, -1.07424045e+05,\n",
       "        5.98664278e+04,  1.34071086e+05, -4.37828489e+04,  3.30113545e+05,\n",
       "        6.53072466e+04, -1.16326115e+05,  8.90193390e+04,  1.98873373e+04,\n",
       "        2.62305112e+05, -1.18586734e+05,  0.00000000e+00,  7.31273613e+04,\n",
       "       -1.00671760e+04,  0.00000000e+00, -2.75706690e+05, -4.78012499e+05,\n",
       "        0.00000000e+00,  7.57731119e+04,  4.58339692e+04,  0.00000000e+00,\n",
       "        3.43448135e+04,  0.00000000e+00,  1.95561490e+04,  0.00000000e+00,\n",
       "        0.00000000e+00, -9.06814414e+04,  6.25583645e+03,  4.33005479e+05,\n",
       "        2.04812754e+05,  0.00000000e+00,  1.92112799e+05,  3.03158776e+04,\n",
       "       -8.87062419e+04, -6.91098060e+04,  4.86052882e+04, -2.20410127e+05,\n",
       "       -1.56766522e+03,  8.76488668e+04, -6.99768935e+04, -1.45463361e+05,\n",
       "       -9.54158433e+04,  2.44116323e+05,  4.53303282e+04,  1.05931180e+04,\n",
       "        1.34958527e+05,  6.73909796e+04,  4.16941938e+03,  1.56682351e+05,\n",
       "       -9.21482413e+04, -5.12860609e+04, -1.18840646e+05, -3.52500571e+03,\n",
       "        0.00000000e+00,  6.15459946e+04, -9.49252579e+04,  0.00000000e+00,\n",
       "        1.22831080e+04,  6.29106283e+04,  8.61564373e+03,  3.82546079e+05,\n",
       "        0.00000000e+00,  1.59681912e+05, -1.27107182e+05, -2.81157838e+05,\n",
       "       -1.49815898e+05,  6.18746762e+03,  0.00000000e+00, -2.21805622e+04,\n",
       "        1.69424638e+04,  1.27907219e+04,  6.91145974e+04, -1.25197015e+05,\n",
       "        0.00000000e+00,  1.80042751e+04, -9.49781318e+04,  0.00000000e+00,\n",
       "        0.00000000e+00, -1.26670211e+05, -9.43783146e+03,  0.00000000e+00,\n",
       "        5.20553242e+05,  1.56353028e+04,  0.00000000e+00,  3.84117977e+04,\n",
       "        7.97310999e+04,  2.30925671e+05,  8.71547662e+04, -2.15867019e+05,\n",
       "       -2.33633184e+04, -2.22552074e+05,  1.04330164e+05, -1.90841273e+05,\n",
       "        3.18101943e+03, -1.47458343e+05,  0.00000000e+00,  1.03543138e+05,\n",
       "       -6.58315781e+04,  1.92080073e+05,  3.82380077e+04,  1.66181518e+05,\n",
       "       -3.94470588e+04,  0.00000000e+00, -6.76382238e+04,  0.00000000e+00,\n",
       "       -1.21182910e+05, -2.02186676e+04,  3.28750292e+04,  1.80000876e+03,\n",
       "       -3.69933940e+04, -1.20496692e+05,  3.76676264e+05,  1.13564229e+05,\n",
       "       -1.49254380e+05,  2.77803067e+04, -7.93126353e+04, -2.93813615e+05,\n",
       "       -1.96868002e+05, -2.20798382e+05,  0.00000000e+00, -9.71839549e+03,\n",
       "        2.74285742e+04,  1.93344803e+05,  0.00000000e+00, -1.54255837e+04,\n",
       "        2.21464673e+04,  4.45503401e+04,  5.11057364e+04,  6.81379464e+04,\n",
       "        4.88716031e+03, -9.06203265e+04,  0.00000000e+00, -2.31732690e+04,\n",
       "        0.00000000e+00,  0.00000000e+00, -2.78298985e+04,  0.00000000e+00,\n",
       "       -1.67919459e+04, -3.44121336e+04,  1.80472906e+03, -1.24854552e+05,\n",
       "       -2.74099935e+05, -3.07841004e+04, -2.58047977e+05, -1.04514908e+05,\n",
       "        0.00000000e+00,  0.00000000e+00,  2.32715989e+04,  6.08349334e+04,\n",
       "       -1.35779122e+04,  2.37430656e+05, -1.28231418e+03,  9.96773197e+05,\n",
       "       -1.57328945e+05, -2.00331941e+05,  3.10744219e+03,  0.00000000e+00,\n",
       "       -1.30293410e+05, -6.00704613e+04, -7.86315539e+04,  0.00000000e+00,\n",
       "       -3.08235175e+04, -1.03453363e+05,  1.46718253e+05, -8.15377941e+04,\n",
       "        3.92886430e+05,  1.70862557e+05, -1.65601284e+04,  0.00000000e+00,\n",
       "       -1.46778648e+04,  0.00000000e+00, -1.26893684e+05, -6.72889757e+04,\n",
       "       -1.07097501e+05,  3.86644340e+04,  0.00000000e+00,  3.00577433e+04,\n",
       "        7.05824538e+04,  0.00000000e+00,  8.62037299e+04,  6.40439237e+03,\n",
       "        1.91431370e+04,  0.00000000e+00, -1.61068576e+05, -4.94035900e+04,\n",
       "        9.60450645e+04,  1.88247891e+05,  0.00000000e+00, -1.90453964e+05,\n",
       "        4.45644833e+05,  7.41224133e+04,  6.41354975e+04,  2.67936450e+05,\n",
       "       -3.57625290e+04,  0.00000000e+00,  3.58823831e+04, -1.38515663e+05,\n",
       "        1.60610874e+04, -1.53125704e+05,  4.69785178e+05,  0.00000000e+00,\n",
       "        0.00000000e+00,  7.61215823e+04, -8.32069767e+04, -2.77808855e+04,\n",
       "        3.31157327e+04, -3.81098804e+02,  9.84970600e+04,  1.46100172e+05,\n",
       "        3.35168884e+04,  1.51282501e+05, -3.22998961e+05,  0.00000000e+00,\n",
       "        3.62210280e+04, -9.71186202e+04,  4.74449068e+03,  0.00000000e+00,\n",
       "       -1.15167689e+05, -1.04773898e+05,  0.00000000e+00,  4.95901435e+04,\n",
       "        0.00000000e+00,  3.30094233e+05,  0.00000000e+00, -2.16469311e+05,\n",
       "       -9.91142065e+03,  2.63136835e+05,  9.80193272e+04,  0.00000000e+00,\n",
       "        4.80963097e+04,  0.00000000e+00, -1.31864320e+05,  0.00000000e+00,\n",
       "       -5.47063611e+03,  0.00000000e+00,  2.52983256e+02, -5.38825270e+04,\n",
       "        4.36242981e+04,  2.77013103e+04,  0.00000000e+00, -5.10049194e+04,\n",
       "        8.12046287e+04,  2.97477805e+04,  3.36446988e+05,  1.46685550e+05,\n",
       "        2.01196693e+03, -2.46523640e+05,  1.12317758e+04,  3.97215801e+04,\n",
       "        0.00000000e+00, -1.15474454e+05,  9.42613374e+03, -1.89559345e+04,\n",
       "        3.28375204e+04,  0.00000000e+00, -3.08784080e+04, -2.63687540e+05,\n",
       "        1.36757537e+05, -3.09438750e+04,  1.20157859e+05,  1.28764316e+04,\n",
       "       -2.22995138e+05, -8.66828184e+03,  1.14248211e+05,  2.02205319e+04,\n",
       "       -5.09979683e+04,  3.19372390e+04,  3.30463064e+04, -7.55408527e+03,\n",
       "       -2.23027167e+05, -5.30346919e+04, -3.05819155e+04, -1.16848067e+05,\n",
       "        0.00000000e+00, -1.43626748e+04, -2.44529764e+03, -5.17354793e+04,\n",
       "        1.29346247e+05,  0.00000000e+00,  7.91850745e+04,  0.00000000e+00,\n",
       "        3.19654647e+05, -1.02773395e+05,  1.02749558e+04,  7.63009928e+04,\n",
       "        1.51348242e+04, -6.19347904e+04,  8.34463737e+04,  3.15929234e+04,\n",
       "       -7.50175205e+04,  1.30649958e+05, -3.16850556e+05, -3.09800855e+05,\n",
       "       -5.20573175e+04, -2.03770139e+04,  0.00000000e+00, -2.91690730e+04,\n",
       "        5.38839085e+04, -7.63329962e+04,  1.54264808e+05, -6.93211987e+03,\n",
       "       -2.42766477e+04, -1.55868138e+05, -3.81480982e+04,  0.00000000e+00,\n",
       "       -2.89193317e+04, -2.85879220e+05,  9.24730869e+04,  6.82616430e+04,\n",
       "        3.37527668e+04,  2.49203542e+04, -1.47625658e+04, -4.45021953e+04,\n",
       "        1.02958619e+04, -2.49099306e+04, -1.14418420e+05, -4.40572735e+04,\n",
       "       -1.16742316e+05,  0.00000000e+00, -5.11567005e+05,  5.52124711e+04,\n",
       "        0.00000000e+00,  0.00000000e+00, -6.57177594e+03,  6.55069368e+04,\n",
       "       -3.26467467e+05,  6.32347382e+04,  0.00000000e+00,  1.34138569e+05,\n",
       "       -3.65369664e+05, -2.81463613e+05, -2.20627215e+03,  0.00000000e+00,\n",
       "       -4.78186580e+04, -2.26014429e+05,  7.93123715e+05,  3.38715920e+04,\n",
       "        5.46966925e+04,  0.00000000e+00, -4.15221404e+04,  0.00000000e+00,\n",
       "        0.00000000e+00, -2.39457258e+04, -1.53848708e+05,  0.00000000e+00,\n",
       "       -5.85085733e+03, -8.11814882e+04,  2.51104520e+04,  0.00000000e+00,\n",
       "       -6.86546477e+04,  0.00000000e+00,  3.23631359e+04, -2.08766323e+05,\n",
       "       -7.77189955e+04, -2.74830546e+05, -1.54016595e+05,  7.02317637e+04,\n",
       "        1.35563186e+04, -2.26167320e+05,  0.00000000e+00,  1.32286767e+05,\n",
       "        2.27523858e+05,  6.69422018e+04,  6.15618216e+05, -9.31756386e+04,\n",
       "       -5.72510605e+04, -5.91240235e+04,  0.00000000e+00, -1.48603679e+05,\n",
       "        4.99168877e+04, -1.13530261e+05,  4.27750558e+05,  1.52695265e+04,\n",
       "        9.56359888e+03,  0.00000000e+00,  0.00000000e+00,  0.00000000e+00,\n",
       "        4.39926614e+05,  8.44010744e+04, -9.40130273e+04, -1.76471958e+05,\n",
       "        1.16348474e+05, -2.12589990e+03,  2.89619676e+04,  3.73143060e+04,\n",
       "        1.18205351e+05, -1.34282309e+05, -3.94852165e+04, -9.18039243e+03,\n",
       "       -7.30720475e+04,  0.00000000e+00,  8.15117832e+03,  0.00000000e+00,\n",
       "        1.03435283e+05, -3.11996396e+04,  5.82606874e+04,  0.00000000e+00,\n",
       "        0.00000000e+00,  4.72518656e+04,  0.00000000e+00,  0.00000000e+00,\n",
       "        0.00000000e+00,  0.00000000e+00,  2.95720378e+04,  0.00000000e+00,\n",
       "       -3.28079568e+04, -2.76355258e+04,  0.00000000e+00,  3.01971156e+04,\n",
       "        9.08886159e+04, -7.95901563e+04,  0.00000000e+00,  3.85591164e+05,\n",
       "        3.49114935e+05, -2.02523978e+05,  2.64416481e+05,  7.83262926e+04,\n",
       "        9.69686605e+03,  2.39173995e+05,  1.33275106e+05, -6.38491429e+04,\n",
       "       -6.36619291e+04, -1.25882313e+05,  1.18315743e+05,  1.79838021e+04,\n",
       "        3.38179479e+05,  1.11088883e+05, -1.21695309e+05,  6.80374481e+04,\n",
       "        7.33615136e+04, -1.73179695e+05,  8.18001284e+04,  5.10064840e+04,\n",
       "        4.25789094e+04,  7.59538094e+04, -5.43622516e+04, -9.32498507e+04,\n",
       "        1.19001528e+05,  3.09344440e+05,  1.09077140e+05, -3.72231064e+04,\n",
       "       -1.83165407e+05,  5.04184778e+04,  6.86685206e+03,  2.18456260e+05,\n",
       "       -1.76793290e+05,  2.55052555e+05,  1.37115931e+05,  4.98138771e+04,\n",
       "       -1.84604210e+05,  1.41756292e+05])"
      ]
     },
     "execution_count": 26,
     "metadata": {},
     "output_type": "execute_result"
    }
   ],
   "source": [
    "## Slope\n",
    "ridge_reg.coef_"
   ]
  },
  {
   "cell_type": "code",
   "execution_count": 27,
   "id": "f44e4df8",
   "metadata": {},
   "outputs": [
    {
     "data": {
      "text/plain": [
       "714919.8652910943"
      ]
     },
     "execution_count": 27,
     "metadata": {},
     "output_type": "execute_result"
    }
   ],
   "source": [
    "## Intercept\n",
    "ridge_reg.intercept_"
   ]
  },
  {
   "cell_type": "code",
   "execution_count": 28,
   "id": "b5b08c78",
   "metadata": {},
   "outputs": [],
   "source": [
    "ypred = ridge_reg.predict(X_test)"
   ]
  },
  {
   "cell_type": "code",
   "execution_count": 29,
   "id": "8e3778cc",
   "metadata": {},
   "outputs": [],
   "source": [
    "from sklearn.metrics import mean_squared_error,mean_absolute_error,r2_score"
   ]
  },
  {
   "cell_type": "code",
   "execution_count": 30,
   "id": "107e2ffa",
   "metadata": {},
   "outputs": [
    {
     "data": {
      "text/plain": [
       "142101309685.919"
      ]
     },
     "execution_count": 30,
     "metadata": {},
     "output_type": "execute_result"
    }
   ],
   "source": [
    "mean_squared_error(y_test,ypred)"
   ]
  },
  {
   "cell_type": "code",
   "execution_count": 242,
   "id": "9eb44aa4",
   "metadata": {},
   "outputs": [
    {
     "data": {
      "text/plain": [
       "235832.7210557449"
      ]
     },
     "execution_count": 242,
     "metadata": {},
     "output_type": "execute_result"
    }
   ],
   "source": [
    "mean_absolute_error(y_test,ypred)"
   ]
  },
  {
   "cell_type": "code",
   "execution_count": 31,
   "id": "cf99ca8d",
   "metadata": {},
   "outputs": [
    {
     "data": {
      "text/plain": [
       "0.666186835231704"
      ]
     },
     "execution_count": 31,
     "metadata": {},
     "output_type": "execute_result"
    }
   ],
   "source": [
    "r2_score(y_test,ypred)"
   ]
  },
  {
   "cell_type": "code",
   "execution_count": 33,
   "id": "ad80ab44",
   "metadata": {},
   "outputs": [],
   "source": [
    "from math import sqrt"
   ]
  },
  {
   "cell_type": "code",
   "execution_count": 34,
   "id": "591679ec",
   "metadata": {},
   "outputs": [
    {
     "data": {
      "text/plain": [
       "376963.27365662425"
      ]
     },
     "execution_count": 34,
     "metadata": {},
     "output_type": "execute_result"
    }
   ],
   "source": [
    "rmse = sqrt(mean_squared_error(y_test,ypred))\n",
    "rmse"
   ]
  },
  {
   "cell_type": "code",
   "execution_count": null,
   "id": "9708430f",
   "metadata": {},
   "outputs": [],
   "source": []
  }
 ],
 "metadata": {
  "kernelspec": {
   "display_name": "Python 3 (ipykernel)",
   "language": "python",
   "name": "python3"
  },
  "language_info": {
   "codemirror_mode": {
    "name": "ipython",
    "version": 3
   },
   "file_extension": ".py",
   "mimetype": "text/x-python",
   "name": "python",
   "nbconvert_exporter": "python",
   "pygments_lexer": "ipython3",
   "version": "3.9.7"
  }
 },
 "nbformat": 4,
 "nbformat_minor": 5
}
