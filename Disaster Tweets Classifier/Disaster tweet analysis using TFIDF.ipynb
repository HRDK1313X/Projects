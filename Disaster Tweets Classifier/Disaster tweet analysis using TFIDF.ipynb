{
 "cells": [
  {
   "cell_type": "code",
   "execution_count": 1,
   "id": "d6ed3c89",
   "metadata": {},
   "outputs": [],
   "source": [
    "import pandas as pd\n",
    "import numpy as np"
   ]
  },
  {
   "cell_type": "code",
   "execution_count": 2,
   "id": "e869a8ad",
   "metadata": {},
   "outputs": [],
   "source": [
    "train = pd.read_csv('train.csv')"
   ]
  },
  {
   "cell_type": "code",
   "execution_count": 3,
   "id": "ebc98f88",
   "metadata": {},
   "outputs": [],
   "source": [
    "test = pd.read_csv('test.csv')"
   ]
  },
  {
   "cell_type": "code",
   "execution_count": 4,
   "id": "eb557287",
   "metadata": {},
   "outputs": [],
   "source": [
    "import re"
   ]
  },
  {
   "cell_type": "code",
   "execution_count": 5,
   "id": "c5bb293d",
   "metadata": {},
   "outputs": [],
   "source": [
    "NON_ALPHANUM = re.compile(r'[\\W]')\n",
    "NON_ASCII = re.compile(r'[^a-z0-1\\s]')\n",
    "def normalize_texts(texts):\n",
    "    normalized_texts = []\n",
    "    for text in texts:\n",
    "        \n",
    "        text = re.sub(r\"http\\S+\", \"\",text)\n",
    "        text = re.sub(r'<.*?>','', text)\n",
    "        lower = text.lower()\n",
    "        no_punctuation = NON_ALPHANUM.sub(r' ', lower)\n",
    "        no_non_ascii = NON_ASCII.sub(r'', no_punctuation)\n",
    "        normalized_texts.append(no_non_ascii)\n",
    "    return normalized_texts"
   ]
  },
  {
   "cell_type": "code",
   "execution_count": 7,
   "id": "a72484dd",
   "metadata": {},
   "outputs": [],
   "source": [
    "train.text = normalize_texts(train.text)"
   ]
  },
  {
   "cell_type": "code",
   "execution_count": 9,
   "id": "3a43b846",
   "metadata": {},
   "outputs": [
    {
     "data": {
      "text/plain": [
       "0       our deeds are the reason of this  earthquake m...\n",
       "1                  forest fire near la ronge sask  canada\n",
       "2       all residents asked to  shelter in place  are ...\n",
       "3       1 000 people receive  wildfires evacuation ord...\n",
       "4       just got sent this photo from ruby  alaska as ...\n",
       "                              ...                        \n",
       "7608    two giant cranes holding a bridge collapse int...\n",
       "7609     ariaahrary  thetawniest the out of control wi...\n",
       "7610              m1   01 0 utc  km s of volcano hawaii  \n",
       "7611    police investigating after an e bike collided ...\n",
       "7612    the latest  more homes razed by northern calif...\n",
       "Name: text, Length: 7613, dtype: object"
      ]
     },
     "execution_count": 9,
     "metadata": {},
     "output_type": "execute_result"
    }
   ],
   "source": [
    "train.text"
   ]
  },
  {
   "cell_type": "code",
   "execution_count": 10,
   "id": "37ce78a9",
   "metadata": {},
   "outputs": [],
   "source": [
    "test.text = normalize_texts(test.text)"
   ]
  },
  {
   "cell_type": "markdown",
   "id": "4b6128d7",
   "metadata": {},
   "source": [
    "### Train test split"
   ]
  },
  {
   "cell_type": "code",
   "execution_count": 11,
   "id": "9dc62081",
   "metadata": {},
   "outputs": [],
   "source": [
    "from sklearn.model_selection import train_test_split"
   ]
  },
  {
   "cell_type": "code",
   "execution_count": 12,
   "id": "be603084",
   "metadata": {},
   "outputs": [],
   "source": [
    "X_train, X_test, y_train, y_test = train_test_split(train.text, train.target, test_size=0.2, random_state=42, stratify=train.target)"
   ]
  },
  {
   "cell_type": "code",
   "execution_count": 26,
   "id": "fd7da961",
   "metadata": {},
   "outputs": [
    {
     "data": {
      "text/plain": [
       "6234    sassy city girl country hunk stranded in smoky...\n",
       "326     god s kingdom  heavenly gov t  will rule over ...\n",
       "997     mopheme and bigstar johnson are a problem in t...\n",
       "7269             vixmeldrew sounds like a whirlwind life \n",
       "2189    malaysia confirms plane debris washed up on re...\n",
       "                              ...                        \n",
       "3386     a voluntary evacuation is being recommended a...\n",
       "3280    rt  calestous  tanzania elephant population de...\n",
       "305      pbban  temporary 00  russaky   armageddon   d...\n",
       "1648    petition   heartless owner that whipped horse ...\n",
       "7569     marynmck that s beyond adorable  i hope it wo...\n",
       "Name: text, Length: 6090, dtype: object"
      ]
     },
     "execution_count": 26,
     "metadata": {},
     "output_type": "execute_result"
    }
   ],
   "source": [
    "X_train"
   ]
  },
  {
   "cell_type": "markdown",
   "id": "dd03c985",
   "metadata": {},
   "source": [
    "### TF-IDF"
   ]
  },
  {
   "cell_type": "code",
   "execution_count": 13,
   "id": "958fc1e2",
   "metadata": {},
   "outputs": [],
   "source": [
    "from sklearn.feature_extraction.text import TfidfVectorizer"
   ]
  },
  {
   "cell_type": "code",
   "execution_count": 14,
   "id": "c8923f7e",
   "metadata": {},
   "outputs": [],
   "source": [
    "tfidf = TfidfVectorizer()"
   ]
  },
  {
   "cell_type": "code",
   "execution_count": 15,
   "id": "9038f8bf",
   "metadata": {},
   "outputs": [],
   "source": [
    "tfidf_train_vector = tfidf.fit_transform(X_train)"
   ]
  },
  {
   "cell_type": "code",
   "execution_count": 16,
   "id": "c9b3a7fc",
   "metadata": {},
   "outputs": [],
   "source": [
    "tfidf_test_vector = tfidf.transform(X_test)"
   ]
  },
  {
   "cell_type": "code",
   "execution_count": 34,
   "id": "e1118fe1",
   "metadata": {},
   "outputs": [
    {
     "data": {
      "text/plain": [
       "<6090x14341 sparse matrix of type '<class 'numpy.float64'>'\n",
       "\twith 77782 stored elements in Compressed Sparse Row format>"
      ]
     },
     "execution_count": 34,
     "metadata": {},
     "output_type": "execute_result"
    }
   ],
   "source": [
    "tfidf_train_vector"
   ]
  },
  {
   "cell_type": "markdown",
   "id": "a84b8737",
   "metadata": {},
   "source": [
    "## Naive Bayes"
   ]
  },
  {
   "cell_type": "code",
   "execution_count": 17,
   "id": "fb39f226",
   "metadata": {},
   "outputs": [],
   "source": [
    "from sklearn.naive_bayes import MultinomialNB"
   ]
  },
  {
   "cell_type": "code",
   "execution_count": 18,
   "id": "b81c3447",
   "metadata": {},
   "outputs": [],
   "source": [
    "NB = MultinomialNB()"
   ]
  },
  {
   "cell_type": "code",
   "execution_count": 20,
   "id": "1813d4b7",
   "metadata": {},
   "outputs": [],
   "source": [
    "model = NB.fit(tfidf_train_vector,y_train)"
   ]
  },
  {
   "cell_type": "code",
   "execution_count": 21,
   "id": "5a251274",
   "metadata": {},
   "outputs": [],
   "source": [
    "y_pred = model.predict(tfidf_test_vector)"
   ]
  },
  {
   "cell_type": "code",
   "execution_count": 22,
   "id": "4bcbe862",
   "metadata": {},
   "outputs": [],
   "source": [
    "from sklearn.metrics import classification_report,accuracy_score,confusion_matrix"
   ]
  },
  {
   "cell_type": "code",
   "execution_count": 23,
   "id": "930eec71",
   "metadata": {},
   "outputs": [
    {
     "name": "stdout",
     "output_type": "stream",
     "text": [
      "              precision    recall  f1-score   support\n",
      "\n",
      "           0       0.79      0.93      0.86       869\n",
      "           1       0.88      0.68      0.77       654\n",
      "\n",
      "    accuracy                           0.82      1523\n",
      "   macro avg       0.84      0.80      0.81      1523\n",
      "weighted avg       0.83      0.82      0.82      1523\n",
      "\n"
     ]
    }
   ],
   "source": [
    "print(classification_report(y_test, y_pred))"
   ]
  },
  {
   "cell_type": "code",
   "execution_count": 24,
   "id": "54a57239",
   "metadata": {},
   "outputs": [],
   "source": [
    "cm = confusion_matrix(y_test, y_pred)"
   ]
  },
  {
   "cell_type": "code",
   "execution_count": 25,
   "id": "a252347f",
   "metadata": {},
   "outputs": [
    {
     "data": {
      "text/plain": [
       "array([[807,  62],\n",
       "       [209, 445]], dtype=int64)"
      ]
     },
     "execution_count": 25,
     "metadata": {},
     "output_type": "execute_result"
    }
   ],
   "source": [
    "cm"
   ]
  },
  {
   "cell_type": "code",
   "execution_count": 30,
   "id": "4877aa3a",
   "metadata": {},
   "outputs": [
    {
     "data": {
      "text/plain": [
       "0                      just happened a terrible car crash\n",
       "1       heard about  earthquake is different cities  s...\n",
       "2       there is a forest fire at spot pond  geese are...\n",
       "3                apocalypse lighting   spokane  wildfires\n",
       "4             typhoon soudelor kills  in china and taiwan\n",
       "                              ...                        \n",
       "3258    earthquake safety los angeles   safety fastene...\n",
       "3259    storm in ri worse than last hurricane  my city...\n",
       "3260                    green line derailment in chicago \n",
       "3261          meg issues hazardous weather outlook  hwo  \n",
       "3262     cityofcalgary has activated its municipal eme...\n",
       "Name: text, Length: 3263, dtype: object"
      ]
     },
     "execution_count": 30,
     "metadata": {},
     "output_type": "execute_result"
    }
   ],
   "source": [
    "test.text"
   ]
  },
  {
   "cell_type": "code",
   "execution_count": 31,
   "id": "2bc9ad1a",
   "metadata": {},
   "outputs": [],
   "source": [
    "tfidf_test = tfidf.transform(test.text)"
   ]
  },
  {
   "cell_type": "code",
   "execution_count": 33,
   "id": "283baab2",
   "metadata": {},
   "outputs": [
    {
     "data": {
      "text/plain": [
       "<3263x14341 sparse matrix of type '<class 'numpy.float64'>'\n",
       "\twith 37004 stored elements in Compressed Sparse Row format>"
      ]
     },
     "execution_count": 33,
     "metadata": {},
     "output_type": "execute_result"
    }
   ],
   "source": [
    "tfidf_test"
   ]
  },
  {
   "cell_type": "code",
   "execution_count": 35,
   "id": "8a5e113e",
   "metadata": {},
   "outputs": [],
   "source": [
    "submission = pd.read_csv('sample_submission.csv')"
   ]
  },
  {
   "cell_type": "code",
   "execution_count": 36,
   "id": "6d0bea6a",
   "metadata": {},
   "outputs": [],
   "source": [
    "test_pred = model.predict(tfidf_test)"
   ]
  },
  {
   "cell_type": "code",
   "execution_count": 37,
   "id": "6e13fed7",
   "metadata": {},
   "outputs": [],
   "source": [
    "\n",
    "submission['target'] = test_pred.round().astype(int)\n",
    "submission.to_csv('submission.csv', index=False)"
   ]
  },
  {
   "cell_type": "code",
   "execution_count": null,
   "id": "86de9301",
   "metadata": {},
   "outputs": [],
   "source": []
  }
 ],
 "metadata": {
  "kernelspec": {
   "display_name": "Python 3 (ipykernel)",
   "language": "python",
   "name": "python3"
  },
  "language_info": {
   "codemirror_mode": {
    "name": "ipython",
    "version": 3
   },
   "file_extension": ".py",
   "mimetype": "text/x-python",
   "name": "python",
   "nbconvert_exporter": "python",
   "pygments_lexer": "ipython3",
   "version": "3.9.7"
  }
 },
 "nbformat": 4,
 "nbformat_minor": 5
}
